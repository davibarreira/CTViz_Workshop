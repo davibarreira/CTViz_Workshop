{
 "cells": [
  {
   "cell_type": "markdown",
   "id": "b0a90bcf-137d-4542-a616-ca4da6ed1899",
   "metadata": {},
   "source": [
    "# **Functional Programming**\n",
    "\n",
    "This is based on the book \"Learning Functionl Programming\" (Jack Widman) and\n",
    "\"Haskell Programming from First Principles\" (C. Allen, J. Moronuki, and S. Syrek).\n",
    "\n",
    "## What is Functional Programming?\n",
    "According to Widman there are three \"main\" programming paradigms: Imperative programming,\n",
    "Object-Oriented Programming, and Functional Programming.\n",
    "Imperative programming focuses on defining variables and control structures (e.g. loops, conditional),\n",
    "which are executed in a particular order to achieve a desired outcome.\n",
    "\n",
    "OOP models programs via objects and classes.\n",
    "A class is a template that describes the properties and methods that an object will have.\n",
    "An object is an instance of a class, and it has an internal state, which encapsulates\n",
    "the value mutation in the program. The program runs by instantiating objects\n",
    "that interact with each other to achieve a specific task.\n",
    "\n",
    "Finally, FP models programs as applying and composing functions.\n",
    "A function takes inputs and return outputs without mutating any values,\n",
    "which is also referred as not having side effects.\n",
    "\n",
    "Note that what we call a \"function\" in programming does not match what\n",
    "we call \"function\" in mathematics. In mathematics, more specifically Set Theory,\n",
    "a function $f:A \\to B$ is just a subset of $A\\times B$. In programming, a function\n",
    "is not simply a set, it contains an algorithmic description of how it works,\n",
    "and it can sometimes mutate variables outside of its scope.\n",
    "\n",
    "The Functional Programming paradigm imposes a series of \"restrictions\" in order to approximate\n",
    "a programming function to its mathematical counterpart. These \"restrictions\" are the tenets\n",
    "of FP and usually consist of the following (Allen et. al):\n",
    "- **Immutability**: once a value is assigned to a variable, it cannot change;\n",
    "- **Pure functions**: functions do not have side effects, i.e. do not alter values, they only receive inputs and return outputs.\n",
    "- **Referential transparency**: for the same input, a function always return the same output. An example that is not referentially transparent would be a function `rand()` that returns random numbers;\n",
    "- **First-class functions**: functions are similar to values, in that that they can be used as arguments, assigned to variables and be returned by other functions;\n",
    "- **Higher order functions**: functions can take other functions as arguments;\n",
    "- **Composability**: functions can be composed to define new functions;\n",
    "- **Lazy evaluation**: expressions can be evaluated only when needed.\n",
    "\n",
    "The emphasis of FP in controlling side effects\n",
    "makes programming functions similar to functions in Set Theory.\n",
    "\n",
    "## Is Julia an FP language?\n",
    "\n",
    "This question comes up a lot in Julia's forums. \"Is Julia a Functional Programming Language?\". The answer\n",
    "to this is \"not really\". For starters, Julia allows value mutation. FP is a paradigm, and there are\n",
    "programming languages that are more prone to FP than others. Thus, we can apply Functional Programming ideas\n",
    "to Julia (and even to Python)."
   ]
  },
  {
   "cell_type": "code",
   "execution_count": 1,
   "id": "858100b7-5f2a-4e78-bb6a-679e3a001df5",
   "metadata": {},
   "outputs": [
    {
     "name": "stderr",
     "output_type": "stream",
     "text": [
      "\u001b[32m\u001b[1m  Activating\u001b[22m\u001b[39m new project at `~/Documents/GitHub/CTViz_Workshop/Notebooks`\n"
     ]
    }
   ],
   "source": [
    "using Pkg\n",
    "Pkg.activate(\".\")"
   ]
  },
  {
   "cell_type": "markdown",
   "id": "36c020f4-b7f5-45a0-b07c-bca87a6f6195",
   "metadata": {},
   "source": [
    "## Immutability\n",
    "Variables in Julia are not immutable. We can do `x = 1` and follow with `x = \"text\"`. This\n",
    "will alter the value of variable `x`."
   ]
  },
  {
   "cell_type": "code",
   "execution_count": 9,
   "id": "e3476f79-aed9-413e-b1a9-e9598558c8b2",
   "metadata": {},
   "outputs": [
    {
     "name": "stdout",
     "output_type": "stream",
     "text": [
      "x = 1\n",
      "x = \"text\"\n"
     ]
    }
   ],
   "source": [
    "x = 1\n",
    "@show x\n",
    "\n",
    "x = \"text\"\n",
    "@show x;"
   ]
  },
  {
   "cell_type": "markdown",
   "id": "834af21c-e12f-45ca-bf3c-87fb415e25b0",
   "metadata": {},
   "source": [
    "Yet, types are immutable. Once a type is constructed, it\n",
    "cannot be modified. Suppose you define the following type:"
   ]
  },
  {
   "cell_type": "code",
   "execution_count": 10,
   "id": "37fc3365-526f-436b-8cc6-8cdcf4dc9b27",
   "metadata": {},
   "outputs": [],
   "source": [
    "struct MyType\n",
    "    a::Int\n",
    "    b::Int\n",
    "end"
   ]
  },
  {
   "cell_type": "markdown",
   "id": "0d4c04ce-40dd-47a8-a7b5-4210a6e4dadb",
   "metadata": {},
   "source": [
    "Once `MyType` has been created, you cannot modify it. If you try to recreate it by copying\n",
    "the code above, but using `a::String` instead of `a::Int`, you will incur in an error. Another\n",
    "point to note is that structs are by default immutable types, as shown in the example below."
   ]
  },
  {
   "cell_type": "code",
   "execution_count": 11,
   "id": "907eedbd-5025-4174-bbc7-85dd1af7d726",
   "metadata": {},
   "outputs": [
    {
     "data": {
      "text/plain": [
       "(1, 2)"
      ]
     },
     "execution_count": 11,
     "metadata": {},
     "output_type": "execute_result"
    }
   ],
   "source": [
    "x = MyType(1,2);\n",
    "x.a, x.b"
   ]
  },
  {
   "cell_type": "code",
   "execution_count": 12,
   "id": "e7667b38-c6f3-4bd7-9b01-50f4cb3136da",
   "metadata": {},
   "outputs": [
    {
     "ename": "LoadError",
     "evalue": "setfield!: immutable struct of type MyType cannot be changed",
     "output_type": "error",
     "traceback": [
      "setfield!: immutable struct of type MyType cannot be changed",
      "",
      "Stacktrace:",
      " [1] setproperty!(x::MyType, f::Symbol, v::Int64)",
      "   @ Base ./Base.jl:53",
      " [2] top-level scope",
      "   @ In[12]:1"
     ]
    }
   ],
   "source": [
    "x.a = 1"
   ]
  },
  {
   "cell_type": "markdown",
   "id": "4de00d32-88af-4170-8a29-64bc74f94c6e",
   "metadata": {},
   "source": [
    "A way around this is to define a mutable struct. Although, this is often discouraged due to\n",
    "efficiency concerns"
   ]
  },
  {
   "cell_type": "markdown",
   "id": "86a70d4f-e189-46c4-8ac9-8d8f2eec7112",
   "metadata": {},
   "source": [
    "## Side Effects, Pure Functions and Referential Transparency\n",
    "\n",
    "Functions in Julia are not necessarily pure. It is up to the user to control the possible side\n",
    "effects of a function. The language convention is to name functions with an exclamation to\n",
    "indicate that they have side effects. This is just a notation. A function with an exclamation\n",
    "can still be pure, and a function without can still produce side effects. Consider the example\n",
    "below:\n"
   ]
  },
  {
   "cell_type": "code",
   "execution_count": 16,
   "id": "3ecfcdc6-e84b-45f0-93fb-7de87b074294",
   "metadata": {},
   "outputs": [
    {
     "data": {
      "text/plain": [
       "1-element Vector{Any}:\n",
       " 1"
      ]
     },
     "execution_count": 16,
     "metadata": {},
     "output_type": "execute_result"
    }
   ],
   "source": [
    "x = []\n",
    "function f!(x)\n",
    "    push!(x,1)\n",
    "end\n",
    "\n",
    "f!(x);\n",
    "x"
   ]
  },
  {
   "cell_type": "markdown",
   "id": "c39fa7ee-d228-492e-9345-14e482ec7227",
   "metadata": {},
   "source": [
    "One can use a macro `@pure` to indicate to the compiler that a function is pure. This can\n",
    "improve performance, but does not actually make the function pure, which is again left to\n",
    "the programmer to do. Hence, functions are not pure, and neither are they referentially\n",
    "transparent. For example:"
   ]
  },
  {
   "cell_type": "code",
   "execution_count": 17,
   "id": "36e6c2c3-d3b9-4052-b729-1e6b46d86104",
   "metadata": {},
   "outputs": [
    {
     "data": {
      "text/plain": [
       "1-element Vector{Float64}:\n",
       " 0.06239466038729924"
      ]
     },
     "execution_count": 17,
     "metadata": {},
     "output_type": "execute_result"
    }
   ],
   "source": [
    "rand(1)"
   ]
  },
  {
   "cell_type": "code",
   "execution_count": 20,
   "id": "e3edf23c-1575-4721-b38c-968c0bc99865",
   "metadata": {},
   "outputs": [
    {
     "data": {
      "text/plain": [
       "false"
      ]
     },
     "execution_count": 20,
     "metadata": {},
     "output_type": "execute_result"
    }
   ],
   "source": [
    "rand(1) == rand(1)"
   ]
  },
  {
   "cell_type": "markdown",
   "id": "4a31d22c-fa7e-4ddd-a52c-e01a3b5d81b6",
   "metadata": {},
   "source": [
    "There are (not to our knowledge) any notation recommended by the Julia community to\n",
    "indicate that a function is not referentially transparent."
   ]
  },
  {
   "cell_type": "markdown",
   "id": "200f29af-7918-42bc-9a36-486021e1cb9d",
   "metadata": {},
   "source": [
    "## First-Class, High Order Functions and Composability\n",
    "Functions are first-class citizens, meaning that they can be passed around as variables. They\n",
    "can also be anonymous or named:"
   ]
  },
  {
   "cell_type": "code",
   "execution_count": 24,
   "id": "e2493890-b44d-447f-8635-7b1491211aff",
   "metadata": {},
   "outputs": [
    {
     "data": {
      "text/plain": [
       "4"
      ]
     },
     "execution_count": 24,
     "metadata": {},
     "output_type": "execute_result"
    }
   ],
   "source": [
    "function f(x::Int)\n",
    "    return x^2\n",
    "end\n",
    "g = f;\n",
    "g(2)"
   ]
  },
  {
   "cell_type": "code",
   "execution_count": 23,
   "id": "131334a3-3976-46f7-9eeb-58fb86db64a5",
   "metadata": {},
   "outputs": [
    {
     "data": {
      "text/plain": [
       "9"
      ]
     },
     "execution_count": 23,
     "metadata": {},
     "output_type": "execute_result"
    }
   ],
   "source": [
    "h = x::Int -> x^2;\n",
    "h(3)"
   ]
  },
  {
   "cell_type": "markdown",
   "id": "6999ea2f-cece-467e-bca5-e806da8fce22",
   "metadata": {},
   "source": [
    "There is an abstract type `Function` for functions. When a function is defined, a new type\n",
    "specific for such function is created. For named functions, the type is actually named\n",
    "`typeof(name_of_function)`. For anonymous function, a type is generated by the compiler."
   ]
  },
  {
   "cell_type": "code",
   "execution_count": 25,
   "id": "badd3efc-dc83-471d-81bf-b55bee3170b2",
   "metadata": {},
   "outputs": [
    {
     "data": {
      "text/plain": [
       "typeof(f) (singleton type of function f, subtype of Function)"
      ]
     },
     "execution_count": 25,
     "metadata": {},
     "output_type": "execute_result"
    }
   ],
   "source": [
    "function f(x::Int)\n",
    "    return x^2\n",
    "end\n",
    "typeof(f)\n"
   ]
  },
  {
   "cell_type": "code",
   "execution_count": 26,
   "id": "21d5ed0c-2c68-49bc-999f-c9d44390cdf6",
   "metadata": {},
   "outputs": [
    {
     "data": {
      "text/plain": [
       "var\"#3#4\""
      ]
     },
     "execution_count": 26,
     "metadata": {},
     "output_type": "execute_result"
    }
   ],
   "source": [
    "typeof(x->x)"
   ]
  },
  {
   "cell_type": "code",
   "execution_count": 27,
   "id": "d8579cab-b053-487f-91dd-6cc30b631de0",
   "metadata": {},
   "outputs": [
    {
     "data": {
      "text/plain": [
       "var\"#5#6\""
      ]
     },
     "execution_count": 27,
     "metadata": {},
     "output_type": "execute_result"
    }
   ],
   "source": [
    "typeof(x->x)"
   ]
  },
  {
   "cell_type": "markdown",
   "id": "a027dc4a-d167-4195-996e-80bafa5e3191",
   "metadata": {},
   "source": [
    "Since functions are first-class citizens, we also have high-order functions at our disposal.\n",
    "A common example in FP languages is a function `map(f::Function, A::AbstractArray)`,\n",
    "which takes a function and applies it to the elements of an array. Julia provides a do-block as\n",
    "a convenient syntax for passing an anonymous function as the first argument to higher-order\n",
    "functions:"
   ]
  },
  {
   "cell_type": "code",
   "execution_count": 31,
   "id": "10805d16-073c-48d0-a56e-fa01287989f4",
   "metadata": {},
   "outputs": [
    {
     "data": {
      "text/plain": [
       "3-element Vector{Int64}:\n",
       " 1\n",
       " 4\n",
       " 9"
      ]
     },
     "execution_count": 31,
     "metadata": {},
     "output_type": "execute_result"
    }
   ],
   "source": [
    "# Without do-notation\n",
    "map(x -> x^2, [1, 2, 3])"
   ]
  },
  {
   "cell_type": "code",
   "execution_count": 32,
   "id": "1cf175e9-bbd4-4594-bde2-a46b7e7463d2",
   "metadata": {},
   "outputs": [
    {
     "data": {
      "text/plain": [
       "3-element Vector{Int64}:\n",
       " 1\n",
       " 4\n",
       " 9"
      ]
     },
     "execution_count": 32,
     "metadata": {},
     "output_type": "execute_result"
    }
   ],
   "source": [
    "# With do-notation\n",
    "map([1, 2, 3]) do x\n",
    "    x^2\n",
    "end"
   ]
  },
  {
   "cell_type": "markdown",
   "id": "829efff4-2ea7-4902-b392-7334a1051a63",
   "metadata": {},
   "source": [
    "We also have function composition at our disposal. Composition is performed with the\n",
    "operator $\\circ$. Julia does not enforce the output type of a function, therefore, it is possible\n",
    "to compose functions that do not have matching types. Again, the responsibility is in the\n",
    "programmer to guarantee that the functions composed actually work together."
   ]
  },
  {
   "cell_type": "code",
   "execution_count": 36,
   "id": "9644381e-1982-422f-8e2c-16a0a923203c",
   "metadata": {},
   "outputs": [],
   "source": [
    "function f(x::Int)\n",
    "    x + 1\n",
    "end\n",
    "\n",
    "function l(x::String)\n",
    "    return length(x) ∗ 2\n",
    "end\n",
    "h = l ∘ f;"
   ]
  },
  {
   "cell_type": "code",
   "execution_count": 38,
   "id": "f353c843-ca53-4845-a298-e61bfe451549",
   "metadata": {},
   "outputs": [
    {
     "ename": "LoadError",
     "evalue": "MethodError: no method matching l(::Int64)\nThe function `l` exists, but no method is defined for this combination of argument types.\n\n\u001b[0mClosest candidates are:\n\u001b[0m  l(\u001b[91m::String\u001b[39m)\n\u001b[0m\u001b[90m   @\u001b[39m \u001b[35mMain\u001b[39m \u001b[90m\u001b[4mIn[36]:5\u001b[24m\u001b[39m\n",
     "output_type": "error",
     "traceback": [
      "MethodError: no method matching l(::Int64)\nThe function `l` exists, but no method is defined for this combination of argument types.\n\n\u001b[0mClosest candidates are:\n\u001b[0m  l(\u001b[91m::String\u001b[39m)\n\u001b[0m\u001b[90m   @\u001b[39m \u001b[35mMain\u001b[39m \u001b[90m\u001b[4mIn[36]:5\u001b[24m\u001b[39m\n",
      "",
      "Stacktrace:",
      " [1] call_composed",
      "   @ ./operators.jl:1053 [inlined]",
      " [2] (::ComposedFunction{typeof(l), typeof(f)})(x::Int64; kw::@Kwargs{})",
      "   @ Base ./operators.jl:1050",
      " [3] top-level scope",
      "   @ In[38]:1"
     ]
    }
   ],
   "source": [
    "h(1)"
   ]
  },
  {
   "cell_type": "markdown",
   "id": "1b67ed03-2cf4-4d39-a944-f79d553c8f89",
   "metadata": {},
   "source": [
    "## Lazy Evaluation\n",
    "\n",
    "In Julia we do not have lazy evaluation as standard, on the contrary, our code is eagerly\n",
    "evaluated. This means that once we call a function, it evaluates all the parameters. We can\n",
    "alter our code to try to make it lazy. To do this, we use iterators. Consider the following\n",
    "example:"
   ]
  },
  {
   "cell_type": "code",
   "execution_count": 48,
   "id": "cae04000-2c62-488c-86dd-fe24926555ea",
   "metadata": {},
   "outputs": [
    {
     "data": {
      "text/plain": [
       "UnitRange{Int64}"
      ]
     },
     "execution_count": 48,
     "metadata": {},
     "output_type": "execute_result"
    }
   ],
   "source": [
    "imap = Iterators.map # version of `map` that returns an iterable\n",
    "take = Iterators.take # returns the `n` first values of an iterable.\n",
    "squarelazy(nums) = imap(x->x+1,nums)\n",
    "squareeager(nums) = map(x->x+1,nums)\n",
    "\n",
    "x = 1:3 # iterator from 1 to 3, represeting a lazy list\n",
    "\n",
    "typeof(x)"
   ]
  },
  {
   "cell_type": "code",
   "execution_count": 49,
   "id": "f154799f-7a4e-46fb-8595-6793e842fb1d",
   "metadata": {},
   "outputs": [
    {
     "data": {
      "text/plain": [
       "3-element Vector{Int64}:\n",
       " 1\n",
       " 2\n",
       " 3"
      ]
     },
     "execution_count": 49,
     "metadata": {},
     "output_type": "execute_result"
    }
   ],
   "source": [
    "collect(x)"
   ]
  },
  {
   "cell_type": "code",
   "execution_count": 50,
   "id": "995bffbd-d0be-4116-8de5-0e0a9ad96916",
   "metadata": {},
   "outputs": [
    {
     "data": {
      "text/plain": [
       "Base.Generator{UnitRange{Int64}, var\"#39#40\"}(var\"#39#40\"(), 1:3)"
      ]
     },
     "execution_count": 50,
     "metadata": {},
     "output_type": "execute_result"
    }
   ],
   "source": [
    "squarelazy(x)"
   ]
  },
  {
   "cell_type": "markdown",
   "id": "aaa310b7-5434-43f5-9c9f-ffa1942ea914",
   "metadata": {},
   "source": [
    "Note that our function squarelazy returned `Base.Generator` which works as a lazy iterator.\n",
    "We can use the collect function to actually evaluate our iterator."
   ]
  },
  {
   "cell_type": "code",
   "execution_count": 51,
   "id": "e756974a-f42c-4aaf-8c7a-812e45d8af88",
   "metadata": {},
   "outputs": [
    {
     "data": {
      "text/plain": [
       "3-element Vector{Int64}:\n",
       " 2\n",
       " 3\n",
       " 4"
      ]
     },
     "execution_count": 51,
     "metadata": {},
     "output_type": "execute_result"
    }
   ],
   "source": [
    "collect(squarelazy(x))"
   ]
  }
 ],
 "metadata": {
  "kernelspec": {
   "display_name": "Julia 1.11.2",
   "language": "julia",
   "name": "julia-1.11"
  },
  "language_info": {
   "file_extension": ".jl",
   "mimetype": "application/julia",
   "name": "julia",
   "version": "1.11.2"
  }
 },
 "nbformat": 4,
 "nbformat_minor": 5
}
