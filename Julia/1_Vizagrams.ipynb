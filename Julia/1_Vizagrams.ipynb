{
 "cells": [
  {
   "cell_type": "code",
   "execution_count": 2,
   "id": "a0b11ded-236f-4ecc-af6b-4be5b8153b0d",
   "metadata": {},
   "outputs": [
    {
     "name": "stderr",
     "output_type": "stream",
     "text": [
      "\u001b[32m\u001b[1m  Activating\u001b[22m\u001b[39m project at `~/Documents/GitHub/CTViz_Workshop/Julia`\n"
     ]
    }
   ],
   "source": [
    "using Pkg\n",
    "Pkg.activate(\".\")"
   ]
  },
  {
   "cell_type": "code",
   "execution_count": 3,
   "id": "a7f27c6b-92c6-4f95-8c39-43024c1e16d3",
   "metadata": {},
   "outputs": [
    {
     "name": "stderr",
     "output_type": "stream",
     "text": [
      "\u001b[36m\u001b[1m[ \u001b[22m\u001b[39m\u001b[36m\u001b[1mInfo: \u001b[22m\u001b[39mPrecompiling Vizagrams [8c229dad-8b3a-4031-83d6-73545c88426d] (cache misses: wrong dep version loaded (2), incompatible header (12), dep missing source (6))\n"
     ]
    }
   ],
   "source": [
    "using Vizagrams"
   ]
  },
  {
   "cell_type": "code",
   "execution_count": 4,
   "id": "a7a9a346-76a7-4c5d-a828-e250e7f6776b",
   "metadata": {},
   "outputs": [
    {
     "data": {
      "image/svg+xml": [
       "<?xml version=\"1.0\" encoding=\"UTF-8\"?>\n",
       "<svg height=\"300\" viewBox=\"-1.0333333333333334 -1.0333333333333334 2.066666666666667 2.066666666666667\" width=\"300.0\" preserveAspectRatio=\"xMidYMid meet\"><circle cy=\"0\" style=\"vector-effect: non-scaling-stroke; \" r=\"1\" transform=\"scale(1,-1)\" cx=\"0\" /></svg>"
      ],
      "text/html": [
       "<svg height=\"300\" viewBox=\"-1.0333333333333334 -1.0333333333333334 2.066666666666667 2.066666666666667\" width=\"300.0\" preserveAspectRatio=\"xMidYMid meet\"><circle cy=\"0\" style=\"vector-effect: non-scaling-stroke; \" r=\"1\" transform=\"scale(1,-1)\" cx=\"0\" /></svg>"
      ],
      "text/plain": [
       "<svg height=\"300\" viewBox=\"-1.0333333333333334 -1.0333333333333334 2.066666666666667 2.066666666666667\" width=\"300.0\" preserveAspectRatio=\"xMidYMid meet\"><circle cy=\"0\" style=\"vector-effect: non-scaling-stroke; \" r=\"1\" transform=\"scale(1,-1)\" cx=\"0\" /></svg>"
      ]
     },
     "execution_count": 4,
     "metadata": {},
     "output_type": "execute_result"
    }
   ],
   "source": [
    "d = Circle()\n",
    "\n",
    "draw(d)"
   ]
  },
  {
   "cell_type": "code",
   "execution_count": 13,
   "id": "2ffaed37-c713-4867-9dc5-b8634b78a03c",
   "metadata": {},
   "outputs": [
    {
     "data": {
      "image/svg+xml": [
       "<?xml version=\"1.0\" encoding=\"UTF-8\"?>\n",
       "<svg height=\"300\" width=\"1000\"></svg>"
      ],
      "text/html": [
       "<svg height=\"300\" width=\"1000\"></svg>"
      ],
      "text/plain": [
       "<svg height=\"300\" width=\"1000\"></svg>"
      ]
     },
     "execution_count": 13,
     "metadata": {},
     "output_type": "execute_result"
    }
   ],
   "source": [
    "d = S()TextMark(text=\"\")\n",
    "draw(d)\n",
    "\n",
    "# envelope(d,[1,0])"
   ]
  },
  {
   "cell_type": "code",
   "execution_count": 16,
   "id": "7f7dbdcb-05ff-4d04-8963-de505e8834c5",
   "metadata": {},
   "outputs": [],
   "source": [
    "TextGeom(fontsize=15, text=\"hello\")\n",
    "TextGeom(\"hello\", [0, 0], 15, 0, \"Helvetica\")\n",
    "\n",
    "envelope(TextGeom(fontsize=15, text=\"\"), S(), [1,0])"
   ]
  },
  {
   "cell_type": "code",
   "execution_count": 22,
   "id": "031d5c08-7b8e-4843-aa08-e0d45415893a",
   "metadata": {},
   "outputs": [
    {
     "ename": "LoadError",
     "evalue": "BoundsError: attempt to access 0-element Vector{Vector{Vector{Float32}}} at index [1]",
     "output_type": "error",
     "traceback": [
      "BoundsError: attempt to access 0-element Vector{Vector{Vector{Float32}}} at index [1]",
      "",
      "Stacktrace:",
      " [1] throw_boundserror(A::Vector{Vector{Vector{Float32}}}, I::Tuple{Int64})",
      "   @ Base ./essentials.jl:14",
      " [2] getindex",
      "   @ ./essentials.jl:916 [inlined]",
      " [3] stringinkbox(face::FreeTypeAbstraction.FTFont, str::String)",
      "   @ Vizagrams ~/.julia/packages/Vizagrams/mVsVF/src/primitives/envelopes.jl:96",
      " [4] top-level scope",
      "   @ In[22]:1"
     ]
    }
   ],
   "source": [
    "Vizagrams.stringinkbox(Vizagrams.load_font(\"helvetica\"),\"\")"
   ]
  }
 ],
 "metadata": {
  "kernelspec": {
   "display_name": "Julia 1.11.2",
   "language": "julia",
   "name": "julia-1.11"
  },
  "language_info": {
   "file_extension": ".jl",
   "mimetype": "application/julia",
   "name": "julia",
   "version": "1.11.2"
  }
 },
 "nbformat": 4,
 "nbformat_minor": 5
}
