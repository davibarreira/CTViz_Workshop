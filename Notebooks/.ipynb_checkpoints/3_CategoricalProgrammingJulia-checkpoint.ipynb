{
 "cells": [
  {
   "cell_type": "markdown",
   "id": "bd95840e-3a69-4f55-ae5c-d262701b15fd",
   "metadata": {},
   "source": [
    "# Categorical Programming with Julia\n",
    "\n",
    "Our interpretation of Category Theory within Julia is mostly based on \"Category Theory for Programmers\" (by Milewski). The\n",
    "starting point is to interpret data types (e.g. Int, String,Float) as sets, subtypes as subsets\n",
    "and programming functions as set-functions, so that we can consider to be working within\n",
    "**Set**. Once this has been established, we can start to to model categorical concepts."
   ]
  },
  {
   "cell_type": "markdown",
   "id": "4c2af91a-f896-49f7-bcb9-af84235c7a89",
   "metadata": {},
   "source": [
    "## Initial and Terminal Objects"
   ]
  },
  {
   "cell_type": "markdown",
   "id": "91b3e9b7-044f-4088-a1e1-52c988d2cd1e",
   "metadata": {},
   "source": [
    "We know that in **Set** the ∅ set is the initial object. In Julia, the initial object corresponds to\n",
    "type Union{}. This type is also known as Base.Bottom, and it is a subtype of every type in\n",
    "Julia, including itself, just like how ∅ is a subset of every other set, including itself."
   ]
  },
  {
   "cell_type": "code",
   "execution_count": 1,
   "id": "ee6fd5c1-8845-4bfc-800f-39b7152b5510",
   "metadata": {},
   "outputs": [
    {
     "data": {
      "text/plain": [
       "(true, true, true)"
      ]
     },
     "execution_count": 1,
     "metadata": {},
     "output_type": "execute_result"
    }
   ],
   "source": [
    "Union{} <: Int, Union{} <: Nothing, Union{} <: Union{}"
   ]
  },
  {
   "cell_type": "markdown",
   "id": "c5fe8846-b6ea-47f4-9366-1794f6b461f4",
   "metadata": {},
   "source": [
    "Note that a function $f:\\varnothing \\to A$ cannot ever be called, since we cannot\n",
    "provide an element of $\\varnothing$. In the same way, a function\n",
    "f(x::Union{}) cannot be called, because there is no instance of type Union{}.\n",
    "\n",
    "A terminal object in $\\mathbf{Set}$ is any singleton set.\n",
    "Thus, the equivalent for a terminal object is any type with only a single possible instance.\n",
    "Therefore, just like it happens in $\\mathbf{Set}$, we have various types\n",
    "isomorphic to each other, and all representing the terminal object.\n",
    "For example, type Nothing has only a value `nothing`,\n",
    "type Tuple{} has only `()` as an element, and so on.\n",
    "We can also define more terminal types using structs:\n"
   ]
  },
  {
   "cell_type": "code",
   "execution_count": 2,
   "id": "628ee605-16d7-4c0b-8def-fd6d09475c6f",
   "metadata": {},
   "outputs": [
    {
     "data": {
      "text/plain": [
       "true"
      ]
     },
     "execution_count": 2,
     "metadata": {},
     "output_type": "execute_result"
    }
   ],
   "source": [
    "struct Terminal end\n",
    "Base.issingletontype(Terminal)"
   ]
  },
  {
   "cell_type": "markdown",
   "id": "c1c272eb-8554-4a6e-b19a-f59f5622c39a",
   "metadata": {},
   "source": [
    "The only element of our type Terminal is Terminal()."
   ]
  },
  {
   "cell_type": "markdown",
   "id": "4633f8b1-25bc-4f66-896e-ff318ab467b7",
   "metadata": {},
   "source": [
    "## Interpreting Values\n",
    "\n",
    "Now that we have showed that Julia has terminal objects, we can also formally interpret\n",
    "instances of types. In Category Theory, we cannot talk about what composes an object, only\n",
    "how morphisms act on them. Hence, if we wish to interpret programming within a category,\n",
    "we need to reinterpret what a value of a type is.\n",
    "\n",
    "The answer for this question is in Set. The number of functions going from a singleton set\n",
    "{a} to an arbitrary set A is equal to the number of elements in A. Therefore, each element\n",
    "x∈ A is isomorphic to a morphism x: {a} → A. This suggests that an instance of a certain\n",
    "type T can be interpreted as a morphism (function) from a singleton type to T, e.g. the value\n",
    "1::Int is the same as a function 1(::Nothing).\n",
    "\n",
    "When programming, this convoluted representation is not necessary. Yet, it allows us to talk\n",
    "about instances of types without leaving our categorical interpretative framework."
   ]
  },
  {
   "cell_type": "code",
   "execution_count": 21,
   "id": "87284c71-4d9e-4e4f-a4f9-16a257102dea",
   "metadata": {},
   "outputs": [
    {
     "data": {
      "text/plain": [
       "true"
      ]
     },
     "execution_count": 21,
     "metadata": {},
     "output_type": "execute_result"
    }
   ],
   "source": [
    "# Regular way\n",
    "A = 1\n",
    "\n",
    "# Defining A as a function with no arguments\n",
    "A = () -> 1\n",
    "A() == 1"
   ]
  },
  {
   "cell_type": "markdown",
   "id": "fc5fea40-1224-4825-8010-c8580d409779",
   "metadata": {},
   "source": [
    "## Products and Co-products\n",
    "\n",
    "In **Set**, we have the product of two sets is the Cartesian product, and the co-product is the\n",
    "disjoint union. The same can be applied for types. The Tuple{Type1, Type2} is the product\n",
    "of Type1 and Type2, while Union{Type1,Type2} is the co-product."
   ]
  },
  {
   "cell_type": "code",
   "execution_count": 22,
   "id": "1778d6b9-b0b2-46e2-9753-7082890944c0",
   "metadata": {},
   "outputs": [
    {
     "data": {
      "text/plain": [
       "true"
      ]
     },
     "execution_count": 22,
     "metadata": {},
     "output_type": "execute_result"
    }
   ],
   "source": [
    "(\"a\", 1) isa Tuple{String,Int}"
   ]
  },
  {
   "cell_type": "code",
   "execution_count": 23,
   "id": "9a0b5ad6-4476-4c8e-a9f0-baf6af048ebb",
   "metadata": {},
   "outputs": [
    {
     "data": {
      "text/plain": [
       "(true, true)"
      ]
     },
     "execution_count": 23,
     "metadata": {},
     "output_type": "execute_result"
    }
   ],
   "source": [
    "Int <: Union{String,Int}, String <: Union{String,Int}"
   ]
  },
  {
   "cell_type": "code",
   "execution_count": 24,
   "id": "f18177d2-ede9-4a3e-a4e3-350e9507cf2a",
   "metadata": {},
   "outputs": [
    {
     "data": {
      "text/plain": [
       "(true, true)"
      ]
     },
     "execution_count": 24,
     "metadata": {},
     "output_type": "execute_result"
    }
   ],
   "source": [
    "1 isa Union{String,Int}, \"a\" isa Union{String,Int}"
   ]
  },
  {
   "cell_type": "markdown",
   "id": "029b3b9a-cabd-48fb-b3c8-f54174b91f7b",
   "metadata": {},
   "source": [
    "We can also define types for infinite products using Vararg. For example:"
   ]
  },
  {
   "cell_type": "code",
   "execution_count": 26,
   "id": "7bc7451c-67e6-4645-8b97-c651d5c923a3",
   "metadata": {},
   "outputs": [
    {
     "data": {
      "text/plain": [
       "Tuple{Vararg{Int64}}"
      ]
     },
     "execution_count": 26,
     "metadata": {},
     "output_type": "execute_result"
    }
   ],
   "source": [
    "FinSeq = Tuple{Vararg{Int}}"
   ]
  },
  {
   "cell_type": "code",
   "execution_count": 29,
   "id": "387ce9c3-69a1-4094-9026-b921f938e960",
   "metadata": {},
   "outputs": [
    {
     "data": {
      "text/plain": [
       "true"
      ]
     },
     "execution_count": 29,
     "metadata": {},
     "output_type": "execute_result"
    }
   ],
   "source": [
    "(1,2) isa FinSeq"
   ]
  },
  {
   "cell_type": "code",
   "execution_count": 30,
   "id": "97d4ad45-ffbc-4540-a4ac-451986965056",
   "metadata": {},
   "outputs": [
    {
     "data": {
      "text/plain": [
       "true"
      ]
     },
     "execution_count": 30,
     "metadata": {},
     "output_type": "execute_result"
    }
   ],
   "source": [
    "(1,2,3,4,5) isa FinSeq"
   ]
  },
  {
   "cell_type": "markdown",
   "id": "4555aace-b949-48f7-8db1-948a59ac6418",
   "metadata": {},
   "source": [
    "## Functors"
   ]
  },
  {
   "cell_type": "markdown",
   "id": "f827d5a9-296c-474f-ad96-e6b9d489cb3e",
   "metadata": {},
   "source": [
    "A functor acts on categories, taking objects to objects, morphisms to morphisms, while\n",
    "preserving compositions and identities. Therefore, a functor must take types and return types,\n",
    "take functions and return functions, and it must satisfy the composition and the identity\n",
    "properties. The functors that interests us are the endofunctors over Set, i.e. F : Set → Set.\n",
    "\n",
    "This can be modeled by a parametric struct F{T} together with a higher-order function\n",
    "fmap(f::Function, x::F{T}). Consider the following example:"
   ]
  },
  {
   "cell_type": "code",
   "execution_count": 32,
   "id": "7f871510-1d54-40af-866f-9b3bf9324ffd",
   "metadata": {},
   "outputs": [
    {
     "data": {
      "text/plain": [
       "F{Int64}(1, 2)"
      ]
     },
     "execution_count": 32,
     "metadata": {},
     "output_type": "execute_result"
    }
   ],
   "source": [
    "struct F{T}\n",
    "    x::T\n",
    "    y::T\n",
    "end\n",
    "fmap(f::Function, a::F{T}) where T = F(f(a.x), f(a.y))\n",
    "F(f::Function) = a -> fmap(f,a);\n",
    "a = F(1,2)"
   ]
  },
  {
   "cell_type": "code",
   "execution_count": 34,
   "id": "8bccf75b-fbab-4bd4-8fe9-019dec7247e2",
   "metadata": {},
   "outputs": [
    {
     "data": {
      "text/plain": [
       "F{Int64}(2, 4)"
      ]
     },
     "execution_count": 34,
     "metadata": {},
     "output_type": "execute_result"
    }
   ],
   "source": [
    "id(x) = x\n",
    "f(x) = x*2\n",
    "g(x) = x^2\n",
    "fmap(f, a)"
   ]
  },
  {
   "cell_type": "code",
   "execution_count": 35,
   "id": "4eae4bfe-d697-43df-9241-db76c6e6efcc",
   "metadata": {},
   "outputs": [
    {
     "data": {
      "text/plain": [
       "F{Int64}(2, 4)"
      ]
     },
     "execution_count": 35,
     "metadata": {},
     "output_type": "execute_result"
    }
   ],
   "source": [
    "F(f)(a)"
   ]
  },
  {
   "cell_type": "code",
   "execution_count": 37,
   "id": "0dc3055a-d8b2-4760-8e83-c91be365084b",
   "metadata": {},
   "outputs": [
    {
     "data": {
      "text/plain": [
       "true"
      ]
     },
     "execution_count": 37,
     "metadata": {},
     "output_type": "execute_result"
    }
   ],
   "source": [
    "(F(f) ∘ F(g))(a) == F(f ∘ g)(a)"
   ]
  },
  {
   "cell_type": "code",
   "execution_count": 38,
   "id": "bab7fb4d-f1f2-4889-94e8-bdecc5663883",
   "metadata": {},
   "outputs": [
    {
     "data": {
      "text/plain": [
       "F{Int64}(1, 2)"
      ]
     },
     "execution_count": 38,
     "metadata": {},
     "output_type": "execute_result"
    }
   ],
   "source": [
    "F(id)(a)"
   ]
  },
  {
   "cell_type": "markdown",
   "id": "2346ce4b-34e7-4174-b5be-c8986c8e706d",
   "metadata": {},
   "source": [
    "So why is this implementation a functor? Because, F defines takes types T to types F{T},\n",
    "while the fmap encodes how F acts on functions, i.e. it defines F(f). Moreover, it preserves\n",
    "composition and identity, as shown above.\n",
    "\n",
    "Note that just being a parametric type with an fmap does not guarantee that it is a functor in\n",
    "the categorical sense. It is the user who must check that the specific implementation satisfies\n",
    "the theoretical properties for a functor. Next, let us do some other examples."
   ]
  },
  {
   "cell_type": "markdown",
   "id": "106edade-a687-48df-83ff-c7a4e85e5f94",
   "metadata": {},
   "source": [
    "#### Identity Functor\n",
    "It takes every type T to itself, and every function f to itself."
   ]
  },
  {
   "cell_type": "code",
   "execution_count": 48,
   "id": "e3043710-82d1-48ed-9d9c-5ee86085d7b5",
   "metadata": {},
   "outputs": [
    {
     "data": {
      "text/plain": [
       "fmap (generic function with 2 methods)"
      ]
     },
     "execution_count": 48,
     "metadata": {},
     "output_type": "execute_result"
    }
   ],
   "source": [
    "struct Id{T}\n",
    "    value::T\n",
    "end\n",
    "\n",
    "fmap(f::Function, i::Id{T}) where T = Id(f(i.value))"
   ]
  },
  {
   "cell_type": "markdown",
   "id": "284e8b21-7699-4885-8e82-8bcceee0313b",
   "metadata": {},
   "source": [
    "The Id functor just wraps values into the Id struct. To apply the fmap with a function f\n",
    "is effectively the same as applying f directly. Note that, technically speaking, our functor\n",
    "Id is taking a type T to Id{T}, which is different leaving it as T. Yet, it is easy to see that\n",
    "the Id{T} type is isomorphic to type T, hence, for our categorical interpretation they are the\n",
    "same object."
   ]
  },
  {
   "cell_type": "markdown",
   "id": "0b75becd-e9b5-4a1c-a382-4b5f1950b65e",
   "metadata": {},
   "source": [
    "#### Array  as a Functor\n",
    "\n",
    "There are many other examples of functors. Another very useful one are arrays. Note that\n",
    "an array takes a type T and returns a type Array{T}. Julia has a function map defined on\n",
    "arrays that do what our fmap would do."
   ]
  },
  {
   "cell_type": "code",
   "execution_count": 50,
   "id": "52f25b44-a886-46d9-82f4-dfba78d20b9f",
   "metadata": {},
   "outputs": [
    {
     "data": {
      "text/plain": [
       "3-element Vector{Int64}:\n",
       " 1\n",
       " 4\n",
       " 9"
      ]
     },
     "execution_count": 50,
     "metadata": {},
     "output_type": "execute_result"
    }
   ],
   "source": [
    "fmap(f::Function, v::Array{T}) where T = map(f,v)\n",
    "\n",
    "A = [1,2,3]\n",
    "\n",
    "fmap(x->x^2, [1,2,3])"
   ]
  },
  {
   "cell_type": "markdown",
   "id": "fdfac06b-5cca-401b-84fd-d3c219c6821a",
   "metadata": {},
   "source": [
    "#### Maybe Functor\n",
    "Let us end this subsection with functor Maybe (also called Option). This functor is a way\n",
    "of dealing with functions that might return nothing. Think for example of a function that\n",
    "searches a database and returns what it found. The result should then be composed with\n",
    "another function that does some calculation. If the original search returns nothing, the\n",
    "calculation will return an error. We avoid this with Maybe."
   ]
  },
  {
   "cell_type": "code",
   "execution_count": 52,
   "id": "b9a5068c-2b97-494e-82e4-70e4a971f1ea",
   "metadata": {},
   "outputs": [
    {
     "data": {
      "text/plain": [
       "Maybe\u001b[90m (alias for \u001b[39m\u001b[90mUnion{Nothing, Just{T}} where T\u001b[39m\u001b[90m)\u001b[39m"
      ]
     },
     "execution_count": 52,
     "metadata": {},
     "output_type": "execute_result"
    }
   ],
   "source": [
    "struct Just{T}\n",
    "x::T\n",
    "end\n",
    "just(J::Just) = J.x\n",
    "Maybe{T} = Union{Nothing,Just{T}}\n",
    "Maybe(a::T) where T = Just(a)\n",
    "\n",
    "Maybe(::Nothing) = nothing\n",
    "Maybe() = nothing\n",
    "\n",
    "fmap(f::Function, a::Just{T}) where T = Just(f(a.x))\n",
    "fmap(f::Function, a::Nothing) = nothing\n",
    "Maybe(f::Function) = a::Maybe -> fmap(f,a)"
   ]
  },
  {
   "cell_type": "markdown",
   "id": "a0bb766e-a646-4b75-b801-42d162f15281",
   "metadata": {},
   "source": [
    "In the code above we have created the Maybe functor. Note that it consists of a union of\n",
    "types Nothing and a parametric type Just{T}. Next, let us show an example of how this\n",
    "indeed preserves identities and function compositions."
   ]
  },
  {
   "cell_type": "code",
   "execution_count": 54,
   "id": "2d28fac3-a631-4301-86f6-f90231601ad0",
   "metadata": {},
   "outputs": [
    {
     "data": {
      "text/plain": [
       "true"
      ]
     },
     "execution_count": 54,
     "metadata": {},
     "output_type": "execute_result"
    }
   ],
   "source": [
    "# running our example\n",
    "Maybe(identity)(Maybe()) isa Nothing"
   ]
  },
  {
   "cell_type": "code",
   "execution_count": 55,
   "id": "95812cd8-ff99-422f-92c8-548e3f51bc09",
   "metadata": {},
   "outputs": [
    {
     "data": {
      "text/plain": [
       "true"
      ]
     },
     "execution_count": 55,
     "metadata": {},
     "output_type": "execute_result"
    }
   ],
   "source": [
    "f(x::Int)::Int = x^2; g(x::Int)::Int = x + 1\n",
    "Maybe(f∘g)(Maybe(10)) == (Maybe(f) ∘ Maybe(g))(Maybe(10))"
   ]
  },
  {
   "cell_type": "markdown",
   "id": "8db6e41a-0f25-458a-8824-c88dbd8eb755",
   "metadata": {},
   "source": [
    "Our functor worked. Let us do an actual application to show how it can be useful. Consider\n",
    "that we have a function get_user_from_db that gets a value from a database by searching\n",
    "for an index. If the index is not in the database, it returns nothing. Hence, our function is of\n",
    "type Union{User, Nothing}.\n",
    "\n",
    "Next, we have a function get_name(x::User)::String, that returns the name of the user, if\n",
    "a user is passed. We cannot (in good conscience) compose our function get_name with the\n",
    "function get_user_from_db, because the types do not match.\n",
    "\n",
    "We could solve this by extending our get_name function to be able to receive nothing values,\n",
    "then apply an if statement to check if the nothing is passed, and then return nothing. But\n",
    "this involves a lot of refactoring and our get_name does exactly what it is supposed to do.\n",
    "We do not want to add some extra behavior to deal with incorrect input. In this scenario, we\n",
    "can use Maybe(get_name), which takes Maybe{User} and returns Maybe{String}."
   ]
  },
  {
   "cell_type": "code",
   "execution_count": 56,
   "id": "a458f404-682c-4216-a2be-92d9c0f6affa",
   "metadata": {},
   "outputs": [
    {
     "data": {
      "text/plain": [
       "get_user_from_db (generic function with 1 method)"
      ]
     },
     "execution_count": 56,
     "metadata": {},
     "output_type": "execute_result"
    }
   ],
   "source": [
    "# Create a User type\n",
    "struct User\n",
    "    name::String\n",
    "end\n",
    "\n",
    "# Populate fictional database\n",
    "DATABASE = Dict( 4 =>User(\"James\"), 1 =>User(\"Peter\"));\n",
    "\n",
    "# Define function to search DB\n",
    "function get_user_from_db(uid::Int)::Union{User, Nothing}\n",
    "    if uid in keys(DATABASE)\n",
    "        return DATABASE[uid]\n",
    "    end\n",
    "    return nothing\n",
    "end"
   ]
  },
  {
   "cell_type": "code",
   "execution_count": 57,
   "id": "6ddf0e77-60c7-4850-86e5-184052fd4565",
   "metadata": {},
   "outputs": [
    {
     "data": {
      "text/plain": [
       "User(\"Peter\")"
      ]
     },
     "execution_count": 57,
     "metadata": {},
     "output_type": "execute_result"
    }
   ],
   "source": [
    "# Definine function to extract name from user\n",
    "get_name(x::User)::String = x.name\n",
    "get_user_from_db(1)\n"
   ]
  },
  {
   "cell_type": "code",
   "execution_count": 61,
   "id": "14eb285e-218b-4af9-b7ee-2637fc2e1b3f",
   "metadata": {},
   "outputs": [
    {
     "name": "stdout",
     "output_type": "stream",
     "text": [
      "fmap(get_name, Maybe(get_user_from_db(10))) = nothing\n"
     ]
    }
   ],
   "source": [
    "# Note that we get no errors here even though the user does no exists\n",
    "@show fmap(get_name, Maybe(get_user_from_db(10)))"
   ]
  },
  {
   "cell_type": "code",
   "execution_count": 59,
   "id": "8738b202-f8aa-449a-ac7e-fdbf5d093780",
   "metadata": {},
   "outputs": [
    {
     "data": {
      "text/plain": [
       "Just{String}(\"Peter\")"
      ]
     },
     "execution_count": 59,
     "metadata": {},
     "output_type": "execute_result"
    }
   ],
   "source": [
    "# Note that it returns `Just{String}` and not `String`\n",
    "fmap(get_name, Maybe(get_user_from_db(1)))"
   ]
  },
  {
   "cell_type": "code",
   "execution_count": null,
   "id": "daf2ff1c-8895-491f-80b6-eb8ff8dc540c",
   "metadata": {},
   "outputs": [],
   "source": []
  }
 ],
 "metadata": {
  "kernelspec": {
   "display_name": "Julia 1.11.2",
   "language": "julia",
   "name": "julia-1.11"
  },
  "language_info": {
   "file_extension": ".jl",
   "mimetype": "application/julia",
   "name": "julia",
   "version": "1.11.2"
  }
 },
 "nbformat": 4,
 "nbformat_minor": 5
}
