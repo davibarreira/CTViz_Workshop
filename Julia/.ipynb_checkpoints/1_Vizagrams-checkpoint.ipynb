{
 "cells": [
  {
   "cell_type": "code",
   "execution_count": 1,
   "id": "a0b11ded-236f-4ecc-af6b-4be5b8153b0d",
   "metadata": {},
   "outputs": [
    {
     "name": "stderr",
     "output_type": "stream",
     "text": [
      "\u001b[32m\u001b[1m  Activating\u001b[22m\u001b[39m project at `~/Documents/GitHub/CTViz_Workshop/Julia`\n"
     ]
    }
   ],
   "source": [
    "using Pkg\n",
    "Pkg.activate(\".\")"
   ]
  },
  {
   "cell_type": "code",
   "execution_count": 2,
   "id": "a7f27c6b-92c6-4f95-8c39-43024c1e16d3",
   "metadata": {},
   "outputs": [
    {
     "name": "stderr",
     "output_type": "stream",
     "text": [
      "\u001b[36m\u001b[1m[ \u001b[22m\u001b[39m\u001b[36m\u001b[1mInfo: \u001b[22m\u001b[39mPrecompiling Vizagrams [8c229dad-8b3a-4031-83d6-73545c88426d] (cache misses: wrong dep version loaded (2), incompatible header (14), dep missing source (4))\n"
     ]
    }
   ],
   "source": [
    "using Vizagrams"
   ]
  },
  {
   "cell_type": "code",
   "execution_count": 3,
   "id": "a7a9a346-76a7-4c5d-a828-e250e7f6776b",
   "metadata": {},
   "outputs": [
    {
     "data": {
      "image/svg+xml": [
       "<?xml version=\"1.0\" encoding=\"UTF-8\"?>\n",
       "<svg height=\"300\" viewBox=\"-1.0333333333333334 -1.0333333333333334 2.066666666666667 2.066666666666667\" width=\"300.0\" preserveAspectRatio=\"xMidYMid meet\"><circle cy=\"0\" style=\"vector-effect: non-scaling-stroke; \" r=\"1\" transform=\"scale(1,-1)\" cx=\"0\" /></svg>"
      ],
      "text/html": [
       "<svg height=\"300\" viewBox=\"-1.0333333333333334 -1.0333333333333334 2.066666666666667 2.066666666666667\" width=\"300.0\" preserveAspectRatio=\"xMidYMid meet\"><circle cy=\"0\" style=\"vector-effect: non-scaling-stroke; \" r=\"1\" transform=\"scale(1,-1)\" cx=\"0\" /></svg>"
      ],
      "text/plain": [
       "<svg height=\"300\" viewBox=\"-1.0333333333333334 -1.0333333333333334 2.066666666666667 2.066666666666667\" width=\"300.0\" preserveAspectRatio=\"xMidYMid meet\"><circle cy=\"0\" style=\"vector-effect: non-scaling-stroke; \" r=\"1\" transform=\"scale(1,-1)\" cx=\"0\" /></svg>"
      ]
     },
     "execution_count": 3,
     "metadata": {},
     "output_type": "execute_result"
    }
   ],
   "source": [
    "d = Circle()\n",
    "\n",
    "draw(d)"
   ]
  }
 ],
 "metadata": {
  "kernelspec": {
   "display_name": "Julia 1.11.2",
   "language": "julia",
   "name": "julia-1.11"
  },
  "language_info": {
   "file_extension": ".jl",
   "mimetype": "application/julia",
   "name": "julia",
   "version": "1.11.2"
  }
 },
 "nbformat": 4,
 "nbformat_minor": 5
}
