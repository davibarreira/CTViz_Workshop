{
 "cells": [
  {
   "cell_type": "code",
   "execution_count": 16,
   "id": "f1260d42-9bd5-4f15-842c-08c4ef347bdd",
   "metadata": {},
   "outputs": [
    {
     "name": "stderr",
     "output_type": "stream",
     "text": [
      "\u001b[32m\u001b[1m  Activating\u001b[22m\u001b[39m project at `~/Documents/GitHub/CTViz_Workshop/Presentation/notebooks`\n"
     ]
    }
   ],
   "source": [
    "using Pkg\n",
    "Pkg.activate(\".\")\n",
    "using Vizagrams\n",
    "using Librsvg_jll"
   ]
  },
  {
   "cell_type": "code",
   "execution_count": 17,
   "id": "fb53f5af-235f-4615-b4e0-d0280aca1445",
   "metadata": {},
   "outputs": [
    {
     "data": {
      "text/plain": [
       "savepdf (generic function with 1 method)"
      ]
     },
     "execution_count": 17,
     "metadata": {},
     "output_type": "execute_result"
    }
   ],
   "source": [
    "function savepdf(\n",
    "    plt::Union{Mark,𝕋{Mark}}; filename::String, directory::String=\"./\", width=335, pad=1\n",
    ")\n",
    "    extension = filename[(end - 2):end]\n",
    "    img = string(drawsvg(plt; width=width, height=nothing,pad=pad))\n",
    "    fname = filename\n",
    "    dirpath = directory\n",
    "    fpath = joinpath(dirpath, fname)\n",
    "\n",
    "    if extension == \"pdf\"\n",
    "        return mktemp() do path, io\n",
    "            write(io, img)\n",
    "            close(io)\n",
    "            run(`$(rsvg_convert()) $path -f $extension -o $fpath`)\n",
    "        end\n",
    "    end\n",
    "\n",
    "    return mktemp() do path, io\n",
    "        write(io, img)\n",
    "        close(io)\n",
    "        run(`$(rsvg_convert()) $path -f $extension -o $fpath`)\n",
    "    end\n",
    "end\n"
   ]
  },
  {
   "cell_type": "code",
   "execution_count": 22,
   "id": "dff242e8-930a-4db0-9e59-8ec5358fa89a",
   "metadata": {},
   "outputs": [
    {
     "data": {
      "image/svg+xml": [
       "<?xml version=\"1.0\" encoding=\"UTF-8\"?>\n",
       "<svg height=\"300\" viewBox=\"-181.73697916666666 -53.846354166666664 363.4739583333333 107.69270833333333\" width=\"1036.2818590704649\" preserveAspectRatio=\"xMidYMid meet\"><circle cy=\"-12.109375000000009\" style=\"vector-effect: non-scaling-stroke; \" r=\"20.0\" transform=\"scale(1,-1)\" cx=\"-140.0\" /><polygon points=\"-180.0 -52.10937500000001 -20.0 -52.10937500000001 -20.0 27.890624999999993 -180.0 27.890624999999993 \" style=\"vector-effect: non-scaling-stroke; stroke: lightgray; fill: white; stroke-width: 1.0; fill-opacity: 0; \" transform=\"scale(1,-1)\" /><circle cy=\"-12.109375000000009\" style=\"vector-effect: non-scaling-stroke; stroke: red; fill: white; \" r=\"20.0\" transform=\"scale(1,-1)\" cx=\"140.0\" /><polygon points=\"20.0 -52.10937500000001 180.0 -52.10937500000001 180.0 27.890624999999993 20.0 27.890624999999993 \" style=\"vector-effect: non-scaling-stroke; stroke: lightgray; fill: white; stroke-width: 1.0; fill-opacity: 0; \" transform=\"scale(1,-1)\" /><polyline points=\"-16.0 -12.109375000000009 12.0 -12.109375000000009 \" style=\"vector-effect: non-scaling-stroke; stroke: black; fill: none; \" transform=\"scale(1,-1)\" /><polygon points=\"18.0 -12.109375000000009 12.000000000000012 -8.645273384862254 12.000000000000004 -15.573476615137753 \" style=\"vector-effect: non-scaling-stroke; \" transform=\"scale(1,-1)\" /><text x=\"0.0\" style=\"font-family: monospace; text-anchor: middle; vector-effect: non-scaling-stroke; font-size: 10.0pt; \" transform=\"translate(0 -4.607890730275496) rotate(-0.0, 0.0, 2.303945365137748)\" y=\"2.303945365137748\">g</text><text x=\"0.0\" style=\"font-family: monospace; text-anchor: middle; vector-effect: non-scaling-stroke; font-size: 8.0pt; \" transform=\"translate(0 -88.5) rotate(-0.0, 0.0, 44.25)\" y=\"44.25\">g &#61; &#40;T&#40;1,0&#41;, Dict&#40;:fillOpacity &#61;&#62;0,:stroke &#61;&#62;:red&#41;&#41;</text></svg>"
      ],
      "text/html": [
       "<svg height=\"300\" viewBox=\"-181.73697916666666 -53.846354166666664 363.4739583333333 107.69270833333333\" width=\"1036.2818590704649\" preserveAspectRatio=\"xMidYMid meet\"><circle cy=\"-12.109375000000009\" style=\"vector-effect: non-scaling-stroke; \" r=\"20.0\" transform=\"scale(1,-1)\" cx=\"-140.0\" /><polygon points=\"-180.0 -52.10937500000001 -20.0 -52.10937500000001 -20.0 27.890624999999993 -180.0 27.890624999999993 \" style=\"vector-effect: non-scaling-stroke; stroke: lightgray; fill: white; stroke-width: 1.0; fill-opacity: 0; \" transform=\"scale(1,-1)\" /><circle cy=\"-12.109375000000009\" style=\"vector-effect: non-scaling-stroke; stroke: red; fill: white; \" r=\"20.0\" transform=\"scale(1,-1)\" cx=\"140.0\" /><polygon points=\"20.0 -52.10937500000001 180.0 -52.10937500000001 180.0 27.890624999999993 20.0 27.890624999999993 \" style=\"vector-effect: non-scaling-stroke; stroke: lightgray; fill: white; stroke-width: 1.0; fill-opacity: 0; \" transform=\"scale(1,-1)\" /><polyline points=\"-16.0 -12.109375000000009 12.0 -12.109375000000009 \" style=\"vector-effect: non-scaling-stroke; stroke: black; fill: none; \" transform=\"scale(1,-1)\" /><polygon points=\"18.0 -12.109375000000009 12.000000000000012 -8.645273384862254 12.000000000000004 -15.573476615137753 \" style=\"vector-effect: non-scaling-stroke; \" transform=\"scale(1,-1)\" /><text x=\"0.0\" style=\"font-family: monospace; text-anchor: middle; vector-effect: non-scaling-stroke; font-size: 10.0pt; \" transform=\"translate(0 -4.607890730275496) rotate(-0.0, 0.0, 2.303945365137748)\" y=\"2.303945365137748\">g</text><text x=\"0.0\" style=\"font-family: monospace; text-anchor: middle; vector-effect: non-scaling-stroke; font-size: 8.0pt; \" transform=\"translate(0 -88.5) rotate(-0.0, 0.0, 44.25)\" y=\"44.25\">g &#61; &#40;T&#40;1,0&#41;, Dict&#40;:fillOpacity &#61;&#62;0,:stroke &#61;&#62;:red&#41;&#41;</text></svg>"
      ],
      "text/plain": [
       "<svg height=\"300\" viewBox=\"-181.73697916666666 -53.846354166666664 363.4739583333333 107.69270833333333\" width=\"1036.2818590704649\" preserveAspectRatio=\"xMidYMid meet\"><circle cy=\"-12.109375000000009\" style=\"vector-effect: non-scaling-stroke; \" r=\"20.0\" transform=\"scale(1,-1)\" cx=\"-140.0\" /><polygon points=\"-180.0 -52.10937500000001 -20.0 -52.10937500000001 -20.0 27.890624999999993 -180.0 27.890624999999993 \" style=\"vector-effect: non-scaling-stroke; stroke: lightgray; fill: white; stroke-width: 1.0; fill-opacity: 0; \" transform=\"scale(1,-1)\" /><circle cy=\"-12.109375000000009\" style=\"vector-effect: non-scaling-stroke; stroke: red; fill: white; \" r=\"20.0\" transform=\"scale(1,-1)\" cx=\"140.0\" /><polygon points=\"20.0 -52.10937500000001 180.0 -52.10937500000001 180.0 27.890624999999993 20.0 27.890624999999993 \" style=\"vector-effect: non-scaling-stroke; stroke: lightgray; fill: white; stroke-width: 1.0; fill-opacity: 0; \" transform=\"scale(1,-1)\" /><polyline points=\"-16.0 -12.109375000000009 12.0 -12.109375000000009 \" style=\"vector-effect: non-scaling-stroke; stroke: black; fill: none; \" transform=\"scale(1,-1)\" /><polygon points=\"18.0 -12.109375000000009 12.000000000000012 -8.645273384862254 12.000000000000004 -15.573476615137753 \" style=\"vector-effect: non-scaling-stroke; \" transform=\"scale(1,-1)\" /><text x=\"0.0\" style=\"font-family: monospace; text-anchor: middle; vector-effect: non-scaling-stroke; font-size: 10.0pt; \" transform=\"translate(0 -4.607890730275496) rotate(-0.0, 0.0, 2.303945365137748)\" y=\"2.303945365137748\">g</text><text x=\"0.0\" style=\"font-family: monospace; text-anchor: middle; vector-effect: non-scaling-stroke; font-size: 8.0pt; \" transform=\"translate(0 -88.5) rotate(-0.0, 0.0, 44.25)\" y=\"44.25\">g &#61; &#40;T&#40;1,0&#41;, Dict&#40;:fillOpacity &#61;&#62;0,:stroke &#61;&#62;:red&#41;&#41;</text></svg>"
      ]
     },
     "execution_count": 22,
     "metadata": {},
     "output_type": "execute_result"
    }
   ],
   "source": [
    "circle = Circle(r=0.5)\n",
    "frame = T(-2,-1)Frame(size=(4,2))\n",
    "d₁ = T(-1,0)circle + frame\n",
    "\n",
    "g  = T(1,0)*R(-π/4)\n",
    "d₂ = g * (S(:fill=>:white, :stroke=>:red)*circle) + frame\n",
    "a  = T(2.1,0) *(Arrow(pts=[[0,0],[0.7,0]])↑(T(0.40,0.2),TextMark(anchor=:c,text=\"g\",fontfamily=\"monospace\",fontsize=0.25)))\n",
    "d = (d₁ → (T(1,0),d₂)) + a\n",
    "equation = TextMark(text=\"g = (T(1,0), Dict(:fillOpacity =>0,:stroke =>:red))\",fontsize=0.20,fontfamily=\"monospace\")\n",
    "equation = acenter(d,equation)*equation\n",
    "d = d ↑ (T(0,0.35),equation)\n",
    "d = U(40)centralize_graphic(d)\n",
    "savepdf(d,filename=\"primitivetransformation.pdf\");\n",
    "drawsvg(d)"
   ]
  },
  {
   "cell_type": "code",
   "execution_count": 35,
   "id": "aef97227-126c-4e2f-a746-76cbfe1b0fd6",
   "metadata": {},
   "outputs": [
    {
     "data": {
      "image/svg+xml": [
       "<?xml version=\"1.0\" encoding=\"UTF-8\"?>\n",
       "<svg height=\"300\" viewBox=\"-1.20771484375 -1.54560546875 7.357617187499999 5.1283203125\" width=\"434.7579693034238\" preserveAspectRatio=\"xMidYMid meet\"><text x=\"-1.0\" style=\"font-family: Helvetica; text-anchor: middle; vector-effect: non-scaling-stroke; font-size: 1.0pt; \" transform=\"translate(0 -1.0) rotate(-0.0, -1.0, 0.5)\" y=\"0.5\">&#91;</text><polygon points=\"-0.6499999999999999 1.35 -0.6499999999999999 0.35 0.35000000000000003 0.35 0.35000000000000014 1.35 \" style=\"vector-effect: non-scaling-stroke; fill: blue; \" transform=\"scale(1,-1)\" /><text x=\"0.7204427083333331\" style=\"font-family: Helvetica; text-anchor: middle; vector-effect: non-scaling-stroke; font-size: 1.0pt; \" transform=\"translate(0 -0.7) rotate(-0.0, 0.7204427083333331, 0.35)\" y=\"0.35\"> , </text><circle cy=\"0.85\" style=\"vector-effect: non-scaling-stroke; fill: red; \" r=\"0.5\" transform=\"scale(1,-1)\" cx=\"1.5908854166666666\" /><text x=\"2.2158854166666666\" style=\"font-family: Helvetica; text-anchor: middle; vector-effect: non-scaling-stroke; font-size: 1.0pt; \" transform=\"translate(0 -1.0) rotate(-0.0, 2.2158854166666666, 0.5)\" y=\"0.5\">&#93;</text><polyline points=\"0.8 -0.34791666666666665 0.8 -1.1479166666666667 \" style=\"vector-effect: non-scaling-stroke; stroke: black; fill: none; \" transform=\"scale(1,-1)\" /><polygon points=\"0.8 -1.2979166666666666 0.8866025403784441 -1.1479166666666671 0.7133974596215567 -1.1479166666666665 \" style=\"vector-effect: non-scaling-stroke; \" transform=\"scale(1,-1)\" /><polygon points=\"-0.1999999999999999 -1.5 -0.2 -3.5 1.8 -3.5 1.8 -1.5 \" style=\"vector-effect: non-scaling-stroke; fill: blue; \" transform=\"scale(1,-1)\" /><circle cy=\"-2.5\" style=\"vector-effect: non-scaling-stroke; fill: red; \" r=\"1.0\" transform=\"scale(1,-1)\" cx=\"0.8\" /><text x=\"3.1410156249999996\" style=\"font-family: Courier New; text-anchor: middle; vector-effect: non-scaling-stroke; font-size: 1.0pt; \" transform=\"translate(0 -1.0) rotate(-0.0, 3.1410156249999996, 0.5)\" y=\"0.5\"> &#43; </text><text x=\"4.066145833333333\" style=\"font-family: Helvetica; text-anchor: middle; vector-effect: non-scaling-stroke; font-size: 1.0pt; \" transform=\"translate(0 -1.0) rotate(-0.0, 4.066145833333333, 0.5)\" y=\"0.5\">&#91;</text><polygon points=\"4.416145833333333 0.35 4.916145833333333 1.35 5.416145833333333 0.35 \" style=\"vector-effect: non-scaling-stroke; fill: green; \" transform=\"scale(1,-1)\" /><text x=\"5.741666666666666\" style=\"font-family: Helvetica; text-anchor: middle; vector-effect: non-scaling-stroke; font-size: 1.0pt; \" transform=\"translate(0 -1.0) rotate(-0.0, 5.741666666666666, 0.5)\" y=\"0.5\"> &#93;</text><polyline points=\"4.966145833333332 -0.26236979166666663 4.966145833333332 -1.0623697916666668 \" style=\"vector-effect: non-scaling-stroke; stroke: black; fill: none; \" transform=\"scale(1,-1)\" /><polygon points=\"4.966145833333332 -1.2123697916666667 5.052748373711777 -1.062369791666667 4.87954329295489 -1.0623697916666655 \" style=\"vector-effect: non-scaling-stroke; \" transform=\"scale(1,-1)\" /><polygon points=\"3.9661458333333326 -3.5 4.966145833333332 -1.5 5.966145833333332 -3.5 \" style=\"vector-effect: non-scaling-stroke; fill: green; \" transform=\"scale(1,-1)\" /></svg>"
      ],
      "text/html": [
       "<svg height=\"300\" viewBox=\"-1.20771484375 -1.54560546875 7.357617187499999 5.1283203125\" width=\"434.7579693034238\" preserveAspectRatio=\"xMidYMid meet\"><text x=\"-1.0\" style=\"font-family: Helvetica; text-anchor: middle; vector-effect: non-scaling-stroke; font-size: 1.0pt; \" transform=\"translate(0 -1.0) rotate(-0.0, -1.0, 0.5)\" y=\"0.5\">&#91;</text><polygon points=\"-0.6499999999999999 1.35 -0.6499999999999999 0.35 0.35000000000000003 0.35 0.35000000000000014 1.35 \" style=\"vector-effect: non-scaling-stroke; fill: blue; \" transform=\"scale(1,-1)\" /><text x=\"0.7204427083333331\" style=\"font-family: Helvetica; text-anchor: middle; vector-effect: non-scaling-stroke; font-size: 1.0pt; \" transform=\"translate(0 -0.7) rotate(-0.0, 0.7204427083333331, 0.35)\" y=\"0.35\"> , </text><circle cy=\"0.85\" style=\"vector-effect: non-scaling-stroke; fill: red; \" r=\"0.5\" transform=\"scale(1,-1)\" cx=\"1.5908854166666666\" /><text x=\"2.2158854166666666\" style=\"font-family: Helvetica; text-anchor: middle; vector-effect: non-scaling-stroke; font-size: 1.0pt; \" transform=\"translate(0 -1.0) rotate(-0.0, 2.2158854166666666, 0.5)\" y=\"0.5\">&#93;</text><polyline points=\"0.8 -0.34791666666666665 0.8 -1.1479166666666667 \" style=\"vector-effect: non-scaling-stroke; stroke: black; fill: none; \" transform=\"scale(1,-1)\" /><polygon points=\"0.8 -1.2979166666666666 0.8866025403784441 -1.1479166666666671 0.7133974596215567 -1.1479166666666665 \" style=\"vector-effect: non-scaling-stroke; \" transform=\"scale(1,-1)\" /><polygon points=\"-0.1999999999999999 -1.5 -0.2 -3.5 1.8 -3.5 1.8 -1.5 \" style=\"vector-effect: non-scaling-stroke; fill: blue; \" transform=\"scale(1,-1)\" /><circle cy=\"-2.5\" style=\"vector-effect: non-scaling-stroke; fill: red; \" r=\"1.0\" transform=\"scale(1,-1)\" cx=\"0.8\" /><text x=\"3.1410156249999996\" style=\"font-family: Courier New; text-anchor: middle; vector-effect: non-scaling-stroke; font-size: 1.0pt; \" transform=\"translate(0 -1.0) rotate(-0.0, 3.1410156249999996, 0.5)\" y=\"0.5\"> &#43; </text><text x=\"4.066145833333333\" style=\"font-family: Helvetica; text-anchor: middle; vector-effect: non-scaling-stroke; font-size: 1.0pt; \" transform=\"translate(0 -1.0) rotate(-0.0, 4.066145833333333, 0.5)\" y=\"0.5\">&#91;</text><polygon points=\"4.416145833333333 0.35 4.916145833333333 1.35 5.416145833333333 0.35 \" style=\"vector-effect: non-scaling-stroke; fill: green; \" transform=\"scale(1,-1)\" /><text x=\"5.741666666666666\" style=\"font-family: Helvetica; text-anchor: middle; vector-effect: non-scaling-stroke; font-size: 1.0pt; \" transform=\"translate(0 -1.0) rotate(-0.0, 5.741666666666666, 0.5)\" y=\"0.5\"> &#93;</text><polyline points=\"4.966145833333332 -0.26236979166666663 4.966145833333332 -1.0623697916666668 \" style=\"vector-effect: non-scaling-stroke; stroke: black; fill: none; \" transform=\"scale(1,-1)\" /><polygon points=\"4.966145833333332 -1.2123697916666667 5.052748373711777 -1.062369791666667 4.87954329295489 -1.0623697916666655 \" style=\"vector-effect: non-scaling-stroke; \" transform=\"scale(1,-1)\" /><polygon points=\"3.9661458333333326 -3.5 4.966145833333332 -1.5 5.966145833333332 -3.5 \" style=\"vector-effect: non-scaling-stroke; fill: green; \" transform=\"scale(1,-1)\" /></svg>"
      ],
      "text/plain": [
       "<svg height=\"300\" viewBox=\"-1.20771484375 -1.54560546875 7.357617187499999 5.1283203125\" width=\"434.7579693034238\" preserveAspectRatio=\"xMidYMid meet\"><text x=\"-1.0\" style=\"font-family: Helvetica; text-anchor: middle; vector-effect: non-scaling-stroke; font-size: 1.0pt; \" transform=\"translate(0 -1.0) rotate(-0.0, -1.0, 0.5)\" y=\"0.5\">&#91;</text><polygon points=\"-0.6499999999999999 1.35 -0.6499999999999999 0.35 0.35000000000000003 0.35 0.35000000000000014 1.35 \" style=\"vector-effect: non-scaling-stroke; fill: blue; \" transform=\"scale(1,-1)\" /><text x=\"0.7204427083333331\" style=\"font-family: Helvetica; text-anchor: middle; vector-effect: non-scaling-stroke; font-size: 1.0pt; \" transform=\"translate(0 -0.7) rotate(-0.0, 0.7204427083333331, 0.35)\" y=\"0.35\"> , </text><circle cy=\"0.85\" style=\"vector-effect: non-scaling-stroke; fill: red; \" r=\"0.5\" transform=\"scale(1,-1)\" cx=\"1.5908854166666666\" /><text x=\"2.2158854166666666\" style=\"font-family: Helvetica; text-anchor: middle; vector-effect: non-scaling-stroke; font-size: 1.0pt; \" transform=\"translate(0 -1.0) rotate(-0.0, 2.2158854166666666, 0.5)\" y=\"0.5\">&#93;</text><polyline points=\"0.8 -0.34791666666666665 0.8 -1.1479166666666667 \" style=\"vector-effect: non-scaling-stroke; stroke: black; fill: none; \" transform=\"scale(1,-1)\" /><polygon points=\"0.8 -1.2979166666666666 0.8866025403784441 -1.1479166666666671 0.7133974596215567 -1.1479166666666665 \" style=\"vector-effect: non-scaling-stroke; \" transform=\"scale(1,-1)\" /><polygon points=\"-0.1999999999999999 -1.5 -0.2 -3.5 1.8 -3.5 1.8 -1.5 \" style=\"vector-effect: non-scaling-stroke; fill: blue; \" transform=\"scale(1,-1)\" /><circle cy=\"-2.5\" style=\"vector-effect: non-scaling-stroke; fill: red; \" r=\"1.0\" transform=\"scale(1,-1)\" cx=\"0.8\" /><text x=\"3.1410156249999996\" style=\"font-family: Courier New; text-anchor: middle; vector-effect: non-scaling-stroke; font-size: 1.0pt; \" transform=\"translate(0 -1.0) rotate(-0.0, 3.1410156249999996, 0.5)\" y=\"0.5\"> &#43; </text><text x=\"4.066145833333333\" style=\"font-family: Helvetica; text-anchor: middle; vector-effect: non-scaling-stroke; font-size: 1.0pt; \" transform=\"translate(0 -1.0) rotate(-0.0, 4.066145833333333, 0.5)\" y=\"0.5\">&#91;</text><polygon points=\"4.416145833333333 0.35 4.916145833333333 1.35 5.416145833333333 0.35 \" style=\"vector-effect: non-scaling-stroke; fill: green; \" transform=\"scale(1,-1)\" /><text x=\"5.741666666666666\" style=\"font-family: Helvetica; text-anchor: middle; vector-effect: non-scaling-stroke; font-size: 1.0pt; \" transform=\"translate(0 -1.0) rotate(-0.0, 5.741666666666666, 0.5)\" y=\"0.5\"> &#93;</text><polyline points=\"4.966145833333332 -0.26236979166666663 4.966145833333332 -1.0623697916666668 \" style=\"vector-effect: non-scaling-stroke; stroke: black; fill: none; \" transform=\"scale(1,-1)\" /><polygon points=\"4.966145833333332 -1.2123697916666667 5.052748373711777 -1.062369791666667 4.87954329295489 -1.0623697916666655 \" style=\"vector-effect: non-scaling-stroke; \" transform=\"scale(1,-1)\" /><polygon points=\"3.9661458333333326 -3.5 4.966145833333332 -1.5 5.966145833333332 -3.5 \" style=\"vector-effect: non-scaling-stroke; fill: green; \" transform=\"scale(1,-1)\" /></svg>"
      ]
     },
     "execution_count": 35,
     "metadata": {},
     "output_type": "execute_result"
    }
   ],
   "source": [
    "s = (7,4)\n",
    "frame = T(-s[1]/2,-s[2]/2)Frame(size=s)\n",
    "p1 = Prim(Square(l=2),S(:fill=>:blue))\n",
    "p2 = Prim(Circle(),S(:fill=>:red))\n",
    "listp = T(-1,1)U(0.5)*(TextMark(text=\"[\",fontsize=2) + T(1.7,-0.3)*\n",
    "    (\n",
    "        p1 →\n",
    "        (T(0,0),\n",
    "            TextMark(text=\" , \", fontsize=2) →\n",
    "            p2\n",
    "            )) → TextMark(text=\"]\",fontsize=2)\n",
    ")\n",
    "# d = aright(frame,d) * d + frame\n",
    "\n",
    "ps = T(0.8,-2.5)*(p1 +p2)\n",
    "# d = T(0.5,0)*atop(frame,d)[1] * aleft(frame,d)[1] * d + ps\n",
    "a = Arrow(pts=[[0.8,0],[0.8,-0.8]])\n",
    "dp1p2 = (listp ↓ (T(0,-0.5),a)) + ps\n",
    "\n",
    "\n",
    "p3 = Prim(Polygon([[-1.0,-1.0],[0,1.0],[1.0,-1.0]]),S(:fill=>:green))\n",
    "listp = T(-1,1)U(0.5)*(TextMark(text=\"[\",fontsize=2) + T(1.7,-0.3)*\n",
    "    p3 → TextMark(text=\" ]\",fontsize=2)\n",
    ")\n",
    "# d = aright(frame,d) * d + frame\n",
    "\n",
    "ps = T(-0.1,-2.5)*(p3)\n",
    "# d = T(0.5,0)*atop(frame,d)[1] * aleft(frame,d)[1] * d + ps\n",
    "a = Arrow(pts=[[-0.1,0],[-0.1,-0.8]])\n",
    "dp3 = (listp ↓ (T(0,-0.5),a)) + ps\n",
    "\n",
    "ds = dp1p2 → (T(1,1),TextMark(text=\" + \",fontfamily=\"Courier New\",fontsize=1)) → (T(1,0),dp3)\n",
    "draw(ds)"
   ]
  },
  {
   "cell_type": "code",
   "execution_count": 39,
   "id": "991aaec1-f68c-468e-a147-ab29b332c4c5",
   "metadata": {},
   "outputs": [
    {
     "data": {
      "image/svg+xml": [
       "<?xml version=\"1.0\" encoding=\"UTF-8\"?>\n",
       "<svg height=\"300\" viewBox=\"-1.22626953125 -1.54560546875 5.791796874999999 5.1283203125\" width=\"340.10625737898465\" preserveAspectRatio=\"xMidYMid meet\"><text x=\"-1.0\" style=\"font-family: Helvetica; text-anchor: middle; vector-effect: non-scaling-stroke; font-size: 1.0pt; \" transform=\"translate(0 -1.0) rotate(-0.0, -1.0, 0.5)\" y=\"0.5\">&#91; </text><polygon points=\"-0.6499999999999999 1.35 -0.6499999999999999 0.35 0.35000000000000003 0.35 0.35000000000000014 1.35 \" style=\"vector-effect: non-scaling-stroke; fill: blue; \" transform=\"scale(1,-1)\" /><text x=\"0.7204427083333331\" style=\"font-family: Helvetica; text-anchor: middle; vector-effect: non-scaling-stroke; font-size: 1.0pt; \" transform=\"translate(0 -0.7) rotate(-0.0, 0.7204427083333331, 0.35)\" y=\"0.35\"> , </text><circle cy=\"0.85\" style=\"vector-effect: non-scaling-stroke; fill: red; \" r=\"0.5\" transform=\"scale(1,-1)\" cx=\"1.5908854166666666\" /><text x=\"2.461328125\" style=\"font-family: Helvetica; text-anchor: middle; vector-effect: non-scaling-stroke; font-size: 1.0pt; \" transform=\"translate(0 -0.7) rotate(-0.0, 2.461328125, 0.35)\" y=\"0.35\"> , </text><polygon points=\"2.831770833333333 0.35 3.3317708333333327 1.35 3.8317708333333327 0.35 \" style=\"vector-effect: non-scaling-stroke; fill: green; \" transform=\"scale(1,-1)\" /><text x=\"4.157291666666666\" style=\"font-family: Helvetica; text-anchor: middle; vector-effect: non-scaling-stroke; font-size: 1.0pt; \" transform=\"translate(0 -1.0) rotate(-0.0, 4.157291666666666, 0.5)\" y=\"0.5\"> &#93;</text><polyline points=\"1.6 -0.34791666666666665 1.6 -1.1479166666666667 \" style=\"vector-effect: non-scaling-stroke; stroke: black; fill: none; \" transform=\"scale(1,-1)\" /><polygon points=\"1.6 -1.2979166666666666 1.6866025403784444 -1.1479166666666667 1.5133974596215565 -1.1479166666666663 \" style=\"vector-effect: non-scaling-stroke; \" transform=\"scale(1,-1)\" /><polygon points=\"0.6000000000000002 -1.5 0.6 -3.5 2.6 -3.5 2.6 -1.5 \" style=\"vector-effect: non-scaling-stroke; fill: blue; \" transform=\"scale(1,-1)\" /><circle cy=\"-2.5\" style=\"vector-effect: non-scaling-stroke; fill: red; \" r=\"1.0\" transform=\"scale(1,-1)\" cx=\"1.6\" /><polygon points=\"0.6000000000000001 -3.5 1.6 -1.5 2.6 -3.5 \" style=\"vector-effect: non-scaling-stroke; fill: green; \" transform=\"scale(1,-1)\" /></svg>"
      ],
      "text/html": [
       "<svg height=\"300\" viewBox=\"-1.22626953125 -1.54560546875 5.791796874999999 5.1283203125\" width=\"340.10625737898465\" preserveAspectRatio=\"xMidYMid meet\"><text x=\"-1.0\" style=\"font-family: Helvetica; text-anchor: middle; vector-effect: non-scaling-stroke; font-size: 1.0pt; \" transform=\"translate(0 -1.0) rotate(-0.0, -1.0, 0.5)\" y=\"0.5\">&#91; </text><polygon points=\"-0.6499999999999999 1.35 -0.6499999999999999 0.35 0.35000000000000003 0.35 0.35000000000000014 1.35 \" style=\"vector-effect: non-scaling-stroke; fill: blue; \" transform=\"scale(1,-1)\" /><text x=\"0.7204427083333331\" style=\"font-family: Helvetica; text-anchor: middle; vector-effect: non-scaling-stroke; font-size: 1.0pt; \" transform=\"translate(0 -0.7) rotate(-0.0, 0.7204427083333331, 0.35)\" y=\"0.35\"> , </text><circle cy=\"0.85\" style=\"vector-effect: non-scaling-stroke; fill: red; \" r=\"0.5\" transform=\"scale(1,-1)\" cx=\"1.5908854166666666\" /><text x=\"2.461328125\" style=\"font-family: Helvetica; text-anchor: middle; vector-effect: non-scaling-stroke; font-size: 1.0pt; \" transform=\"translate(0 -0.7) rotate(-0.0, 2.461328125, 0.35)\" y=\"0.35\"> , </text><polygon points=\"2.831770833333333 0.35 3.3317708333333327 1.35 3.8317708333333327 0.35 \" style=\"vector-effect: non-scaling-stroke; fill: green; \" transform=\"scale(1,-1)\" /><text x=\"4.157291666666666\" style=\"font-family: Helvetica; text-anchor: middle; vector-effect: non-scaling-stroke; font-size: 1.0pt; \" transform=\"translate(0 -1.0) rotate(-0.0, 4.157291666666666, 0.5)\" y=\"0.5\"> &#93;</text><polyline points=\"1.6 -0.34791666666666665 1.6 -1.1479166666666667 \" style=\"vector-effect: non-scaling-stroke; stroke: black; fill: none; \" transform=\"scale(1,-1)\" /><polygon points=\"1.6 -1.2979166666666666 1.6866025403784444 -1.1479166666666667 1.5133974596215565 -1.1479166666666663 \" style=\"vector-effect: non-scaling-stroke; \" transform=\"scale(1,-1)\" /><polygon points=\"0.6000000000000002 -1.5 0.6 -3.5 2.6 -3.5 2.6 -1.5 \" style=\"vector-effect: non-scaling-stroke; fill: blue; \" transform=\"scale(1,-1)\" /><circle cy=\"-2.5\" style=\"vector-effect: non-scaling-stroke; fill: red; \" r=\"1.0\" transform=\"scale(1,-1)\" cx=\"1.6\" /><polygon points=\"0.6000000000000001 -3.5 1.6 -1.5 2.6 -3.5 \" style=\"vector-effect: non-scaling-stroke; fill: green; \" transform=\"scale(1,-1)\" /></svg>"
      ],
      "text/plain": [
       "<svg height=\"300\" viewBox=\"-1.22626953125 -1.54560546875 5.791796874999999 5.1283203125\" width=\"340.10625737898465\" preserveAspectRatio=\"xMidYMid meet\"><text x=\"-1.0\" style=\"font-family: Helvetica; text-anchor: middle; vector-effect: non-scaling-stroke; font-size: 1.0pt; \" transform=\"translate(0 -1.0) rotate(-0.0, -1.0, 0.5)\" y=\"0.5\">&#91; </text><polygon points=\"-0.6499999999999999 1.35 -0.6499999999999999 0.35 0.35000000000000003 0.35 0.35000000000000014 1.35 \" style=\"vector-effect: non-scaling-stroke; fill: blue; \" transform=\"scale(1,-1)\" /><text x=\"0.7204427083333331\" style=\"font-family: Helvetica; text-anchor: middle; vector-effect: non-scaling-stroke; font-size: 1.0pt; \" transform=\"translate(0 -0.7) rotate(-0.0, 0.7204427083333331, 0.35)\" y=\"0.35\"> , </text><circle cy=\"0.85\" style=\"vector-effect: non-scaling-stroke; fill: red; \" r=\"0.5\" transform=\"scale(1,-1)\" cx=\"1.5908854166666666\" /><text x=\"2.461328125\" style=\"font-family: Helvetica; text-anchor: middle; vector-effect: non-scaling-stroke; font-size: 1.0pt; \" transform=\"translate(0 -0.7) rotate(-0.0, 2.461328125, 0.35)\" y=\"0.35\"> , </text><polygon points=\"2.831770833333333 0.35 3.3317708333333327 1.35 3.8317708333333327 0.35 \" style=\"vector-effect: non-scaling-stroke; fill: green; \" transform=\"scale(1,-1)\" /><text x=\"4.157291666666666\" style=\"font-family: Helvetica; text-anchor: middle; vector-effect: non-scaling-stroke; font-size: 1.0pt; \" transform=\"translate(0 -1.0) rotate(-0.0, 4.157291666666666, 0.5)\" y=\"0.5\"> &#93;</text><polyline points=\"1.6 -0.34791666666666665 1.6 -1.1479166666666667 \" style=\"vector-effect: non-scaling-stroke; stroke: black; fill: none; \" transform=\"scale(1,-1)\" /><polygon points=\"1.6 -1.2979166666666666 1.6866025403784444 -1.1479166666666667 1.5133974596215565 -1.1479166666666663 \" style=\"vector-effect: non-scaling-stroke; \" transform=\"scale(1,-1)\" /><polygon points=\"0.6000000000000002 -1.5 0.6 -3.5 2.6 -3.5 2.6 -1.5 \" style=\"vector-effect: non-scaling-stroke; fill: blue; \" transform=\"scale(1,-1)\" /><circle cy=\"-2.5\" style=\"vector-effect: non-scaling-stroke; fill: red; \" r=\"1.0\" transform=\"scale(1,-1)\" cx=\"1.6\" /><polygon points=\"0.6000000000000001 -3.5 1.6 -1.5 2.6 -3.5 \" style=\"vector-effect: non-scaling-stroke; fill: green; \" transform=\"scale(1,-1)\" /></svg>"
      ]
     },
     "execution_count": 39,
     "metadata": {},
     "output_type": "execute_result"
    }
   ],
   "source": [
    "# frame = Translation(-2,-2)*(S(:stroke=>:white)▷ζ(Frame(size=(7,4))))\n",
    "s = (7,4)\n",
    "frame = T(-s[1]/2,-s[2]/2)Frame(size=s)\n",
    "p1 = Prim(Square(l=2),S(:fill=>:blue))\n",
    "p2 = Prim(Circle(),S(:fill=>:red))\n",
    "p3 = Prim(Polygon([[-1.0,-1.0],[0,1.0],[1.0,-1.0]]),S(:fill=>:green))\n",
    "listp = T(-1,1)U(0.5)*(TextMark(text=\"[ \",fontsize=2) + T(1.7,-0.3)*\n",
    "    (\n",
    "        p1 →\n",
    "        (T(0,0),\n",
    "            TextMark(text=\" , \", fontsize=2) →\n",
    "            p2\n",
    "            ) →\n",
    "        (T(0,0),\n",
    "            TextMark(text=\" , \", fontsize=2) →\n",
    "            p3\n",
    "            ) \n",
    "        ) → TextMark(text=\" ]\",fontsize=2)\n",
    ")\n",
    "# d = aright(frame,d) * d + frame\n",
    "\n",
    "ps = T(1.6,-2.5)*(p1 +p2 + p3)\n",
    "# d = T(0.5,0)*atop(frame,d)[1] * aleft(frame,d)[1] * d + ps\n",
    "a = Arrow(pts=[[1.6,0],[1.6,-0.8]])\n",
    "d1 = (listp ↓ (T(0,-0.5),a)) + ps\n",
    "\n",
    "\n",
    "drawsvg(d1)"
   ]
  },
  {
   "cell_type": "code",
   "execution_count": 45,
   "id": "51a031a2-2653-460c-b7eb-36cc35ebfafd",
   "metadata": {},
   "outputs": [],
   "source": [
    "d = ds → (T(2,0),T(0,1)TextMark(text=\"=\",fontfamily=\"Courier New\",fontsize=1) → (T(2,0),d1));"
   ]
  },
  {
   "cell_type": "code",
   "execution_count": 46,
   "id": "3eb06e13-41cf-4108-9ccc-afffb6515dd6",
   "metadata": {},
   "outputs": [
    {
     "data": {
      "image/svg+xml": [
       "<?xml version=\"1.0\" encoding=\"UTF-8\"?>\n",
       "<svg height=\"300\" viewBox=\"-1.20771484375 -1.54560546875 17.653255208333334 5.1283203125\" width=\"1057.1153089334907\" preserveAspectRatio=\"xMidYMid meet\"><text x=\"-1.0\" style=\"font-family: Helvetica; text-anchor: middle; vector-effect: non-scaling-stroke; font-size: 1.0pt; \" transform=\"translate(0 -1.0) rotate(-0.0, -1.0, 0.5)\" y=\"0.5\">&#91;</text><polygon points=\"-0.6499999999999999 1.35 -0.6499999999999999 0.35 0.35000000000000003 0.35 0.35000000000000014 1.35 \" style=\"vector-effect: non-scaling-stroke; fill: blue; \" transform=\"scale(1,-1)\" /><text x=\"0.7204427083333331\" style=\"font-family: Helvetica; text-anchor: middle; vector-effect: non-scaling-stroke; font-size: 1.0pt; \" transform=\"translate(0 -0.7) rotate(-0.0, 0.7204427083333331, 0.35)\" y=\"0.35\"> , </text><circle cy=\"0.85\" style=\"vector-effect: non-scaling-stroke; fill: red; \" r=\"0.5\" transform=\"scale(1,-1)\" cx=\"1.5908854166666666\" /><text x=\"2.2158854166666666\" style=\"font-family: Helvetica; text-anchor: middle; vector-effect: non-scaling-stroke; font-size: 1.0pt; \" transform=\"translate(0 -1.0) rotate(-0.0, 2.2158854166666666, 0.5)\" y=\"0.5\">&#93;</text><polyline points=\"0.8 -0.34791666666666665 0.8 -1.1479166666666667 \" style=\"vector-effect: non-scaling-stroke; stroke: black; fill: none; \" transform=\"scale(1,-1)\" /><polygon points=\"0.8 -1.2979166666666666 0.8866025403784441 -1.1479166666666671 0.7133974596215567 -1.1479166666666665 \" style=\"vector-effect: non-scaling-stroke; \" transform=\"scale(1,-1)\" /><polygon points=\"-0.1999999999999999 -1.5 -0.2 -3.5 1.8 -3.5 1.8 -1.5 \" style=\"vector-effect: non-scaling-stroke; fill: blue; \" transform=\"scale(1,-1)\" /><circle cy=\"-2.5\" style=\"vector-effect: non-scaling-stroke; fill: red; \" r=\"1.0\" transform=\"scale(1,-1)\" cx=\"0.8\" /><text x=\"3.1410156249999996\" style=\"font-family: Courier New; text-anchor: middle; vector-effect: non-scaling-stroke; font-size: 1.0pt; \" transform=\"translate(0 -1.0) rotate(-0.0, 3.1410156249999996, 0.5)\" y=\"0.5\"> &#43; </text><text x=\"4.066145833333333\" style=\"font-family: Helvetica; text-anchor: middle; vector-effect: non-scaling-stroke; font-size: 1.0pt; \" transform=\"translate(0 -1.0) rotate(-0.0, 4.066145833333333, 0.5)\" y=\"0.5\">&#91;</text><polygon points=\"4.416145833333333 0.35 4.916145833333333 1.35 5.416145833333333 0.35 \" style=\"vector-effect: non-scaling-stroke; fill: green; \" transform=\"scale(1,-1)\" /><text x=\"5.741666666666666\" style=\"font-family: Helvetica; text-anchor: middle; vector-effect: non-scaling-stroke; font-size: 1.0pt; \" transform=\"translate(0 -1.0) rotate(-0.0, 5.741666666666666, 0.5)\" y=\"0.5\"> &#93;</text><polyline points=\"4.966145833333332 -0.26236979166666663 4.966145833333332 -1.0623697916666668 \" style=\"vector-effect: non-scaling-stroke; stroke: black; fill: none; \" transform=\"scale(1,-1)\" /><polygon points=\"4.966145833333332 -1.2123697916666667 5.052748373711777 -1.062369791666667 4.87954329295489 -1.0623697916666655 \" style=\"vector-effect: non-scaling-stroke; \" transform=\"scale(1,-1)\" /><polygon points=\"3.9661458333333326 -3.5 4.966145833333332 -1.5 5.966145833333332 -3.5 \" style=\"vector-effect: non-scaling-stroke; fill: green; \" transform=\"scale(1,-1)\" /><text x=\"8.401822916666667\" style=\"font-family: Courier New; text-anchor: middle; vector-effect: non-scaling-stroke; font-size: 1.0pt; \" transform=\"translate(0 -1.0) rotate(-0.0, 8.401822916666667, 0.5)\" y=\"0.5\">&#61;</text><text x=\"10.880013020833335\" style=\"font-family: Helvetica; text-anchor: middle; vector-effect: non-scaling-stroke; font-size: 1.0pt; \" transform=\"translate(0 -1.0) rotate(-0.0, 10.880013020833335, 0.5)\" y=\"0.5\">&#91; </text><polygon points=\"11.230013020833335 1.35 11.230013020833335 0.35 12.230013020833335 0.35 12.230013020833335 1.35 \" style=\"vector-effect: non-scaling-stroke; fill: blue; \" transform=\"scale(1,-1)\" /><text x=\"12.600455729166667\" style=\"font-family: Helvetica; text-anchor: middle; vector-effect: non-scaling-stroke; font-size: 1.0pt; \" transform=\"translate(0 -0.7) rotate(-0.0, 12.600455729166667, 0.35)\" y=\"0.35\"> , </text><circle cy=\"0.85\" style=\"vector-effect: non-scaling-stroke; fill: red; \" r=\"0.5\" transform=\"scale(1,-1)\" cx=\"13.4708984375\" /><text x=\"14.341341145833335\" style=\"font-family: Helvetica; text-anchor: middle; vector-effect: non-scaling-stroke; font-size: 1.0pt; \" transform=\"translate(0 -0.7) rotate(-0.0, 14.341341145833335, 0.35)\" y=\"0.35\"> , </text><polygon points=\"14.711783854166667 0.35 15.211783854166667 1.35 15.711783854166667 0.35 \" style=\"vector-effect: non-scaling-stroke; fill: green; \" transform=\"scale(1,-1)\" /><text x=\"16.0373046875\" style=\"font-family: Helvetica; text-anchor: middle; vector-effect: non-scaling-stroke; font-size: 1.0pt; \" transform=\"translate(0 -1.0) rotate(-0.0, 16.0373046875, 0.5)\" y=\"0.5\"> &#93;</text><polyline points=\"13.480013020833335 -0.34791666666666665 13.480013020833335 -1.1479166666666667 \" style=\"vector-effect: non-scaling-stroke; stroke: black; fill: none; \" transform=\"scale(1,-1)\" /><polygon points=\"13.480013020833335 -1.2979166666666666 13.566615561211776 -1.147916666666665 13.393410480454888 -1.147916666666668 \" style=\"vector-effect: non-scaling-stroke; \" transform=\"scale(1,-1)\" /><polygon points=\"12.480013020833335 -1.5 12.480013020833335 -3.5 14.480013020833335 -3.5 14.480013020833335 -1.5 \" style=\"vector-effect: non-scaling-stroke; fill: blue; \" transform=\"scale(1,-1)\" /><circle cy=\"-2.5\" style=\"vector-effect: non-scaling-stroke; fill: red; \" r=\"1.0\" transform=\"scale(1,-1)\" cx=\"13.480013020833335\" /><polygon points=\"12.480013020833335 -3.5 13.480013020833335 -1.5 14.480013020833335 -3.5 \" style=\"vector-effect: non-scaling-stroke; fill: green; \" transform=\"scale(1,-1)\" /></svg>"
      ],
      "text/html": [
       "<svg height=\"300\" viewBox=\"-1.20771484375 -1.54560546875 17.653255208333334 5.1283203125\" width=\"1057.1153089334907\" preserveAspectRatio=\"xMidYMid meet\"><text x=\"-1.0\" style=\"font-family: Helvetica; text-anchor: middle; vector-effect: non-scaling-stroke; font-size: 1.0pt; \" transform=\"translate(0 -1.0) rotate(-0.0, -1.0, 0.5)\" y=\"0.5\">&#91;</text><polygon points=\"-0.6499999999999999 1.35 -0.6499999999999999 0.35 0.35000000000000003 0.35 0.35000000000000014 1.35 \" style=\"vector-effect: non-scaling-stroke; fill: blue; \" transform=\"scale(1,-1)\" /><text x=\"0.7204427083333331\" style=\"font-family: Helvetica; text-anchor: middle; vector-effect: non-scaling-stroke; font-size: 1.0pt; \" transform=\"translate(0 -0.7) rotate(-0.0, 0.7204427083333331, 0.35)\" y=\"0.35\"> , </text><circle cy=\"0.85\" style=\"vector-effect: non-scaling-stroke; fill: red; \" r=\"0.5\" transform=\"scale(1,-1)\" cx=\"1.5908854166666666\" /><text x=\"2.2158854166666666\" style=\"font-family: Helvetica; text-anchor: middle; vector-effect: non-scaling-stroke; font-size: 1.0pt; \" transform=\"translate(0 -1.0) rotate(-0.0, 2.2158854166666666, 0.5)\" y=\"0.5\">&#93;</text><polyline points=\"0.8 -0.34791666666666665 0.8 -1.1479166666666667 \" style=\"vector-effect: non-scaling-stroke; stroke: black; fill: none; \" transform=\"scale(1,-1)\" /><polygon points=\"0.8 -1.2979166666666666 0.8866025403784441 -1.1479166666666671 0.7133974596215567 -1.1479166666666665 \" style=\"vector-effect: non-scaling-stroke; \" transform=\"scale(1,-1)\" /><polygon points=\"-0.1999999999999999 -1.5 -0.2 -3.5 1.8 -3.5 1.8 -1.5 \" style=\"vector-effect: non-scaling-stroke; fill: blue; \" transform=\"scale(1,-1)\" /><circle cy=\"-2.5\" style=\"vector-effect: non-scaling-stroke; fill: red; \" r=\"1.0\" transform=\"scale(1,-1)\" cx=\"0.8\" /><text x=\"3.1410156249999996\" style=\"font-family: Courier New; text-anchor: middle; vector-effect: non-scaling-stroke; font-size: 1.0pt; \" transform=\"translate(0 -1.0) rotate(-0.0, 3.1410156249999996, 0.5)\" y=\"0.5\"> &#43; </text><text x=\"4.066145833333333\" style=\"font-family: Helvetica; text-anchor: middle; vector-effect: non-scaling-stroke; font-size: 1.0pt; \" transform=\"translate(0 -1.0) rotate(-0.0, 4.066145833333333, 0.5)\" y=\"0.5\">&#91;</text><polygon points=\"4.416145833333333 0.35 4.916145833333333 1.35 5.416145833333333 0.35 \" style=\"vector-effect: non-scaling-stroke; fill: green; \" transform=\"scale(1,-1)\" /><text x=\"5.741666666666666\" style=\"font-family: Helvetica; text-anchor: middle; vector-effect: non-scaling-stroke; font-size: 1.0pt; \" transform=\"translate(0 -1.0) rotate(-0.0, 5.741666666666666, 0.5)\" y=\"0.5\"> &#93;</text><polyline points=\"4.966145833333332 -0.26236979166666663 4.966145833333332 -1.0623697916666668 \" style=\"vector-effect: non-scaling-stroke; stroke: black; fill: none; \" transform=\"scale(1,-1)\" /><polygon points=\"4.966145833333332 -1.2123697916666667 5.052748373711777 -1.062369791666667 4.87954329295489 -1.0623697916666655 \" style=\"vector-effect: non-scaling-stroke; \" transform=\"scale(1,-1)\" /><polygon points=\"3.9661458333333326 -3.5 4.966145833333332 -1.5 5.966145833333332 -3.5 \" style=\"vector-effect: non-scaling-stroke; fill: green; \" transform=\"scale(1,-1)\" /><text x=\"8.401822916666667\" style=\"font-family: Courier New; text-anchor: middle; vector-effect: non-scaling-stroke; font-size: 1.0pt; \" transform=\"translate(0 -1.0) rotate(-0.0, 8.401822916666667, 0.5)\" y=\"0.5\">&#61;</text><text x=\"10.880013020833335\" style=\"font-family: Helvetica; text-anchor: middle; vector-effect: non-scaling-stroke; font-size: 1.0pt; \" transform=\"translate(0 -1.0) rotate(-0.0, 10.880013020833335, 0.5)\" y=\"0.5\">&#91; </text><polygon points=\"11.230013020833335 1.35 11.230013020833335 0.35 12.230013020833335 0.35 12.230013020833335 1.35 \" style=\"vector-effect: non-scaling-stroke; fill: blue; \" transform=\"scale(1,-1)\" /><text x=\"12.600455729166667\" style=\"font-family: Helvetica; text-anchor: middle; vector-effect: non-scaling-stroke; font-size: 1.0pt; \" transform=\"translate(0 -0.7) rotate(-0.0, 12.600455729166667, 0.35)\" y=\"0.35\"> , </text><circle cy=\"0.85\" style=\"vector-effect: non-scaling-stroke; fill: red; \" r=\"0.5\" transform=\"scale(1,-1)\" cx=\"13.4708984375\" /><text x=\"14.341341145833335\" style=\"font-family: Helvetica; text-anchor: middle; vector-effect: non-scaling-stroke; font-size: 1.0pt; \" transform=\"translate(0 -0.7) rotate(-0.0, 14.341341145833335, 0.35)\" y=\"0.35\"> , </text><polygon points=\"14.711783854166667 0.35 15.211783854166667 1.35 15.711783854166667 0.35 \" style=\"vector-effect: non-scaling-stroke; fill: green; \" transform=\"scale(1,-1)\" /><text x=\"16.0373046875\" style=\"font-family: Helvetica; text-anchor: middle; vector-effect: non-scaling-stroke; font-size: 1.0pt; \" transform=\"translate(0 -1.0) rotate(-0.0, 16.0373046875, 0.5)\" y=\"0.5\"> &#93;</text><polyline points=\"13.480013020833335 -0.34791666666666665 13.480013020833335 -1.1479166666666667 \" style=\"vector-effect: non-scaling-stroke; stroke: black; fill: none; \" transform=\"scale(1,-1)\" /><polygon points=\"13.480013020833335 -1.2979166666666666 13.566615561211776 -1.147916666666665 13.393410480454888 -1.147916666666668 \" style=\"vector-effect: non-scaling-stroke; \" transform=\"scale(1,-1)\" /><polygon points=\"12.480013020833335 -1.5 12.480013020833335 -3.5 14.480013020833335 -3.5 14.480013020833335 -1.5 \" style=\"vector-effect: non-scaling-stroke; fill: blue; \" transform=\"scale(1,-1)\" /><circle cy=\"-2.5\" style=\"vector-effect: non-scaling-stroke; fill: red; \" r=\"1.0\" transform=\"scale(1,-1)\" cx=\"13.480013020833335\" /><polygon points=\"12.480013020833335 -3.5 13.480013020833335 -1.5 14.480013020833335 -3.5 \" style=\"vector-effect: non-scaling-stroke; fill: green; \" transform=\"scale(1,-1)\" /></svg>"
      ],
      "text/plain": [
       "<svg height=\"300\" viewBox=\"-1.20771484375 -1.54560546875 17.653255208333334 5.1283203125\" width=\"1057.1153089334907\" preserveAspectRatio=\"xMidYMid meet\"><text x=\"-1.0\" style=\"font-family: Helvetica; text-anchor: middle; vector-effect: non-scaling-stroke; font-size: 1.0pt; \" transform=\"translate(0 -1.0) rotate(-0.0, -1.0, 0.5)\" y=\"0.5\">&#91;</text><polygon points=\"-0.6499999999999999 1.35 -0.6499999999999999 0.35 0.35000000000000003 0.35 0.35000000000000014 1.35 \" style=\"vector-effect: non-scaling-stroke; fill: blue; \" transform=\"scale(1,-1)\" /><text x=\"0.7204427083333331\" style=\"font-family: Helvetica; text-anchor: middle; vector-effect: non-scaling-stroke; font-size: 1.0pt; \" transform=\"translate(0 -0.7) rotate(-0.0, 0.7204427083333331, 0.35)\" y=\"0.35\"> , </text><circle cy=\"0.85\" style=\"vector-effect: non-scaling-stroke; fill: red; \" r=\"0.5\" transform=\"scale(1,-1)\" cx=\"1.5908854166666666\" /><text x=\"2.2158854166666666\" style=\"font-family: Helvetica; text-anchor: middle; vector-effect: non-scaling-stroke; font-size: 1.0pt; \" transform=\"translate(0 -1.0) rotate(-0.0, 2.2158854166666666, 0.5)\" y=\"0.5\">&#93;</text><polyline points=\"0.8 -0.34791666666666665 0.8 -1.1479166666666667 \" style=\"vector-effect: non-scaling-stroke; stroke: black; fill: none; \" transform=\"scale(1,-1)\" /><polygon points=\"0.8 -1.2979166666666666 0.8866025403784441 -1.1479166666666671 0.7133974596215567 -1.1479166666666665 \" style=\"vector-effect: non-scaling-stroke; \" transform=\"scale(1,-1)\" /><polygon points=\"-0.1999999999999999 -1.5 -0.2 -3.5 1.8 -3.5 1.8 -1.5 \" style=\"vector-effect: non-scaling-stroke; fill: blue; \" transform=\"scale(1,-1)\" /><circle cy=\"-2.5\" style=\"vector-effect: non-scaling-stroke; fill: red; \" r=\"1.0\" transform=\"scale(1,-1)\" cx=\"0.8\" /><text x=\"3.1410156249999996\" style=\"font-family: Courier New; text-anchor: middle; vector-effect: non-scaling-stroke; font-size: 1.0pt; \" transform=\"translate(0 -1.0) rotate(-0.0, 3.1410156249999996, 0.5)\" y=\"0.5\"> &#43; </text><text x=\"4.066145833333333\" style=\"font-family: Helvetica; text-anchor: middle; vector-effect: non-scaling-stroke; font-size: 1.0pt; \" transform=\"translate(0 -1.0) rotate(-0.0, 4.066145833333333, 0.5)\" y=\"0.5\">&#91;</text><polygon points=\"4.416145833333333 0.35 4.916145833333333 1.35 5.416145833333333 0.35 \" style=\"vector-effect: non-scaling-stroke; fill: green; \" transform=\"scale(1,-1)\" /><text x=\"5.741666666666666\" style=\"font-family: Helvetica; text-anchor: middle; vector-effect: non-scaling-stroke; font-size: 1.0pt; \" transform=\"translate(0 -1.0) rotate(-0.0, 5.741666666666666, 0.5)\" y=\"0.5\"> &#93;</text><polyline points=\"4.966145833333332 -0.26236979166666663 4.966145833333332 -1.0623697916666668 \" style=\"vector-effect: non-scaling-stroke; stroke: black; fill: none; \" transform=\"scale(1,-1)\" /><polygon points=\"4.966145833333332 -1.2123697916666667 5.052748373711777 -1.062369791666667 4.87954329295489 -1.0623697916666655 \" style=\"vector-effect: non-scaling-stroke; \" transform=\"scale(1,-1)\" /><polygon points=\"3.9661458333333326 -3.5 4.966145833333332 -1.5 5.966145833333332 -3.5 \" style=\"vector-effect: non-scaling-stroke; fill: green; \" transform=\"scale(1,-1)\" /><text x=\"8.401822916666667\" style=\"font-family: Courier New; text-anchor: middle; vector-effect: non-scaling-stroke; font-size: 1.0pt; \" transform=\"translate(0 -1.0) rotate(-0.0, 8.401822916666667, 0.5)\" y=\"0.5\">&#61;</text><text x=\"10.880013020833335\" style=\"font-family: Helvetica; text-anchor: middle; vector-effect: non-scaling-stroke; font-size: 1.0pt; \" transform=\"translate(0 -1.0) rotate(-0.0, 10.880013020833335, 0.5)\" y=\"0.5\">&#91; </text><polygon points=\"11.230013020833335 1.35 11.230013020833335 0.35 12.230013020833335 0.35 12.230013020833335 1.35 \" style=\"vector-effect: non-scaling-stroke; fill: blue; \" transform=\"scale(1,-1)\" /><text x=\"12.600455729166667\" style=\"font-family: Helvetica; text-anchor: middle; vector-effect: non-scaling-stroke; font-size: 1.0pt; \" transform=\"translate(0 -0.7) rotate(-0.0, 12.600455729166667, 0.35)\" y=\"0.35\"> , </text><circle cy=\"0.85\" style=\"vector-effect: non-scaling-stroke; fill: red; \" r=\"0.5\" transform=\"scale(1,-1)\" cx=\"13.4708984375\" /><text x=\"14.341341145833335\" style=\"font-family: Helvetica; text-anchor: middle; vector-effect: non-scaling-stroke; font-size: 1.0pt; \" transform=\"translate(0 -0.7) rotate(-0.0, 14.341341145833335, 0.35)\" y=\"0.35\"> , </text><polygon points=\"14.711783854166667 0.35 15.211783854166667 1.35 15.711783854166667 0.35 \" style=\"vector-effect: non-scaling-stroke; fill: green; \" transform=\"scale(1,-1)\" /><text x=\"16.0373046875\" style=\"font-family: Helvetica; text-anchor: middle; vector-effect: non-scaling-stroke; font-size: 1.0pt; \" transform=\"translate(0 -1.0) rotate(-0.0, 16.0373046875, 0.5)\" y=\"0.5\"> &#93;</text><polyline points=\"13.480013020833335 -0.34791666666666665 13.480013020833335 -1.1479166666666667 \" style=\"vector-effect: non-scaling-stroke; stroke: black; fill: none; \" transform=\"scale(1,-1)\" /><polygon points=\"13.480013020833335 -1.2979166666666666 13.566615561211776 -1.147916666666665 13.393410480454888 -1.147916666666668 \" style=\"vector-effect: non-scaling-stroke; \" transform=\"scale(1,-1)\" /><polygon points=\"12.480013020833335 -1.5 12.480013020833335 -3.5 14.480013020833335 -3.5 14.480013020833335 -1.5 \" style=\"vector-effect: non-scaling-stroke; fill: blue; \" transform=\"scale(1,-1)\" /><circle cy=\"-2.5\" style=\"vector-effect: non-scaling-stroke; fill: red; \" r=\"1.0\" transform=\"scale(1,-1)\" cx=\"13.480013020833335\" /><polygon points=\"12.480013020833335 -3.5 13.480013020833335 -1.5 14.480013020833335 -3.5 \" style=\"vector-effect: non-scaling-stroke; fill: green; \" transform=\"scale(1,-1)\" /></svg>"
      ]
     },
     "execution_count": 46,
     "metadata": {},
     "output_type": "execute_result"
    }
   ],
   "source": [
    "draw(d)"
   ]
  },
  {
   "cell_type": "code",
   "execution_count": 49,
   "id": "06d62b7c-b994-4d00-9d49-d47e56a52e4d",
   "metadata": {},
   "outputs": [],
   "source": [
    "savefig(U(40)d,filename=\"simplediagram.pdf\");"
   ]
  }
 ],
 "metadata": {
  "kernelspec": {
   "display_name": "Julia 1.11.2",
   "language": "julia",
   "name": "julia-1.11"
  },
  "language_info": {
   "file_extension": ".jl",
   "mimetype": "application/julia",
   "name": "julia",
   "version": "1.11.2"
  }
 },
 "nbformat": 4,
 "nbformat_minor": 5
}
