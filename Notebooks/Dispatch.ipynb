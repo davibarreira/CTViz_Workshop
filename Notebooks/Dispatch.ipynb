{
 "cells": [
  {
   "cell_type": "markdown",
   "id": "12a8fa3f-0b89-45b3-b4f5-b0ef2bf63620",
   "metadata": {},
   "source": [
    "# **On Dispatching Design Patters**\n",
    "\n",
    "If you have experience with Object Oriented Programming languages such as Python, you might\n",
    "find strange the way packages are implemented in Julia. For example, Julia does not have classes!\n",
    "Hence, you might wonder how you should design your code, since you probably won't be creating\n",
    "classes with methods, and so on.\n",
    "\n",
    "The multiple-dispatch capability of Julia makes design patterns in Julia quite different. First of all,\n",
    "in Julia, instead, of classes we only have structs.\n",
    "The struct can be thought of as composite \"types\", on which\n",
    "functions can be written in order to transform such struct. Besides structs, we have abstract types,\n",
    "which provide a hierarchy to the many types in Julia, and help to properly dispatch function calls.\n",
    "\n",
    "Hence, a struct is not like a class where one defines methods,\n",
    "but it's more like a \"concrete\" type to which functions are applied to.\n",
    "\n",
    "## The Basics on Structs and Dispatch\n",
    "\n",
    "Again, while in OOP a class will generate objects that have \"methods\" inside of it.\n",
    "In Julia, there are no methods, it's all functions.\n",
    "These functions are separated from the structs, and\n",
    "the way we tie them together is via multiple dispatch.\n",
    "\n",
    "An example might make things clearer. At first, let's create a struct to store 2D coordinate points.\n"
   ]
  },
  {
   "cell_type": "code",
   "execution_count": 1,
   "id": "e3bf2746-fef8-4e5d-b5ce-df8dbb4539b2",
   "metadata": {},
   "outputs": [
    {
     "name": "stderr",
     "output_type": "stream",
     "text": [
      "\u001b[32m\u001b[1m  Activating\u001b[22m\u001b[39m new project at `~/Documents/GitHub/CTViz_Workshop/Notebooks`\n"
     ]
    }
   ],
   "source": [
    "using Pkg\n",
    "Pkg.activate(\".\")\n",
    "\n",
    "struct Point2D\n",
    "    x::Real\n",
    "    y::Real\n",
    "end\n",
    "\n",
    "p = Point2D(1, 1);"
   ]
  },
  {
   "cell_type": "markdown",
   "id": "3025385a-60f5-4b2c-a4e9-5dc686cbe7be",
   "metadata": {},
   "source": [
    "The structs in Julia are by default immutable. This allows for more efficiency. Yet, if one needs,\n",
    "the struct can be made mutable, by simply writing `mutable struct`.\n",
    "Note also that whenever we define a struct, it already comes with a constructor function (e.g. `Point2D()`).\n",
    "But this can be modified, as we are going to show shortly.\n",
    "\n",
    "We can access the properties of a struct with the `p.x` notation, or using `getproperty(p, :x)`.\n",
    "If you wish to know what are the properties of an object, just do `propertynames(p)`.\n",
    "\n",
    "Next, let's expand on our example. Suppose we are going to work with geometric shapes.\n",
    "Each struct will be an specific shape, such as a square, a rectangle, a triangle, and so on.\n",
    "The functions will take shapes and perform some action."
   ]
  },
  {
   "cell_type": "markdown",
   "id": "0732dd06-e52b-41f6-818c-cec0b42ee9d3",
   "metadata": {},
   "source": [
    "Let's define the abstract type `Shape` which will be the \"supertype\"\n",
    "of each geometric shape. This is useful when we have functions that work for every geometric shape,\n",
    "independent of which shape we have. For example, we can define a function called\n",
    "`totalarea` which is defined as the sum of individual ares for many shape and we can leave the definition of the `area`\n",
    "for the geometric shapes themselves."
   ]
  },
  {
   "cell_type": "code",
   "execution_count": 2,
   "id": "24abfab0-3915-447f-a73f-287fb4615f26",
   "metadata": {},
   "outputs": [],
   "source": [
    "abstract type Shape end"
   ]
  },
  {
   "cell_type": "markdown",
   "id": "92c98187-c7f5-485c-a250-e79d9297475f",
   "metadata": {},
   "source": [
    "Next, let's create some instances of shapes. "
   ]
  },
  {
   "cell_type": "code",
   "execution_count": 3,
   "id": "e366f556-df85-494c-9881-ffeac058e008",
   "metadata": {},
   "outputs": [],
   "source": [
    "mutable struct Square <: Shape\n",
    "    center::Point2D\n",
    "    length::Real\n",
    "    Square(center, length) = length ≥ 0 ? new(center, length) : error(\"length should be greater or equal than 0.\")\n",
    "end\n",
    "\n",
    "mutable struct Rectangle <: Shape\n",
    "    center::Point2D\n",
    "    height::Real\n",
    "    width::Real\n",
    "    Rectangle(center, height, width) = height ≥ 0 && width ≥ 0 ? new(center, height, width) : error(\"height and width should be greater or equal than 0.\")\n",
    "end\n",
    "\n",
    "mutable struct Circle <: Shape\n",
    "    center::Point2D\n",
    "    radius::Real\n",
    "    Circle(center, radius) = radius ≥ 0 ? new(center, radius) : error(\"radius should be greater or equal than 0.\")\n",
    "end\n",
    "\n",
    "⬛ = Square(p, 10);\n",
    "⚫ = Circle(p, 10);"
   ]
  },
  {
   "cell_type": "markdown",
   "id": "26d98f1e-9df7-4182-b0df-11e044e916ca",
   "metadata": {},
   "source": [
    "The `new()` is a special function that allows one to construct the object from within the struct. We need to do so \n",
    "because the struct is not yet defined, hence the need for the `new`.\n",
    "\n",
    "Once we defined our abstract type and our concrete types (the structs), we can dive in the dispatching. As we can see,\n",
    "the shapes themselves do not have methods. What we do instead is that we define the function that acts on each\n",
    "object based on it's type, hence \"multiple dispatch\"."
   ]
  },
  {
   "cell_type": "code",
   "execution_count": 4,
   "id": "9f924d17-f61a-43ae-869f-99637fc82836",
   "metadata": {},
   "outputs": [
    {
     "name": "stdout",
     "output_type": "stream",
     "text": [
      "totalarea(⚫, ⬛) = 414.1592653589793\n"
     ]
    }
   ],
   "source": [
    "height(s::Rectangle) = s.height\n",
    "width(s::Rectangle)  = s.width\n",
    "\n",
    "height(s::Square) = s.length\n",
    "width(s::Square)  = s.length\n",
    "\n",
    "area(s::Shape)    = width(s) * height(s)\n",
    "\n",
    "area(s::Circle) = π * s.radius^2\n",
    "\n",
    "totalarea(shapes::Shape...) = sum([area(s) for s in shapes])\n",
    "\n",
    "@show totalarea(⚫,⬛);"
   ]
  },
  {
   "cell_type": "markdown",
   "id": "169d1e3c-0d4f-4a91-95a8-7b2a73affb7a",
   "metadata": {},
   "source": [
    "Note the interesting thing that is happening in the code above. We've defined an `area` function that works on every shape. Yet,\n",
    "a circle does not have a width and a height, so the function would not work for it. We then defined another `area` function\n",
    "that dispatches on circles. Since `Circle` is a subtype of `Shape`, Julia's multiple dispatch gives precedence to the lowest type in the\n",
    "hierarchy when calling a function. Thus, the code above works flawlessly.\n",
    "\n",
    "This type of behavior in Julia enables us to come up with different code designs."
   ]
  },
  {
   "cell_type": "markdown",
   "id": "fe9087bb-ebff-4046-9748-56c4ce14d872",
   "metadata": {},
   "source": [
    "## Parametric Types\n",
    "\n",
    "Let's create structs that collect the different shapes."
   ]
  },
  {
   "cell_type": "code",
   "execution_count": 5,
   "id": "c102d4df-2290-4a65-8546-3d67701ef18c",
   "metadata": {},
   "outputs": [
    {
     "name": "stdout",
     "output_type": "stream",
     "text": [
      "squares.list = Square[Square(Point2D(10, 10), 10), Square(Point2D(0, 0), 1)]\n",
      "circles.list = Circle[Circle(Point2D(0, 0), 10), Circle(Point2D(0, 0), 4)]\n",
      "typeof(squares) = ShapeCollection{Square}\n",
      "typeof(circles) = ShapeCollection{Circle}\n",
      "typeof(mix) = ShapeCollection{Shape}\n",
      "---------------------------------------\n"
     ]
    }
   ],
   "source": [
    "struct ShapeCollection{T <: Shape}\n",
    "    list::Array{T}\n",
    "end\n",
    "\n",
    "⬛ = Square(Point2D(10,10), 10);\n",
    "□  = Square(Point2D(0,0), 1);\n",
    "\n",
    "⚫ = Circle(Point2D(0,0), 10)\n",
    "◍ = Circle(Point2D(0,0), 4)\n",
    "\n",
    "squares = ShapeCollection([⬛, □])\n",
    "circles = ShapeCollection([⚫, ◍])\n",
    "mix     = ShapeCollection([⬛, ⚫])\n",
    "\n",
    "@show squares.list;\n",
    "@show circles.list;\n",
    "@show typeof(squares);\n",
    "@show typeof(circles);\n",
    "@show typeof(mix);\n",
    "println(\"---------------------------------------\")"
   ]
  },
  {
   "cell_type": "markdown",
   "id": "95f6d074-2e2c-49d0-adb4-301ac880d17e",
   "metadata": {
    "jp-MarkdownHeadingCollapsed": true,
    "tags": []
   },
   "source": [
    "Note that when we created our struct, we added this `{T <: Shape}`.\n",
    "This is specifying that a `ShapeCollection` will be a parametric type `T` where `T` is a subtype of `Shape`. In our example above,\n",
    "our `squares` is of type `ShapeCollection{Squres}`, while the collection containing a mix of shapes, we get the type `ShaperCollection{Shape}`.\n",
    "\n",
    "If we try to define a `ShapeCollection` with either a mix of shapes, or with things that are not shapes,\n",
    "then we'll get an error."
   ]
  },
  {
   "cell_type": "code",
   "execution_count": 6,
   "id": "55a1dd41-8112-4f1c-92be-9612c926f727",
   "metadata": {},
   "outputs": [
    {
     "ename": "LoadError",
     "evalue": "MethodError: no method matching ShapeCollection(::Vector{Int64})\nThe type `ShapeCollection` exists, but no method is defined for this combination of argument types when trying to construct it.\n\n\u001b[0mClosest candidates are:\n\u001b[0m  ShapeCollection(\u001b[91m::Array{T}\u001b[39m) where T<:Shape\n\u001b[0m\u001b[90m   @\u001b[39m \u001b[35mMain\u001b[39m \u001b[90m\u001b[4mIn[5]:2\u001b[24m\u001b[39m\n",
     "output_type": "error",
     "traceback": [
      "MethodError: no method matching ShapeCollection(::Vector{Int64})\nThe type `ShapeCollection` exists, but no method is defined for this combination of argument types when trying to construct it.\n\n\u001b[0mClosest candidates are:\n\u001b[0m  ShapeCollection(\u001b[91m::Array{T}\u001b[39m) where T<:Shape\n\u001b[0m\u001b[90m   @\u001b[39m \u001b[35mMain\u001b[39m \u001b[90m\u001b[4mIn[5]:2\u001b[24m\u001b[39m\n",
      "",
      "Stacktrace:",
      " [1] top-level scope",
      "   @ In[6]:1"
     ]
    }
   ],
   "source": [
    "nonshape = ShapeCollection([1,2])"
   ]
  },
  {
   "cell_type": "markdown",
   "id": "f9cdd6a0-aad5-410d-8d32-adacd0e662a2",
   "metadata": {},
   "source": [
    "## Using Default Parameters and Units\n",
    "\n",
    "In many situations, we might want our structs to have default values that could be\n",
    "altered when creating a new instance. The `Parameters.jl` package makes this very easy to do.\n"
   ]
  },
  {
   "cell_type": "code",
   "execution_count": 10,
   "id": "85ac2146-b795-49d7-869f-9cd3366684ab",
   "metadata": {},
   "outputs": [
    {
     "name": "stdout",
     "output_type": "stream",
     "text": [
      "board = Board() = Board\n",
      "  pencil: String \"black\"\n",
      "  background: String \"white\"\n",
      "  boardtype: String \"whiteboard\"\n",
      "  size: Tuple{Int64, Int64}\n",
      "\n",
      "chalkboard = Board(pencil = \"white\", background = \"green\", boardtype = \"chalkboard\") = Board\n",
      "  pencil: String \"white\"\n",
      "  background: String \"green\"\n",
      "  boardtype: String \"chalkboard\"\n",
      "  size: Tuple{Int64, Int64}\n",
      "\n",
      "----------------------------------------------------------------------------\n"
     ]
    }
   ],
   "source": [
    "using Parameters\n",
    "@with_kw struct Board\n",
    "    pencil::String = \"black\"\n",
    "    background::String = \"white\"\n",
    "    boardtype::String = \"whiteboard\"\n",
    "    size::Tuple{Real,Real} = (1,1)\n",
    "end\n",
    "\n",
    "@show board = Board()\n",
    "@show chalkboard = Board(pencil=\"white\", background=\"green\", boardtype=\"chalkboard\");\n",
    "println(\"----------------------------------------------------------------------------\")"
   ]
  },
  {
   "cell_type": "markdown",
   "id": "15b5a117-ec42-4a9e-88e9-3238e797e090",
   "metadata": {},
   "source": [
    "The struct above is great, but it could be improved. Note for example that it's possible in this struct to\n",
    "declare a board with negative size, which is nonsense. Also, the size has no units, which makes it meaningless.\n",
    "We could add another field to state the units, but there is a much more elegant way using the amazing\n",
    "`Unitful.jl` package.\n",
    "\n",
    "The `Parameters.jl` allow us to easily check whether the `size` is greater or equal than zero, without\n",
    "needing to create a new constructor as we did in the previous examples."
   ]
  },
  {
   "cell_type": "code",
   "execution_count": 12,
   "id": "5c1b9464-c126-425a-bf32-73108778d651",
   "metadata": {},
   "outputs": [
    {
     "name": "stdout",
     "output_type": "stream",
     "text": [
      "newboard = NewBoard() = NewBoard\n",
      "  pencil: String \"black\"\n",
      "  background: String \"white\"\n",
      "  boardtype: String \"whiteboard\"\n",
      "  size: Tuple{Quantity{Int64, 𝐋, Unitful.FreeUnits{(cm,), 𝐋, nothing}}, Quantity{Int64, 𝐋, Unitful.FreeUnits{(cm,), 𝐋, nothing}}}\n",
      "\n",
      "----------------------------------------------------------------------------\n"
     ]
    }
   ],
   "source": [
    "using Unitful\n",
    "\n",
    "@with_kw struct NewBoard\n",
    "    pencil::String = \"black\"\n",
    "    background::String = \"white\"\n",
    "    boardtype::String = \"whiteboard\"\n",
    "    size::Tuple{Unitful.Length,Unitful.Length} = (100u\"cm\",100u\"cm\"); @assert size[1] ≥ 0u\"cm\" && size[2] ≥ 0u\"cm\"\n",
    "end\n",
    "\n",
    "@show newboard = NewBoard();\n",
    "println(\"----------------------------------------------------------------------------\")"
   ]
  },
  {
   "cell_type": "markdown",
   "id": "decc3713-7063-4bb1-ae86-0f3b772ea0a1",
   "metadata": {},
   "source": [
    "This is nice, but `Unitful.jl` enables us to control this in a much more secure manner.\n",
    "Suppose, for example, that we wish to send this specs to an american woodworker. Hence,\n",
    "we need to convert the units for our table."
   ]
  },
  {
   "cell_type": "code",
   "execution_count": 13,
   "id": "e8bc40cd-d2a8-4173-b170-8dd6354440b8",
   "metadata": {},
   "outputs": [
    {
     "data": {
      "text/plain": [
       "(1250//381 ft, 1250//381 ft)"
      ]
     },
     "execution_count": 13,
     "metadata": {},
     "output_type": "execute_result"
    }
   ],
   "source": [
    "uconvert.(u\"ft\",newboard.size)"
   ]
  },
  {
   "cell_type": "markdown",
   "id": "aff908ff-8211-426d-abbe-0be83aba481f",
   "metadata": {},
   "source": [
    "Instead of creating an abstract type. We can also create types via unions, e.g. `Boards = Union{Board, NewBoard}`."
   ]
  },
  {
   "cell_type": "code",
   "execution_count": 14,
   "id": "e8572e5e-ccf7-4dfd-b30d-8071e5fcb61b",
   "metadata": {},
   "outputs": [],
   "source": [
    "Boards = Union{Board, NewBoard}\n",
    "function priceboard(b::T; comission=0.1, kwargs...) where T <: Boards\n",
    "    return price(b::T; kwargs...)*(1 + comission)\n",
    "end\n",
    "\n",
    "function price(b::Board; units)\n",
    "    units == \"m\" ? nothing : error(\"Size must be in m for pricing.\")\n",
    "    return b.boardtype == \"whiteboard\" ? reduce(*,b.size, init=10.5) : reduce(*,b.size, init=10.3)\n",
    "end\n",
    "\n",
    "function price(b::NewBoard)\n",
    "    s = uconvert.(u\"m\",b.size)\n",
    "    v = uconvert(Unitful.NoUnits,reduce(*,s)/1u\"m^2\")\n",
    "    return b.boardtype == \"whiteboard\" ? 10.5v : 10.3v\n",
    "end\n",
    "\n",
    "priceboard(newboard) == priceboard(board, units=\"m\"); # Returns true"
   ]
  },
  {
   "cell_type": "markdown",
   "id": "22e5707e-e5a2-407e-8672-f09f08e8ea9d",
   "metadata": {},
   "source": [
    "In the example above, we created a function `priceboard` that works on both `Board` and `NewBoard` type. Note \n",
    "that we used here this `where T <: Boards`. This is similar to what we did for structs, but we use this `where` notation\n",
    "when we wish to make functions parametric. Note that depending on the type of the board, a different `price` function\n",
    "will be used."
   ]
  },
  {
   "cell_type": "markdown",
   "id": "28f2e518-4835-4e50-a018-883318e0890a",
   "metadata": {},
   "source": [
    "### Fields Inheritance"
   ]
  },
  {
   "cell_type": "markdown",
   "id": "914bb1bf-cb9c-4d7b-8fe6-804a3f5622c6",
   "metadata": {},
   "source": [
    "Here is an example of a struct with fields that inherit from others.\n",
    "The `color` and the `style`fields are working as \"optional\" fields, that may be used if the\n",
    "user wants to set all the \"subfields\" at once."
   ]
  },
  {
   "cell_type": "code",
   "execution_count": 15,
   "id": "1213d310-98c5-4a7c-aa94-ac37137990e2",
   "metadata": {},
   "outputs": [
    {
     "name": "stdout",
     "output_type": "stream",
     "text": [
      "My_Struct(color1 = \"blue\") = My_Struct\n",
      "  color: Nothing nothing\n",
      "  color1: String \"blue\"\n",
      "  color2: String \"black\"\n",
      "  style: Nothing nothing\n",
      "  style1: String \"blue\"\n",
      "  style2: String \"white\"\n",
      "  width: Int64 10\n",
      "  height: Int64 10\n",
      "  area: Int64 100\n",
      "\n",
      "My_Struct(color = \"yellow\", style = \"none\", width = 1) = My_Struct\n",
      "  color: String \"yellow\"\n",
      "  color1: String \"yellow\"\n",
      "  color2: String \"yellow\"\n",
      "  style: String \"none\"\n",
      "  style1: String \"none\"\n",
      "  style2: String \"none\"\n",
      "  width: Int64 1\n",
      "  height: Int64 10\n",
      "  area: Int64 10\n",
      "\n"
     ]
    }
   ],
   "source": [
    "@with_kw struct My_Struct\n",
    "    color::Union{String,Nothing} = nothing\n",
    "    color1::String = color === nothing ? \"white\" : color\n",
    "    color2::String = color === nothing ? \"black\" : color\n",
    "    \n",
    "    style::Union{String,Nothing} = nothing\n",
    "    style1::String = style === nothing ? \"blue\"  : style\n",
    "    style2::String = style === nothing ? \"white\" : style\n",
    "    \n",
    "    width::Real  = 10; @assert width > 0\n",
    "    height::Real = 10; @assert height > 0\n",
    "    \n",
    "    area = width * height\n",
    "end\n",
    "\n",
    "@show My_Struct(color1=\"blue\")\n",
    "@show My_Struct(color=\"yellow\", style=\"none\", width = 1);"
   ]
  },
  {
   "cell_type": "markdown",
   "id": "c92ec974-8bf1-4ad0-9575-3a73e08fa037",
   "metadata": {},
   "source": [
    "This idea of creating \"optional\" field could also be done with multiple dispatch, but the solution **does not work**\n",
    "if you create your struct using `Parameters.jl`."
   ]
  },
  {
   "cell_type": "code",
   "execution_count": 16,
   "id": "a6dc1348-1510-49d4-8828-767fbabc5cde",
   "metadata": {},
   "outputs": [
    {
     "name": "stdout",
     "output_type": "stream",
     "text": [
      "Example(color = \"red\") = Example(\"red\", \"red\")\n",
      "Example(\"black\", \"white\") = Example(\"black\", \"white\")\n"
     ]
    }
   ],
   "source": [
    "struct Example\n",
    "    color1::String\n",
    "    color2::String\n",
    "end\n",
    "\n",
    "Example(;kwargs...) = Example(values(kwargs))\n",
    "Example(nt::NamedTuple{(:color,)}) = Example(nt.color, nt.color)\n",
    "\n",
    "@show Example(color=\"red\")\n",
    "@show Example(\"black\", \"white\");"
   ]
  },
  {
   "cell_type": "markdown",
   "id": "0f2a113e-2458-410a-a0a6-c402b142c891",
   "metadata": {},
   "source": [
    "### Extending the Dispatch Functionality\n",
    "\n",
    "The multiple dispatch functionality in Julia is not only beautiful, but also powerful. Yet, it only\n",
    "works for variables of different types. It would be nice if we could use the dispatch in other situations, such\n",
    "as depending on wheter a value is larger than 0, or if the user provided an specific keyword.\n",
    "Of course, we can always write many \"if\" and \"else\" statements to deal with it.\n",
    "But the dispatch is so nice and tidy, that it makes us want to use it more broadly.\n",
    "\n",
    "Again, this is not possible \"natively\" in Julia. But thanks to Julia's metaprogramming capabilities,\n",
    "there are some packages that extend the dispatching. Let's take a look at two packages specifically,\n",
    "the `WhereTraits.jl` and the `KeywordDispatch.jl`.\n",
    "\n",
    "First, let's use the `WhereTraits.jl` to create new functions to price `Board` types."
   ]
  },
  {
   "cell_type": "code",
   "execution_count": 17,
   "id": "b000d318-0420-4ad6-baa0-638bdd781bb8",
   "metadata": {},
   "outputs": [
    {
     "name": "stderr",
     "output_type": "stream",
     "text": [
      "\u001b[32m\u001b[1m   Resolving\u001b[22m\u001b[39m package versions...\n",
      "\u001b[32m\u001b[1m   Installed\u001b[22m\u001b[39m ExprParsers ─ v1.2.3\n",
      "\u001b[32m\u001b[1m   Installed\u001b[22m\u001b[39m WhereTraits ─ v1.1.2\n",
      "\u001b[32m\u001b[1m    Updating\u001b[22m\u001b[39m `~/Documents/GitHub/CTViz_Workshop/Notebooks/Project.toml`\n",
      "  \u001b[90m[c9d4e05b] \u001b[39m\u001b[92m+ WhereTraits v1.1.2\u001b[39m\n",
      "\u001b[32m\u001b[1m    Updating\u001b[22m\u001b[39m `~/Documents/GitHub/CTViz_Workshop/Notebooks/Manifest.toml`\n",
      "  \u001b[90m[ec485272] \u001b[39m\u001b[92m+ ArnoldiMethod v0.4.0\u001b[39m\n",
      "  \u001b[90m[34da2185] \u001b[39m\u001b[92m+ Compat v4.16.0\u001b[39m\n",
      "  \u001b[90m[187b0558] \u001b[39m\u001b[92m+ ConstructionBase v1.5.8\u001b[39m\n",
      "  \u001b[90m[864edb3b] \u001b[39m\u001b[92m+ DataStructures v0.18.20\u001b[39m\n",
      "  \u001b[90m[83eed652] \u001b[39m\u001b[92m+ DataTypesBasic v2.0.3\u001b[39m\n",
      "  \u001b[90m[c5caad1f] \u001b[39m\u001b[92m+ ExprParsers v1.2.3\u001b[39m\n",
      "  \u001b[90m[5789e2e9] \u001b[39m\u001b[92m+ FileIO v1.16.6\u001b[39m\n",
      "  \u001b[90m[86223c79] \u001b[39m\u001b[92m+ Graphs v1.12.0\u001b[39m\n",
      "  \u001b[90m[d25df0c9] \u001b[39m\u001b[92m+ Inflate v0.1.5\u001b[39m\n",
      "  \u001b[90m[c8e1da08] \u001b[39m\u001b[92m+ IterTools v1.10.0\u001b[39m\n",
      "\u001b[33m⌅\u001b[39m \u001b[90m[033835bb] \u001b[39m\u001b[92m+ JLD2 v0.4.53\u001b[39m\n",
      "\u001b[90m[1914dd2f] \u001b[39m\u001b[92m+ MacroTools v0.5.15\u001b[39m\n",
      "\u001b[33m⌅\u001b[39m \u001b[90m[626554b9] \u001b[39m\u001b[92m+ MetaGraphs v0.7.2\u001b[39m\n",
      "  \u001b[90m[b98c9c47] \u001b[39m\u001b[92m+ Pipe v1.3.0\u001b[39m\n",
      "  \u001b[90m[aea7be01] \u001b[39m\u001b[92m+ PrecompileTools v1.2.1\u001b[39m\n",
      "  \u001b[90m[21216c6a] \u001b[39m\u001b[92m+ Preferences v1.4.3\u001b[39m\n",
      "  \u001b[90m[9b3bf0c4] \u001b[39m\u001b[92m+ ProxyInterfaces v1.1.1\u001b[39m\n",
      "  \u001b[90m[189a3867] \u001b[39m\u001b[92m+ Reexport v1.2.2\u001b[39m\n",
      "  \u001b[90m[ae029012] \u001b[39m\u001b[92m+ Requires v1.3.0\u001b[39m\n",
      "  \u001b[90m[efcf1570] \u001b[39m\u001b[92m+ Setfield v1.1.1\u001b[39m\n",
      "  \u001b[90m[a3ae8450] \u001b[39m\u001b[92m+ SimpleMatch v1.1.0\u001b[39m\n",
      "  \u001b[90m[699a6c99] \u001b[39m\u001b[92m+ SimpleTraits v0.9.4\u001b[39m\n",
      "  \u001b[90m[90137ffa] \u001b[39m\u001b[92m+ StaticArrays v1.9.11\u001b[39m\n",
      "  \u001b[90m[1e83bf80] \u001b[39m\u001b[92m+ StaticArraysCore v1.4.3\u001b[39m\n",
      "  \u001b[90m[10745b16] \u001b[39m\u001b[92m+ Statistics v1.11.1\u001b[39m\n",
      "  \u001b[90m[6ec83bb0] \u001b[39m\u001b[92m+ StructEquality v2.1.0\u001b[39m\n",
      "  \u001b[90m[3bb67fe8] \u001b[39m\u001b[92m+ TranscodingStreams v0.11.3\u001b[39m\n",
      "  \u001b[90m[c9d4e05b] \u001b[39m\u001b[92m+ WhereTraits v1.1.2\u001b[39m\n",
      "  \u001b[90m[0dad84c5] \u001b[39m\u001b[92m+ ArgTools v1.1.2\u001b[39m\n",
      "  \u001b[90m[2a0f44e3] \u001b[39m\u001b[92m+ Base64 v1.11.0\u001b[39m\n",
      "  \u001b[90m[8ba89e20] \u001b[39m\u001b[92m+ Distributed v1.11.0\u001b[39m\n",
      "  \u001b[90m[f43a241f] \u001b[39m\u001b[92m+ Downloads v1.6.0\u001b[39m\n",
      "  \u001b[90m[7b1f6079] \u001b[39m\u001b[92m+ FileWatching v1.11.0\u001b[39m\n",
      "  \u001b[90m[9fa8497b] \u001b[39m\u001b[92m+ Future v1.11.0\u001b[39m\n",
      "  \u001b[90m[b77e0a4c] \u001b[39m\u001b[92m+ InteractiveUtils v1.11.0\u001b[39m\n",
      "  \u001b[90m[b27032c2] \u001b[39m\u001b[92m+ LibCURL v0.6.4\u001b[39m\n",
      "  \u001b[90m[76f85450] \u001b[39m\u001b[92m+ LibGit2 v1.11.0\u001b[39m\n",
      "  \u001b[90m[56ddb016] \u001b[39m\u001b[92m+ Logging v1.11.0\u001b[39m\n",
      "  \u001b[90m[d6f4376e] \u001b[39m\u001b[92m+ Markdown v1.11.0\u001b[39m\n",
      "  \u001b[90m[a63ad114] \u001b[39m\u001b[92m+ Mmap v1.11.0\u001b[39m\n",
      "  \u001b[90m[ca575930] \u001b[39m\u001b[92m+ NetworkOptions v1.2.0\u001b[39m\n",
      "  \u001b[90m[44cfe95a] \u001b[39m\u001b[92m+ Pkg v1.11.0\u001b[39m\n",
      "  \u001b[90m[9e88b42a] \u001b[39m\u001b[92m+ Serialization v1.11.0\u001b[39m\n",
      "  \u001b[90m[1a1011a3] \u001b[39m\u001b[92m+ SharedArrays v1.11.0\u001b[39m\n",
      "  \u001b[90m[6462fe0b] \u001b[39m\u001b[92m+ Sockets v1.11.0\u001b[39m\n",
      "  \u001b[90m[2f01184e] \u001b[39m\u001b[92m+ SparseArrays v1.11.0\u001b[39m\n",
      "  \u001b[90m[fa267f1f] \u001b[39m\u001b[92m+ TOML v1.0.3\u001b[39m\n",
      "  \u001b[90m[a4e569a6] \u001b[39m\u001b[92m+ Tar v1.10.0\u001b[39m\n",
      "  \u001b[90m[cf7118a7] \u001b[39m\u001b[92m+ UUIDs v1.11.0\u001b[39m\n",
      "  \u001b[90m[deac9b47] \u001b[39m\u001b[92m+ LibCURL_jll v8.6.0+0\u001b[39m\n",
      "  \u001b[90m[e37daf67] \u001b[39m\u001b[92m+ LibGit2_jll v1.7.2+0\u001b[39m\n",
      "  \u001b[90m[29816b5a] \u001b[39m\u001b[92m+ LibSSH2_jll v1.11.0+1\u001b[39m\n",
      "  \u001b[90m[c8ffd9c3] \u001b[39m\u001b[92m+ MbedTLS_jll v2.28.6+0\u001b[39m\n",
      "  \u001b[90m[14a3606d] \u001b[39m\u001b[92m+ MozillaCACerts_jll v2023.12.12\u001b[39m\n",
      "  \u001b[90m[bea87d4a] \u001b[39m\u001b[92m+ SuiteSparse_jll v7.7.0+0\u001b[39m\n",
      "  \u001b[90m[83775a58] \u001b[39m\u001b[92m+ Zlib_jll v1.2.13+1\u001b[39m\n",
      "  \u001b[90m[8e850ede] \u001b[39m\u001b[92m+ nghttp2_jll v1.59.0+0\u001b[39m\n",
      "  \u001b[90m[3f19e933] \u001b[39m\u001b[92m+ p7zip_jll v17.4.0+2\u001b[39m\n",
      "\u001b[36m\u001b[1m        Info\u001b[22m\u001b[39m Packages marked with \u001b[33m⌅\u001b[39m have new versions available but compatibility constraints restrict them from upgrading. To see why use `status --outdated -m`\n",
      "\u001b[92m\u001b[1mPrecompiling\u001b[22m\u001b[39m project...\n",
      "   1132.2 ms\u001b[32m  ✓ \u001b[39m\u001b[90mExprParsers\u001b[39m\n",
      "  12414.5 ms\u001b[32m  ✓ \u001b[39m\u001b[90mJLD2\u001b[39m\n",
      "   3923.2 ms\u001b[32m  ✓ \u001b[39m\u001b[90mMetaGraphs\u001b[39m\n",
      "   1860.9 ms\u001b[32m  ✓ \u001b[39mWhereTraits\n",
      "  4 dependencies successfully precompiled in 19 seconds. 66 already precompiled.\n",
      "\u001b[36m\u001b[1m[ \u001b[22m\u001b[39m\u001b[36m\u001b[1mInfo: \u001b[22m\u001b[39mPrecompiling WhereTraits [c9d4e05b-6318-49cb-9b56-e0e2b0ceadd8] (cache misses: wrong dep version loaded (2))\n"
     ]
    }
   ],
   "source": [
    "using WhereTraits\n",
    "\n",
    "@traits function bestprice(b::Board, units) where {units == \"m\"}\n",
    "    return b.boardtype == \"whiteboard\" ? reduce(*,b.size, init=10.5) : reduce(*,b.size, init=10.3)\n",
    "end\n",
    "@traits function bestprice(b::Board, units) where {units == \"cm\"}\n",
    "    return b.boardtype == \"whiteboard\" ? reduce(*,b.size, init=10.5/(100^2)) : reduce(*,b.size/100, init=10.3/(100^2))\n",
    "end"
   ]
  },
  {
   "cell_type": "markdown",
   "id": "e8b882c6-9ca5-4da4-b6e9-6be8355d03a1",
   "metadata": {},
   "source": [
    "----\n",
    "### *References*\n",
    "\n",
    "This tutorial draws heavily from [this talk](https://www.youtube.com/watch?v=n-E-1-A_rZM)."
   ]
  }
 ],
 "metadata": {
  "kernelspec": {
   "display_name": "Julia 1.11.2",
   "language": "julia",
   "name": "julia-1.11"
  },
  "language_info": {
   "file_extension": ".jl",
   "mimetype": "application/julia",
   "name": "julia",
   "version": "1.11.2"
  }
 },
 "nbformat": 4,
 "nbformat_minor": 5
}
