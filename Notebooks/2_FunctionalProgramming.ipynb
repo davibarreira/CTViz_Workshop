{
 "cells": [
  {
   "cell_type": "markdown",
   "id": "b0a90bcf-137d-4542-a616-ca4da6ed1899",
   "metadata": {},
   "source": [
    "# **Functional Programming**\n",
    "\n",
    "This is based on the book \"Learning Functionl Programming\" (Jack Widman) and\n",
    "\"Haskell Programming from First Principles\" (C. Allen, J. Moronuki, and S. Syrek).\n",
    "\n",
    "## What is Functional Programming?\n",
    "According to Widman there are three \"main\" programming paradigms: Imperative programming,\n",
    "Object-Oriented Programming, and Functional Programming.\n",
    "Imperative programming focuses on defining variables and control structures (e.g. loops, conditional),\n",
    "which are executed in a particular order to achieve a desired outcome.\n",
    "\n",
    "OOP models programs via objects and classes.\n",
    "A class is a template that describes the properties and methods that an object will have.\n",
    "An object is an instance of a class, and it has an internal state, which encapsulates\n",
    "the value mutation in the program. The program runs by instantiating objects\n",
    "that interact with each other to achieve a specific task.\n",
    "\n",
    "Finally, FP models programs as applying and composing functions.\n",
    "A function takes inputs and return outputs without mutating any values,\n",
    "which is also referred as not having side effects.\n",
    "\n",
    "Note that what we call a \"function\" in programming does not match what\n",
    "we call \"function\" in mathematics. In mathematics, more specifically Set Theory,\n",
    "a function $f:A \\to B$ is just a subset of $A\\times B$. In programming, a function\n",
    "is not simply a set, it contains an algorithmic description of how it works,\n",
    "and it can sometimes mutate variables outside of its scope.\n",
    "\n",
    "The Functional Programming paradigm imposes a series of \"restrictions\" in order to approximate\n",
    "a programming function to its mathematical counterpart. These \"restrictions\" are the tenets\n",
    "of FP and usually consist of the following (Allen et. al):\n",
    "- **Immutability**: once a value is assigned to a variable, it cannot change;\n",
    "- **Pure functions**: functions do not have side effects, i.e. do not alter values, they only receive inputs and return outputs.\n",
    "- **Referential transparency**: for the same input, a function always return the same output. An example that is not referentially transparent would be a function `rand()` that returns random numbers;\n",
    "- **First-class functions**: functions are similar to values, in that that they can be used as arguments, assigned to variables and be returned by other functions;\n",
    "- **Higher order functions**: functions can take other functions as arguments;\n",
    "- **Composability**: functions can be composed to define new functions;\n",
    "- **Lazy evaluation**: expressions can be evaluated only when needed.\n",
    "\n",
    "The emphasis of FP in controlling side effects\n",
    "makes programming functions similar to functions in Set Theory.\n",
    "\n",
    "## Is Julia an FP language?\n",
    "\n",
    "This question comes up a lot in Julia's forums. \"Is Julia a Functional Programming Language?\". The answer\n",
    "to this is \"not really\". For starters, Julia allows value mutation. FP is a paradigm, and there are\n",
    "programming languages that are more prone to FP than others. Thus, we can apply Functional Programming ideas\n",
    "to Julia (and even to Python)."
   ]
  },
  {
   "cell_type": "code",
   "execution_count": 1,
   "id": "858100b7-5f2a-4e78-bb6a-679e3a001df5",
   "metadata": {},
   "outputs": [
    {
     "name": "stderr",
     "output_type": "stream",
     "text": [
      "\u001b[32m\u001b[1m  Activating\u001b[22m\u001b[39m new project at `~/Documents/GitHub/CTViz_Workshop/Notebooks`\n"
     ]
    }
   ],
   "source": [
    "using Pkg\n",
    "Pkg.activate(\".\")"
   ]
  },
  {
   "cell_type": "markdown",
   "id": "36c020f4-b7f5-45a0-b07c-bca87a6f6195",
   "metadata": {},
   "source": [
    "# Immutability\n",
    "Variables in Julia are not immutable. We can do `x = 1` and follow with `x = \"text\"`. This\n",
    "will alter the value of variable `x`."
   ]
  },
  {
   "cell_type": "code",
   "execution_count": 2,
   "id": "e3476f79-aed9-413e-b1a9-e9598558c8b2",
   "metadata": {},
   "outputs": [
    {
     "name": "stdout",
     "output_type": "stream",
     "text": [
      "x = 1\n",
      "x = \"text\"\n"
     ]
    }
   ],
   "source": [
    "x = 1\n",
    "@show x\n",
    "\n",
    "x = \"text\"\n",
    "@show x;"
   ]
  },
  {
   "cell_type": "markdown",
   "id": "834af21c-e12f-45ca-bf3c-87fb415e25b0",
   "metadata": {},
   "source": [
    "Yet, types are immutable. Once a type is constructed, it\n",
    "cannot be modified. Suppose you define the following type:"
   ]
  },
  {
   "cell_type": "code",
   "execution_count": 5,
   "id": "37fc3365-526f-436b-8cc6-8cdcf4dc9b27",
   "metadata": {},
   "outputs": [],
   "source": [
    "struct MyType\n",
    "    a::Int\n",
    "    b::Int\n",
    "end"
   ]
  },
  {
   "cell_type": "markdown",
   "id": "0d4c04ce-40dd-47a8-a7b5-4210a6e4dadb",
   "metadata": {},
   "source": [
    "Once `MyType` has been created, you cannot modify it. If you try to recreate it by copying\n",
    "the code above, but using `a::String` instead of `a::Int`, you will incur in an error. Another\n",
    "point to note is that structs are by default immutable types, as shown in the example below."
   ]
  },
  {
   "cell_type": "code",
   "execution_count": null,
   "id": "907eedbd-5025-4174-bbc7-85dd1af7d726",
   "metadata": {},
   "outputs": [],
   "source": []
  }
 ],
 "metadata": {
  "kernelspec": {
   "display_name": "Julia 1.11.2",
   "language": "julia",
   "name": "julia-1.11"
  },
  "language_info": {
   "file_extension": ".jl",
   "mimetype": "application/julia",
   "name": "julia",
   "version": "1.11.2"
  }
 },
 "nbformat": 4,
 "nbformat_minor": 5
}
