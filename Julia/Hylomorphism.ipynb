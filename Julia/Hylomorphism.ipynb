{
 "cells": [
  {
   "cell_type": "code",
   "execution_count": 4,
   "id": "e16c3361-1a1f-4cc1-9092-a79b4f2d3e4c",
   "metadata": {},
   "outputs": [
    {
     "name": "stderr",
     "output_type": "stream",
     "text": [
      "\u001b[32m\u001b[1m  Activating\u001b[22m\u001b[39m project at `~/Documents/GitHub/CTViz_Workshop/Julia`\n"
     ]
    }
   ],
   "source": [
    "using Pkg\n",
    "Pkg.activate(\".\")\n",
    "using MLStyle"
   ]
  },
  {
   "cell_type": "markdown",
   "id": "9195a480-f439-4cf3-b64d-3ac3f4b470bc",
   "metadata": {},
   "source": [
    "## 1. Catamorphism"
   ]
  },
  {
   "cell_type": "markdown",
   "id": "df2761c1-1fd9-4c5e-98e3-28a0c8131e02",
   "metadata": {},
   "source": [
    "Defining the base functor $F X := 1 + X$"
   ]
  },
  {
   "cell_type": "code",
   "execution_count": 8,
   "id": "70cc9994-1a2a-492c-ba0f-90e8ccd7cf8f",
   "metadata": {},
   "outputs": [],
   "source": [
    "@data NatF begin\n",
    "    ZeroF()\n",
    "    SuccF(_1)\n",
    "end\n",
    "fmap(f::Function, x::ZeroF)  = ZeroF()\n",
    "fmap(f::Function, x::SuccF) = SuccF(f(x._1));"
   ]
  },
  {
   "cell_type": "markdown",
   "id": "a8986a07-baec-43d4-847b-5775774b283a",
   "metadata": {},
   "source": [
    "Creating the Fixed Point type for F given by Nat = 1 + Nat"
   ]
  },
  {
   "cell_type": "code",
   "execution_count": 11,
   "id": "e7351fcc-dd4f-443d-b1fa-d189f925cf06",
   "metadata": {},
   "outputs": [],
   "source": [
    "@data Nat begin\n",
    "    Zero()\n",
    "    Succ(Nat)\n",
    "end\n",
    "fmap(f::Function, x::Zero)  = ZeroF()\n",
    "fmap(f::Function, x::Succ) = Succ(f(x._1));\n",
    "\n",
    "# unfix = fix^-1\n",
    "unfix(::Zero) = ZeroF()\n",
    "unfix(x::Succ)= SuccF(x._1)\n",
    "unfix(Succ(Succ(Zero())));"
   ]
  },
  {
   "cell_type": "markdown",
   "id": "a9f076ef-f18f-43d4-9b5f-14f407458fc9",
   "metadata": {},
   "source": [
    "Create an $NatF$-algebra"
   ]
  },
  {
   "cell_type": "code",
   "execution_count": 13,
   "id": "7d7035d8-6988-40e9-8fed-dd5db09ae54c",
   "metadata": {},
   "outputs": [
    {
     "name": "stdout",
     "output_type": "stream",
     "text": [
      "fib(SuccF((10, 10))) = (10, 20)\n",
      "fib(ZeroF()) = (1, 1)\n"
     ]
    }
   ],
   "source": [
    "# fib: NatF (Int × Int) -> (Int × Int)\n",
    "fib(::ZeroF) = (1,1)\n",
    "fib(x::SuccF) = (x._1[2], x._1[1] + x._1[1])\n",
    "\n",
    "@show fib(SuccF((10,10)))\n",
    "@show fib(ZeroF());"
   ]
  },
  {
   "cell_type": "markdown",
   "id": "ec8b417a-127f-4f47-a1dd-88d0e14480ca",
   "metadata": {},
   "source": [
    "#### Implementing the catamorphism."
   ]
  },
  {
   "cell_type": "code",
   "execution_count": 14,
   "id": "d4d9de45-c1d4-4b3a-a636-65d76d622b82",
   "metadata": {},
   "outputs": [
    {
     "name": "stdout",
     "output_type": "stream",
     "text": [
      "cata(fib, Succ(Succ(Zero()))) = (2, 2)\n"
     ]
    }
   ],
   "source": [
    "cata(alg::Function, x::Nat) = alg(fmap(y -> cata(alg, y), unfix(x)))\n",
    "\n",
    "@show cata(fib, Succ(Succ(Zero())));"
   ]
  },
  {
   "cell_type": "markdown",
   "id": "2397f915-29db-4584-b89f-5756ff9ba93c",
   "metadata": {},
   "source": [
    "Knowing that `Nat` are the natural numbers, we can rewrite this catamorphism by:"
   ]
  },
  {
   "cell_type": "code",
   "execution_count": 20,
   "id": "b3e0fd6b-bbc0-425a-9978-69a57d639fbb",
   "metadata": {},
   "outputs": [
    {
     "name": "stdout",
     "output_type": "stream",
     "text": [
      "cata(fib, 2) = (2, 2)\n"
     ]
    }
   ],
   "source": [
    "unfix(n::Int) = @match n begin\n",
    "    0 => ZeroF()\n",
    "    i => SuccF(i-1)\n",
    "end\n",
    "cata(alg::Function, x::Int) = alg(fmap(y -> cata(alg, y), unfix(x)))\n",
    "@show cata(fib, 2);"
   ]
  },
  {
   "cell_type": "markdown",
   "id": "705bbf51-878f-4f30-8920-e00fa4eab0bc",
   "metadata": {},
   "source": [
    "## Factorial"
   ]
  },
  {
   "cell_type": "code",
   "execution_count": 23,
   "id": "d331a185-cc11-4718-b314-49326d61e371",
   "metadata": {},
   "outputs": [],
   "source": [
    "struct NilF end\n",
    "struct ConsF{c,a}\n",
    "    _1::c\n",
    "    _2::a\n",
    "end\n",
    "ListF{c,a} = Union{NilF, ConsF{c,a}}\n",
    "fmap(f::Function, x::ConsF) = ConsF(x._1,f(x._2))\n",
    "fmap(f::Function, x::NilF)  = NilF()\n",
    "\n",
    "\n",
    "# data List c = Nil | Cons c (List c) ----- In Haskell\n",
    "struct Nil end\n",
    "struct Cons{c}\n",
    "    _1::c\n",
    "    _2::Union{Nil, Cons{c}}\n",
    "end\n",
    "unfix(::Nil) = NilF()\n",
    "unfix(x::Cons)= ConsF(x._1,x._2)\n",
    "\n",
    "List{T} = Union{Nil, Cons{T}};"
   ]
  },
  {
   "cell_type": "code",
   "execution_count": 26,
   "id": "73a22fad-ff62-48a6-9126-5b2933dcd172",
   "metadata": {},
   "outputs": [
    {
     "data": {
      "text/plain": [
       "cata (generic function with 3 methods)"
      ]
     },
     "execution_count": 26,
     "metadata": {},
     "output_type": "execute_result"
    }
   ],
   "source": [
    "cata(alg::Function, x) = alg(fmap(y -> cata(alg, y), unfix(x)))"
   ]
  },
  {
   "cell_type": "code",
   "execution_count": 25,
   "id": "df9d4883-d57a-4b38-84ce-4d72cf44ad2d",
   "metadata": {},
   "outputs": [],
   "source": [
    "algFactorial(::NilF)   = 1\n",
    "algFactorial(x::ConsF{Int,Int}) = x._1 * x._2;"
   ]
  },
  {
   "cell_type": "markdown",
   "id": "1728306b-f299-4830-a8e3-0f5e060aa49a",
   "metadata": {},
   "source": [
    "## 2. Coalgebra"
   ]
  },
  {
   "cell_type": "code",
   "execution_count": 21,
   "id": "a1b79d69-c27e-419f-94c5-989a8c56ffef",
   "metadata": {},
   "outputs": [
    {
     "data": {
      "text/plain": [
       "coalg (generic function with 1 method)"
      ]
     },
     "execution_count": 21,
     "metadata": {},
     "output_type": "execute_result"
    }
   ],
   "source": [
    "coalg(n::Int) = @match n begin\n",
    "    0 => ZeroF()\n",
    "    i => SuccF(i)\n",
    "end\n",
    "\n"
   ]
  },
  {
   "cell_type": "code",
   "execution_count": 2,
   "id": "952e6fa7-9ab0-4ad4-bfe6-59b17fb0e5f3",
   "metadata": {},
   "outputs": [
    {
     "ename": "LoadError",
     "evalue": "StackOverflowError:",
     "output_type": "error",
     "traceback": [
      "StackOverflowError:",
      ""
     ]
    }
   ],
   "source": [
    "# Define the functor type F\n",
    "abstract type F end\n",
    "struct FBase <: F end\n",
    "struct Rec <: F\n",
    "    value::Int\n",
    "end\n",
    "\n",
    "# Define the coalgebra g: Int -> F\n",
    "function g(n::Int)::F\n",
    "    if n == 0\n",
    "        return FBase()\n",
    "    else\n",
    "        return Rec(n - 1)\n",
    "    end\n",
    "end\n",
    "\n",
    "# Define the algebra f: F -> String\n",
    "function f(node::F)::String\n",
    "    if node isa FBase\n",
    "        return \"0\"\n",
    "    elseif node isa Rec\n",
    "        return \"S(\" * f(Rec(node.value)) * \")\"\n",
    "    else\n",
    "        error(\"Unhandled case\")\n",
    "    end\n",
    "end\n",
    "\n",
    "# Ana: Unfold an Int to an F-structure\n",
    "function ana(g::Function, n::Int)\n",
    "    node = g(n)\n",
    "    if node isa FBase\n",
    "        return FBase()\n",
    "    elseif node isa Rec\n",
    "        return Rec(node.value)\n",
    "    else\n",
    "        error(\"Invalid coalgebra\")\n",
    "    end\n",
    "end\n",
    "\n",
    "# Cata: Fold an F-structure into a result\n",
    "function cata(f::Function, node::F)::String\n",
    "    if node isa FBase\n",
    "        return f(node)\n",
    "    elseif node isa Rec\n",
    "        return f(Rec(node.value))\n",
    "    else\n",
    "        error(\"Invalid algebra\")\n",
    "    end\n",
    "end\n",
    "\n",
    "# Hylomorphism: Combine ana and cata\n",
    "function hylo(f::Function, g::Function, n::Int)::String\n",
    "    node = ana(g, n)\n",
    "    return cata(f, node)\n",
    "end\n",
    "\n",
    "# Test the hylomorphism with n = 3\n",
    "result = hylo(f, g, 3)\n",
    "println(result)  # Output should be \"S(S(S(0)))\"\n"
   ]
  },
  {
   "cell_type": "code",
   "execution_count": null,
   "id": "c5452608-47d6-43d9-ab46-1e6064e3c5d6",
   "metadata": {},
   "outputs": [],
   "source": []
  }
 ],
 "metadata": {
  "kernelspec": {
   "display_name": "Julia-lts 1.10.7",
   "language": "julia",
   "name": "julia-lts-1.10"
  },
  "language_info": {
   "file_extension": ".jl",
   "mimetype": "application/julia",
   "name": "julia",
   "version": "1.10.7"
  }
 },
 "nbformat": 4,
 "nbformat_minor": 5
}
