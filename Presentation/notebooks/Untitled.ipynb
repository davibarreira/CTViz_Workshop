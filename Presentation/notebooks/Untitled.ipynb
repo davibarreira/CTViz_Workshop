{
 "cells": [
  {
   "cell_type": "code",
   "execution_count": null,
   "id": "db46d111-da2b-4a20-a560-32c32b936fba",
   "metadata": {},
   "outputs": [],
   "source": []
  }
 ],
 "metadata": {
  "kernelspec": {
   "display_name": "Julia 1.11.2",
   "language": "julia",
   "name": "julia-1.11"
  },
  "language_info": {
   "file_extension": ".jl",
   "mimetype": "application/julia",
   "name": "julia",
   "version": "1.11.2"
  }
 },
 "nbformat": 4,
 "nbformat_minor": 5
}
