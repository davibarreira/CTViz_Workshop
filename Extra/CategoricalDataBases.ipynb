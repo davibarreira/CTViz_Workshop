{
 "cells": [
  {
   "cell_type": "markdown",
   "id": "85345e29-fa94-4901-8139-e72e8c73740a",
   "metadata": {},
   "source": [
    "# Category Theory Applied to DataBases"
   ]
  },
  {
   "cell_type": "code",
   "execution_count": 132,
   "id": "9b872703-bb22-41c7-b192-5f99e3f249c1",
   "metadata": {},
   "outputs": [
    {
     "name": "stderr",
     "output_type": "stream",
     "text": [
      "\u001b[32m\u001b[1m  Activating\u001b[22m\u001b[39m project at `~/Documents/GitHub/CTViz_Workshop/Julia`\n"
     ]
    }
   ],
   "source": [
    "using Pkg\n",
    "Pkg.activate(\".\")\n",
    "using Tables"
   ]
  },
  {
   "cell_type": "code",
   "execution_count": 133,
   "id": "f0e82c66-0e9d-4ea6-8098-e16d8637467c",
   "metadata": {},
   "outputs": [
    {
     "data": {
      "text/plain": [
       "Tables.Schema:\n",
       " :x  Real\n",
       " :y  Real\n",
       " :z  String"
      ]
     },
     "execution_count": 133,
     "metadata": {},
     "output_type": "execute_result"
    }
   ],
   "source": [
    "S1 = Tables.Schema([:a,:b],[Real,String])\n",
    "S2 = Tables.Schema([:x,:y,:z],[Real,Real,String])"
   ]
  },
  {
   "cell_type": "code",
   "execution_count": 134,
   "id": "309660f7-d393-4c49-b6ef-872f51fd9133",
   "metadata": {},
   "outputs": [],
   "source": [
    "using DataFrames"
   ]
  },
  {
   "cell_type": "code",
   "execution_count": 140,
   "id": "eec894a6-e194-45e4-90f6-88c6a70f478f",
   "metadata": {},
   "outputs": [],
   "source": [
    "df = DataFrame(x=Real[1,2,3],y=Real[1,1,1],z=Real[0,0,0]);"
   ]
  },
  {
   "cell_type": "code",
   "execution_count": 141,
   "id": "b998148c-0a9a-45b2-992c-873a6e4a1da1",
   "metadata": {},
   "outputs": [
    {
     "data": {
      "text/plain": [
       "Tables.Schema:\n",
       " :x  Real\n",
       " :y  Real\n",
       " :z  Real"
      ]
     },
     "execution_count": 141,
     "metadata": {},
     "output_type": "execute_result"
    }
   ],
   "source": [
    "Tables.schema(df)"
   ]
  },
  {
   "cell_type": "code",
   "execution_count": 143,
   "id": "070e88ff-f8f5-4841-95c2-338c396bed1e",
   "metadata": {},
   "outputs": [
    {
     "data": {
      "text/plain": [
       "ΔF (generic function with 1 method)"
      ]
     },
     "execution_count": 143,
     "metadata": {},
     "output_type": "execute_result"
    }
   ],
   "source": [
    "F = Dict(:a=>(:x,x->x+1),:b=>(:y,string))\n",
    "function δF(df,F,col)\n",
    "    map(F[col][2],df[!,F[col][1]])\n",
    "end\n",
    "function ΔF(df,F)\n",
    "    DataFrame(map(k->k=>δF(df,F,k),collect(keys(F))))\n",
    "end"
   ]
  },
  {
   "cell_type": "code",
   "execution_count": 144,
   "id": "71663845-6434-4478-a6b7-e488596c8623",
   "metadata": {},
   "outputs": [
    {
     "data": {
      "text/plain": [
       "3-element Vector{String}:\n",
       " \"1\"\n",
       " \"1\"\n",
       " \"1\""
      ]
     },
     "execution_count": 144,
     "metadata": {},
     "output_type": "execute_result"
    }
   ],
   "source": [
    "δF(df,F,:b)"
   ]
  },
  {
   "cell_type": "code",
   "execution_count": 145,
   "id": "593a6c4a-85cd-4e80-a857-854bfc9aa182",
   "metadata": {},
   "outputs": [
    {
     "data": {
      "text/html": [
       "<div><div style = \"float: left;\"><span>3×2 DataFrame</span></div><div style = \"clear: both;\"></div></div><div class = \"data-frame\" style = \"overflow-x: scroll;\"><table class = \"data-frame\" style = \"margin-bottom: 6px;\"><thead><tr class = \"header\"><th class = \"rowNumber\" style = \"font-weight: bold; text-align: right;\">Row</th><th style = \"text-align: left;\">a</th><th style = \"text-align: left;\">b</th></tr><tr class = \"subheader headerLastRow\"><th class = \"rowNumber\" style = \"font-weight: bold; text-align: right;\"></th><th title = \"Int64\" style = \"text-align: left;\">Int64</th><th title = \"String\" style = \"text-align: left;\">String</th></tr></thead><tbody><tr><td class = \"rowNumber\" style = \"font-weight: bold; text-align: right;\">1</td><td style = \"text-align: right;\">2</td><td style = \"text-align: left;\">1</td></tr><tr><td class = \"rowNumber\" style = \"font-weight: bold; text-align: right;\">2</td><td style = \"text-align: right;\">3</td><td style = \"text-align: left;\">1</td></tr><tr><td class = \"rowNumber\" style = \"font-weight: bold; text-align: right;\">3</td><td style = \"text-align: right;\">4</td><td style = \"text-align: left;\">1</td></tr></tbody></table></div>"
      ],
      "text/latex": [
       "\\begin{tabular}{r|cc}\n",
       "\t& a & b\\\\\n",
       "\t\\hline\n",
       "\t& Int64 & String\\\\\n",
       "\t\\hline\n",
       "\t1 & 2 & 1 \\\\\n",
       "\t2 & 3 & 1 \\\\\n",
       "\t3 & 4 & 1 \\\\\n",
       "\\end{tabular}\n"
      ],
      "text/plain": [
       "\u001b[1m3×2 DataFrame\u001b[0m\n",
       "\u001b[1m Row \u001b[0m│\u001b[1m a     \u001b[0m\u001b[1m b      \u001b[0m\n",
       "     │\u001b[90m Int64 \u001b[0m\u001b[90m String \u001b[0m\n",
       "─────┼───────────────\n",
       "   1 │     2  1\n",
       "   2 │     3  1\n",
       "   3 │     4  1"
      ]
     },
     "execution_count": 145,
     "metadata": {},
     "output_type": "execute_result"
    }
   ],
   "source": [
    "ΔF(df,F)"
   ]
  },
  {
   "cell_type": "code",
   "execution_count": null,
   "id": "1d90e1e4-4bc8-405f-ba86-75f1d6e1ef6c",
   "metadata": {},
   "outputs": [],
   "source": []
  }
 ],
 "metadata": {
  "kernelspec": {
   "display_name": "Julia-lts 1.10.7",
   "language": "julia",
   "name": "julia-lts-1.10"
  },
  "language_info": {
   "file_extension": ".jl",
   "mimetype": "application/julia",
   "name": "julia",
   "version": "1.10.7"
  }
 },
 "nbformat": 4,
 "nbformat_minor": 5
}
