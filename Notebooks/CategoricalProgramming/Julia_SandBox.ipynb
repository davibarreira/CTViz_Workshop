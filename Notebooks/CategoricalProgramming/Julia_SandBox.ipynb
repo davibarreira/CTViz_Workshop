{
 "cells": [
  {
   "cell_type": "markdown",
   "id": "e5cb6871-3884-4c6c-bb55-20870c88e6c1",
   "metadata": {},
   "source": [
    "#  Julia Basics\n",
    "\n",
    "Julia is a high-level programming language designed with scientific computing in mind. The\n",
    "language was first released in 2012 and has since then gained popularity among the\n",
    "scientific community. Different from most dynamic languages, it uses types extensively, which\n",
    "together with multiple dispatch provide a very elegant way of designing programs.\n",
    "\n",
    "Another interesting point is that Julia is multi-paradigm, combining features of Imperative,\n",
    "Functional, and Object-Oriented Programming. However, it can be argued that Julia tends\n",
    "towards Functional Programming. Those coming from OOP languages, such as Python,\n",
    "might be surprised to find that there are no classes or objects. Instead, Julia has structs,\n",
    "which allow users to construct new data types containing named fields."
   ]
  },
  {
   "cell_type": "code",
   "execution_count": 2,
   "id": "d575be76-b372-4048-9058-7b6856ad6bfd",
   "metadata": {},
   "outputs": [
    {
     "name": "stderr",
     "output_type": "stream",
     "text": [
      "\u001b[32m\u001b[1m  Activating\u001b[22m\u001b[39m new project at `~/Documents/GitHub/CTViz_Workshop/Notebooks/CategoricalProgramming`\n"
     ]
    }
   ],
   "source": [
    "using Pkg\n",
    "Pkg.activate(\".\")"
   ]
  },
  {
   "cell_type": "code",
   "execution_count": 4,
   "id": "dd5efeb9-b520-41d0-8892-e1d9a27ce83a",
   "metadata": {},
   "outputs": [],
   "source": [
    "using LinearAlgebra"
   ]
  },
  {
   "cell_type": "code",
   "execution_count": 6,
   "id": "f79f7ac8-bc87-47a7-a18e-eed699c10940",
   "metadata": {},
   "outputs": [
    {
     "data": {
      "text/plain": [
       "10"
      ]
     },
     "execution_count": 6,
     "metadata": {},
     "output_type": "execute_result"
    }
   ],
   "source": [
    "x = 10"
   ]
  },
  {
   "cell_type": "code",
   "execution_count": 8,
   "id": "87a27513-1958-44fc-8451-2a848fbdd956",
   "metadata": {},
   "outputs": [
    {
     "data": {
      "text/plain": [
       "\"ok\""
      ]
     },
     "execution_count": 8,
     "metadata": {},
     "output_type": "execute_result"
    }
   ],
   "source": [
    "typeof(x)\n",
    "\n",
    "y = \"ok\""
   ]
  },
  {
   "cell_type": "code",
   "execution_count": 10,
   "id": "c2ccb3b4-fccd-4fe4-9384-9b8e22bb2177",
   "metadata": {},
   "outputs": [
    {
     "data": {
      "text/plain": [
       "String"
      ]
     },
     "execution_count": 10,
     "metadata": {},
     "output_type": "execute_result"
    }
   ],
   "source": [
    "typeof(y)"
   ]
  },
  {
   "cell_type": "code",
   "execution_count": 11,
   "id": "af18629f-9b2a-43b5-b4da-c861c1d5d586",
   "metadata": {},
   "outputs": [
    {
     "data": {
      "text/plain": [
       "f (generic function with 1 method)"
      ]
     },
     "execution_count": 11,
     "metadata": {},
     "output_type": "execute_result"
    }
   ],
   "source": [
    "function f(x::Int)\n",
    "    x^2\n",
    "end"
   ]
  },
  {
   "cell_type": "code",
   "execution_count": 12,
   "id": "0eea6085-4fd2-46e2-b620-b3381b9f2e2f",
   "metadata": {},
   "outputs": [
    {
     "data": {
      "text/plain": [
       "100"
      ]
     },
     "execution_count": 12,
     "metadata": {},
     "output_type": "execute_result"
    }
   ],
   "source": [
    "f(x)"
   ]
  }
 ],
 "metadata": {
  "kernelspec": {
   "display_name": "Julia 1.11.2",
   "language": "julia",
   "name": "julia-1.11"
  },
  "language_info": {
   "file_extension": ".jl",
   "mimetype": "application/julia",
   "name": "julia",
   "version": "1.11.2"
  }
 },
 "nbformat": 4,
 "nbformat_minor": 5
}
