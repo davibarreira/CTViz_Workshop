{
 "cells": [
  {
   "cell_type": "markdown",
   "id": "65c02041-e7cf-4855-ab54-b91e653b29b3",
   "metadata": {},
   "source": [
    "# Free Monads\n",
    "\n",
    "Remember that for a set $A$, a free monoid is a list of $A$. Such free monoid\n",
    "can be coded as the following functor:\n",
    "```haskell\n",
    "List a = Nil | Cons a (List a)\n",
    "```\n",
    "\n",
    "Similarly, if we have\n",
    "an endofunctor $F:\\mathbf{Set} \\to \\mathbf{Set}$, then we can think of a free\n",
    "monad over $F$ as a \"list\" of applications of $F$.\n",
    "For example, consider a functor \n",
    "```haskell\n",
    "F a := Nil | Cons a\n",
    "```\n",
    "For a value `x :: Int`, we have that  `F(x)` is either `Nil` or `Cons Int`.\n",
    "A free monad over such functor would the functor\n",
    "```haskell\n",
    "(Free F) a := Pure a | Free (F (Free F a))\n",
    "```\n",
    "\n",
    "Suppose we have a functor:\n",
    "```haskell\n",
    "data F a = One a | Two a a | Two' a a | Three Int a a a\n",
    "```\n",
    "\n",
    "We want to construct tree whose leaves have type `a` and whose\n",
    "nodes are one of the \"subtypes\" `One`, `Two`, `Two'` or `Three`, e.g.\n",
    "```\n",
    "     Two\n",
    "    /   \\\n",
    " One   Three\n",
    "  |   / / | \\\n",
    "  a  2 a  a Two'\n",
    "            / \\\n",
    "           a   a\n",
    "```"
   ]
  },
  {
   "cell_type": "markdown",
   "id": "93194f0b-696d-41ba-b51f-6ee4b2cc0271",
   "metadata": {},
   "source": [
    "# Free Monads\n",
    "\n",
    "Remember that for a set $A$, a free monoid is a list of $A$. Such free monoid\n",
    "can be coded as the following functor:\n",
    "```haskell\n",
    "List a = Nil | Cons a (List a)\n",
    "```\n",
    "\n",
    "Similarly, if we have\n",
    "an endofunctor $F:\\mathbf{Set} \\to \\mathbf{Set}$, then we can think of a free\n",
    "monad over $F$ as a \"list\" of applications of $F$.\n",
    "For example, consider a functor \n",
    "```haskell\n",
    "F a := Nil | Cons a\n",
    "```\n",
    "For a value `x :: Int`, we have that  `F(x)` is either `Nil` or `Cons Int`.\n",
    "A free monad over such functor would the functor\n",
    "```haskell\n",
    "(Free F) a := Pure a | Free (F (Free F a))\n",
    "```\n",
    "\n",
    "Suppose we have a functor:\n",
    "```haskell\n",
    "data F a = Comp a a | Act R a\n",
    "```\n",
    "\n",
    "We want to construct tree whose leaves have type `a` and whose\n",
    "nodes are one of the \"subtypes\" `Comp` or `Act`, e.g.\n",
    "```\n",
    "     Comp\n",
    "    /   \\\n",
    " Act   Comp\n",
    "  |    /  \\\n",
    "  a   2  Act\n",
    "          | \n",
    "          a\n",
    "```"
   ]
  },
  {
   "cell_type": "code",
   "execution_count": 1,
   "id": "1ec72f57-83b8-4d1a-9cf4-309b9a4e7b71",
   "metadata": {},
   "outputs": [
    {
     "name": "stderr",
     "output_type": "stream",
     "text": [
      "\u001b[32m\u001b[1m  Activating\u001b[22m\u001b[39m project at `~/Documents/GitHub/CTViz_Workshop/Notebooks`\n"
     ]
    }
   ],
   "source": [
    "using Pkg\n",
    "Pkg.activate(\"../.\")\n",
    "using MLStyle\n",
    "using CoordinateTransformations: Transformation"
   ]
  },
  {
   "cell_type": "markdown",
   "id": "2f89a1bc-1045-4811-b957-9b9c421bb494",
   "metadata": {},
   "source": [
    "#### Creating the functor `F` for possible operations"
   ]
  },
  {
   "cell_type": "code",
   "execution_count": 2,
   "id": "bc9f7afd-4fdf-4fd1-b130-ee649ff96912",
   "metadata": {},
   "outputs": [],
   "source": [
    "@data F{a} begin\n",
    "    Comp(::a, ::a)\n",
    "    Act(::Int, ::a)\n",
    "end\n",
    "\n",
    "fmap(f::Function, x::Comp) = Comp(f(x._1), f(x._2))\n",
    "fmap(f::Function, x::Act) = Act(x._1, f(x._2));"
   ]
  },
  {
   "cell_type": "code",
   "execution_count": 3,
   "id": "d3adec01-d872-45ef-80b5-466471c24a77",
   "metadata": {},
   "outputs": [
    {
     "data": {
      "text/plain": [
       "Comp{Int64}(2, 8)"
      ]
     },
     "execution_count": 3,
     "metadata": {},
     "output_type": "execute_result"
    }
   ],
   "source": [
    "fmap(x-> 2x, Comp(1, 4))"
   ]
  },
  {
   "cell_type": "code",
   "execution_count": 4,
   "id": "bc6be7f0-3103-41fc-ae42-f6565e0d0f3e",
   "metadata": {},
   "outputs": [
    {
     "data": {
      "text/plain": [
       "Act{Int64}(2, 20)"
      ]
     },
     "execution_count": 4,
     "metadata": {},
     "output_type": "execute_result"
    }
   ],
   "source": [
    "fmap(x-> 2x, Act(2,10))"
   ]
  },
  {
   "cell_type": "markdown",
   "id": "d6620bed-548a-4ec9-a2b6-f4cd60aafb9a",
   "metadata": {},
   "source": [
    "Our functor `F` is working, but we just have \"shallow\" examples. We want to construct expression trees that\n",
    "combines `Act` with `Comp`.\n",
    "\n",
    "Let us try to replicate the tree example:\n",
    "```\n",
    "     Comp\n",
    "    /   \\\n",
    " Act   Comp\n",
    "  |    /  \\\n",
    "  a   2  Act\n",
    "          | \n",
    "          a\n",
    "```"
   ]
  },
  {
   "cell_type": "code",
   "execution_count": 5,
   "id": "24f4681f-0420-4315-9eeb-2b1f8c8bbe05",
   "metadata": {},
   "outputs": [
    {
     "ename": "LoadError",
     "evalue": "MethodError: no method matching Comp(::Float64, ::Act{Float64})\nThe type `Comp` exists, but no method is defined for this combination of argument types when trying to construct it.\n\n\u001b[0mClosest candidates are:\n\u001b[0m  Comp(::a, \u001b[91m::a\u001b[39m) where a\n\u001b[0m\u001b[90m   @\u001b[39m \u001b[35mMain\u001b[39m \u001b[90m\u001b[4mIn[2]:2\u001b[24m\u001b[39m\n",
     "output_type": "error",
     "traceback": [
      "MethodError: no method matching Comp(::Float64, ::Act{Float64})\nThe type `Comp` exists, but no method is defined for this combination of argument types when trying to construct it.\n\n\u001b[0mClosest candidates are:\n\u001b[0m  Comp(::a, \u001b[91m::a\u001b[39m) where a\n\u001b[0m\u001b[90m   @\u001b[39m \u001b[35mMain\u001b[39m \u001b[90m\u001b[4mIn[2]:2\u001b[24m\u001b[39m\n",
      "",
      "Stacktrace:",
      " [1] top-level scope",
      "   @ In[5]:1"
     ]
    }
   ],
   "source": [
    "Comp(Act(2, 1.0),Comp(2.0, Act(5,3.0)))"
   ]
  },
  {
   "cell_type": "markdown",
   "id": "8e5356b3-72cf-4d20-8240-94ee5c0ef67c",
   "metadata": {},
   "source": [
    "The code above does not work. Note that\n",
    "`Comp` is taking an `Float64` and `Act{Float64}` as input, which goes agains\n",
    "the type signature for `Comp(_1::a,_2::a)` which requires both arguments\n",
    "to have the same type.\n",
    "\n",
    "The solution to this is creating a new functor `FreeF`, where\n",
    "each value `a` is wrapped into a container `Pure`, and each\n",
    "of the operation (i.e. `FreeComp`, `FreeAct`) can receive a value either `Pure{a}` or `FreeF{a}`.\n",
    "\n",
    "In the example below, we will construct the `FreeF` functor manually. Yet,\n",
    "the idea is that `Free` should be a functor itself, such that `Free ∘ F`\n",
    "would define `FreeF`. This is possible in Haskell, but in Julia it requires writing macros, which is\n",
    "outside our scope."
   ]
  },
  {
   "cell_type": "markdown",
   "id": "1df4dc9a-f6b5-4f34-9def-c442a1c64296",
   "metadata": {},
   "source": [
    "#### Creating the Free Monad over our endofunctor `F`"
   ]
  },
  {
   "cell_type": "code",
   "execution_count": 82,
   "id": "d3204038-772c-40e2-9595-860beb1bab0b",
   "metadata": {},
   "outputs": [
    {
     "data": {
      "text/plain": [
       "μ (generic function with 2 methods)"
      ]
     },
     "execution_count": 82,
     "metadata": {},
     "output_type": "execute_result"
    }
   ],
   "source": [
    "# The FreeF is the free algebra over functor F\n",
    "@data FreeF{a} begin\n",
    "    Pure(::a)\n",
    "    FreeComp(::FreeF{a}, ::FreeF{a})\n",
    "    FreeAct(::Int, ::FreeF{a})\n",
    "end\n",
    "# The FreeF is the 𝕋 endofunctor that constructs tree expressions\n",
    "𝕋 = FreeF\n",
    "\n",
    "# The free and unfree operators are akin to the \n",
    "# in and in^{-1} of initial algebras.\n",
    "unfree(x::Pure) = x._1\n",
    "unfree(x::FreeComp) = Comp{𝕋}(x._1, x._2)\n",
    "unfree(x::FreeAct) = Act{𝕋}(x._1, x._2)\n",
    "\n",
    "free(x::Comp) = FreeComp(x._1, x._2)\n",
    "free(x::Act) = FreeAct(x._1, x._2)\n",
    "\n",
    "# The existence of the fmap shows that Free is a functor\n",
    "fmap(f::Function, x::Pure) = Pure(f(x._1))\n",
    "fmap(f::Function, x::𝕋) = free(fmap(y -> fmap(f, y), unfree(x)))\n",
    "\n",
    "# This is necessary in Julia in order to use Comp(FreeAct(1,Pure(10)),Pure(20))\n",
    "Comp(a::FreeF, b::FreeF) = Comp{FreeF}(a, b)\n",
    "Act(a::Int, b::FreeF) = Act{FreeF}(a, b)\n",
    "\n",
    "# λ: Id → G\n",
    "# ρ: F∘G→ G\n",
    "mcata(λ, ρ, x::Pure) = λ(x._1)\n",
    "mcata(λ, ρ, x::𝕋) = ρ(fmap(y -> mcata(λ, ρ, y), unfree(x)))\n",
    "\n",
    "# cata is the same as mcata, but for G = Id.\n",
    "# The catamorphism is the universal homomorphism from (𝕋 ∅, free) to (F, eval)\n",
    "# It can thus be used to evaluate the 𝕋 tree\n",
    "cata(alg::Function, x::Pure) = x._1\n",
    "cata(alg::Function, x::𝕋) = alg(fmap(y -> cata(alg, y), unfree(x)))\n",
    "\n",
    "# The η and μ make 𝕋 a monad\n",
    "η(x) = Pure(x)\n",
    "μ(x::Pure{<:𝕋}) = x._1\n",
    "μ(x::𝕋{<:𝕋}) = free(fmap(μ, unfree(x)))"
   ]
  },
  {
   "cell_type": "markdown",
   "id": "13477737-b724-4355-aad6-a2bca8823717",
   "metadata": {},
   "source": [
    "#### Using our Free Monads\n",
    "\n",
    "Let us now implement our example:"
   ]
  },
  {
   "cell_type": "code",
   "execution_count": 83,
   "id": "c6004b66-b8b2-4494-874a-8d06e17b5b88",
   "metadata": {},
   "outputs": [],
   "source": [
    "\"\"\"\n",
    "         FreeComp\n",
    "      /           \\\n",
    " FreeAct(2)     FreeComp\n",
    "    |            /      \\\n",
    " Pure(1.0)   Pure(2.0)  FreeAct(5)\n",
    "                          | \n",
    "                      Pure(3.0)\n",
    "\"\"\"\n",
    "tree = FreeComp(FreeAct(2, Pure(1.0)),FreeComp(Pure(2.0), FreeAct(5,Pure(3.0))));"
   ]
  },
  {
   "cell_type": "markdown",
   "id": "bd7353fd-0317-415b-b325-df0516a05923",
   "metadata": {},
   "source": [
    "We can now write a funciton to evalute such tree. To do this, we must specify\n",
    "how each opertion behaves."
   ]
  },
  {
   "cell_type": "code",
   "execution_count": 84,
   "id": "675449e9-3909-4c94-9cfc-7b5189a92a31",
   "metadata": {},
   "outputs": [
    {
     "data": {
      "text/plain": [
       "19.0"
      ]
     },
     "execution_count": 84,
     "metadata": {},
     "output_type": "execute_result"
    }
   ],
   "source": [
    "evalReal(x::Act) = x._1 * x._2\n",
    "evalReal(x::Comp) = x._1 + x._2\n",
    "\n",
    "cata(evalReal,tree)"
   ]
  },
  {
   "cell_type": "markdown",
   "id": "39596083-ee27-4e82-b833-4370569b4695",
   "metadata": {},
   "source": [
    "In this case, we are simply using `Act` as multiplication, and `Comp` for addition.\n",
    "We can think of different behaviors. For example, we can construct a tree having strings in the leaves."
   ]
  },
  {
   "cell_type": "code",
   "execution_count": 183,
   "id": "439d8632-4c47-4af2-9ce0-a97fa7b997c1",
   "metadata": {},
   "outputs": [
    {
     "data": {
      "text/plain": [
       "\"HelloHello World !!!!!!!!!!\""
      ]
     },
     "execution_count": 183,
     "metadata": {},
     "output_type": "execute_result"
    }
   ],
   "source": [
    "tree = FreeComp(FreeAct(2, Pure(\"Hello\")),FreeComp(Pure(\"World\"), FreeAct(10,Pure(\"!\"))));\n",
    "\n",
    "evalString(x::Act) = repeat(x._2,x._1) \n",
    "evalString(x::Comp) = x._1 *\" \"* x._2\n",
    "\n",
    "cata(evalString,tree)"
   ]
  },
  {
   "cell_type": "markdown",
   "id": "500f4343-c319-456d-938c-08f417664430",
   "metadata": {},
   "source": [
    "#### Better Ergonomics\n",
    "\n",
    "Let us now implement our example:"
   ]
  },
  {
   "cell_type": "code",
   "execution_count": 188,
   "id": "3123746b-430d-4974-9d29-1c4148002825",
   "metadata": {},
   "outputs": [
    {
     "name": "stdout",
     "output_type": "stream",
     "text": [
      "11 10 211 10 2"
     ]
    }
   ],
   "source": [
    "⊕(x::FreeF{T}, y::FreeF{T}) where T = FreeComp(x,y)\n",
    "⊗(x::Int, y::FreeF) = FreeAct(x,y)\n",
    "\n",
    "tree = 2 ⊗ ((2 ⊗ Pure(1)) ⊕ (Pure(10) ⊕ Pure(2)))\n",
    "# tree = (2 ⊗ Pure(1)) ⊕ (Pure(10) ⊕ Pure(2))\n",
    "\n",
    "print(cata(evalString,fmap(string,tree)))"
   ]
  },
  {
   "cell_type": "markdown",
   "id": "cfaf6c80-afba-4c05-bce4-900ba27467bd",
   "metadata": {},
   "source": [
    "### Tree of Trees\n",
    "\n",
    "Suppose we have a function that takes a value and returns a tree expression FreeF.\n",
    "The fact that FreeF is a monad means that we can actually build a tree of trees, and flatten into\n",
    "back into a single tree, which can then be evaluated."
   ]
  },
  {
   "cell_type": "code",
   "execution_count": 202,
   "id": "4aa06829-1504-4c8c-95c0-a0fbd2197533",
   "metadata": {},
   "outputs": [
    {
     "data": {
      "text/plain": [
       "FreeComp{Int64}(FreeComp{Int64}(Pure{Int64}(1), Pure{Int64}(2)), FreeComp{Int64}(Pure{Int64}(10), Pure{Int64}(1)))"
      ]
     },
     "execution_count": 202,
     "metadata": {},
     "output_type": "execute_result"
    }
   ],
   "source": [
    "function factor(x::Int)\n",
    "    v = x // 2\n",
    "    Pure(v.num) ⊕ Pure(v.den)\n",
    "end\n",
    "\n",
    "tree = Pure(1) ⊕ Pure(20)\n",
    "\n",
    "μ(fmap(factor, tree))"
   ]
  },
  {
   "cell_type": "code",
   "execution_count": 203,
   "id": "c90526c8-fe11-4dee-8935-e5819d540a50",
   "metadata": {},
   "outputs": [
    {
     "data": {
      "text/plain": [
       "14"
      ]
     },
     "execution_count": 203,
     "metadata": {},
     "output_type": "execute_result"
    }
   ],
   "source": [
    "cata(evalReal,μ(fmap(factor, tree)))"
   ]
  }
 ],
 "metadata": {
  "kernelspec": {
   "display_name": "Julia 1.11.2",
   "language": "julia",
   "name": "julia-1.11"
  },
  "language_info": {
   "file_extension": ".jl",
   "mimetype": "application/julia",
   "name": "julia",
   "version": "1.11.2"
  }
 },
 "nbformat": 4,
 "nbformat_minor": 5
}
