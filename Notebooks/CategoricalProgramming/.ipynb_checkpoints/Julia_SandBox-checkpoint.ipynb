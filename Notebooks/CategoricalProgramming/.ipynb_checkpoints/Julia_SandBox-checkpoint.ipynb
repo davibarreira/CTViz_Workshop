{
 "cells": [
  {
   "cell_type": "markdown",
   "id": "e5cb6871-3884-4c6c-bb55-20870c88e6c1",
   "metadata": {},
   "source": [
    "#  Julia Basics\n",
    "\n",
    "Julia is a high-level programming language designed with scientific computing in mind. The\n",
    "language was first released in 2012 and has since then gained popularity among the\n",
    "scientific community. Different from most dynamic languages, it uses types extensively, which\n",
    "together with multiple dispatch provide a very elegant way of designing programs.\n",
    "\n",
    "Another interesting point is that Julia is multi-paradigm, combining features of Imperative,\n",
    "Functional, and Object-Oriented Programming. However, it can be argued that Julia tends\n",
    "towards Functional Programming. Those coming from OOP languages, such as Python,\n",
    "might be surprised to find that there are no classes or objects. Instead, Julia has structs,\n",
    "which allow users to construct new data types containing named fields."
   ]
  },
  {
   "cell_type": "code",
   "execution_count": 2,
   "id": "d575be76-b372-4048-9058-7b6856ad6bfd",
   "metadata": {},
   "outputs": [
    {
     "name": "stderr",
     "output_type": "stream",
     "text": [
      "\u001b[32m\u001b[1m  Activating\u001b[22m\u001b[39m new project at `~/Documents/GitHub/CTViz_Workshop/Notebooks/CategoricalProgramming`\n"
     ]
    }
   ],
   "source": [
    "using Pkg\n",
    "Pkg.activate(\".\")"
   ]
  },
  {
   "cell_type": "code",
   "execution_count": null,
   "id": "dd5efeb9-b520-41d0-8892-e1d9a27ce83a",
   "metadata": {},
   "outputs": [],
   "source": []
  }
 ],
 "metadata": {
  "kernelspec": {
   "display_name": "Julia 1.11.2",
   "language": "julia",
   "name": "julia-1.11"
  },
  "language_info": {
   "file_extension": ".jl",
   "mimetype": "application/julia",
   "name": "julia",
   "version": "1.11.2"
  }
 },
 "nbformat": 4,
 "nbformat_minor": 5
}
