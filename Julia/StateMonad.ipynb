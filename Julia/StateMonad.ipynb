{
 "cells": [
  {
   "cell_type": "markdown",
   "id": "0e45698c-2c4d-4065-86b2-f675b243c9cd",
   "metadata": {},
   "source": [
    "# State Monad\n",
    "\n",
    "```haskell\n",
    "newtype State s a = State (s -> (a, s))\n",
    "```"
   ]
  },
  {
   "cell_type": "code",
   "execution_count": 1,
   "id": "c8526fc1-bcfb-4325-9e14-7244420f3093",
   "metadata": {},
   "outputs": [
    {
     "name": "stderr",
     "output_type": "stream",
     "text": [
      "\u001b[32m\u001b[1m  Activating\u001b[22m\u001b[39m project at `~/Documents/GitHub/CTViz_Workshop/Julia`\n"
     ]
    }
   ],
   "source": [
    "using Pkg\n",
    "Pkg.activate(\".\")"
   ]
  },
  {
   "cell_type": "code",
   "execution_count": 16,
   "id": "9e4929e9-1800-4b8e-b0db-c67521f0b443",
   "metadata": {},
   "outputs": [
    {
     "name": "stdout",
     "output_type": "stream",
     "text": [
      "s1(1) = (0, 1)\n",
      "s2(1) = (1, 1)\n",
      "s3(1) = (2, 1)\n"
     ]
    }
   ],
   "source": [
    "struct State{S}\n",
    "    \"s->(a,s)\"\n",
    "    f::Function\n",
    "end\n",
    "\n",
    "# runstate is the same as doing s(s)\n",
    "runstate(state::State{S}, g::S)  where S = state.f(g)\n",
    "function (s::State)(g)\n",
    "  s.f(g)\n",
    "end\n",
    "\n",
    "fmap(f::Function, state::State{S}) where S = State{S}(\n",
    "    s-> begin\n",
    "        a,s_new = runstate(state,s)\n",
    "        f(a), s_new\n",
    "    end\n",
    ")\n",
    "\n",
    "s1 = State{Int}(s::Int-> (0,s))\n",
    "runstate(s1, 1) == s1(1)\n",
    "@show s1(1);\n",
    "\n",
    "s2 = fmap(x->x+1,s1)\n",
    "@show s2(1);\n",
    "\n",
    "s3 = fmap(x->x+1,s2)\n",
    "@show s3(1);"
   ]
  },
  {
   "cell_type": "code",
   "execution_count": null,
   "id": "c0bd06bb-31ea-44c0-97cb-d0a30e3fae80",
   "metadata": {},
   "outputs": [],
   "source": []
  },
  {
   "cell_type": "code",
   "execution_count": null,
   "id": "f49b3403-a5a7-4247-90ea-82e3776001ac",
   "metadata": {},
   "outputs": [],
   "source": []
  },
  {
   "cell_type": "code",
   "execution_count": null,
   "id": "b820775a-71d5-442d-a665-ff43f624df16",
   "metadata": {},
   "outputs": [],
   "source": [
    "function (s::State)(state = nothing)\n",
    "  s.f(state)\n",
    "end\n",
    "\n",
    "fmap(f::Function, g::State) = State(s-> begin\n",
    "        a,s_new = g(s)\n",
    "        f(a), s_new\n",
    "    end)\n",
    "\n",
    "s1 = State(s -> (0, s))\n",
    "s1_update = fmap(x->x+2,s1)\n",
    "\n",
    "s1_update(\"ok\")"
   ]
  },
  {
   "cell_type": "code",
   "execution_count": null,
   "id": "bb20b881-c238-46c1-9470-72b442fe5dda",
   "metadata": {},
   "outputs": [],
   "source": []
  },
  {
   "cell_type": "code",
   "execution_count": 30,
   "id": "b6846386-9036-4acb-a12c-9f516ebbc625",
   "metadata": {},
   "outputs": [
    {
     "data": {
      "text/plain": [
       "220.0"
      ]
     },
     "execution_count": 30,
     "metadata": {},
     "output_type": "execute_result"
    }
   ],
   "source": [
    "sumlist(n) = n*(n+1)/2\n",
    "\n",
    "sumlist(10)\n",
    "split(n) = 0:n |> collect\n",
    "split(10) |> sum\n",
    "\n",
    "sum(map(sumlist,split(10)))"
   ]
  }
 ],
 "metadata": {
  "kernelspec": {
   "display_name": "Julia-lts 1.10.7",
   "language": "julia",
   "name": "julia-lts-1.10"
  },
  "language_info": {
   "file_extension": ".jl",
   "mimetype": "application/julia",
   "name": "julia",
   "version": "1.10.7"
  }
 },
 "nbformat": 4,
 "nbformat_minor": 5
}
