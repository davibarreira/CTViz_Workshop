{
 "cells": [
  {
   "cell_type": "markdown",
   "id": "bd95840e-3a69-4f55-ae5c-d262701b15fd",
   "metadata": {},
   "source": [
    "# Categorical Programming with Julia\n",
    "\n",
    "Our interpretation of Category Theory within Julia is mostly based on \"Category Theory for Programmers\" (by Milewski). The\n",
    "starting point is to interpret data types (e.g. Int, String,Float) as sets, subtypes as subsets\n",
    "and programming functions as set-functions, so that we can consider to be working within\n",
    "**Set**. Once this has been established, we can start to to model categorical concepts."
   ]
  },
  {
   "cell_type": "markdown",
   "id": "4c2af91a-f896-49f7-bcb9-af84235c7a89",
   "metadata": {},
   "source": [
    "## Initial and Terminal Objects"
   ]
  },
  {
   "cell_type": "markdown",
   "id": "91b3e9b7-044f-4088-a1e1-52c988d2cd1e",
   "metadata": {},
   "source": [
    "We know that in **Set** the ∅ set is the initial object. In Julia, the initial object corresponds to\n",
    "type Union{}. This type is also known as Base.Bottom, and it is a subtype of every type in\n",
    "Julia, including itself, just like how ∅ is a subset of every other set, including itself."
   ]
  },
  {
   "cell_type": "code",
   "execution_count": 1,
   "id": "ee6fd5c1-8845-4bfc-800f-39b7152b5510",
   "metadata": {},
   "outputs": [
    {
     "data": {
      "text/plain": [
       "(true, true, true)"
      ]
     },
     "execution_count": 1,
     "metadata": {},
     "output_type": "execute_result"
    }
   ],
   "source": [
    "Union{} <: Int, Union{} <: Nothing, Union{} <: Union{}"
   ]
  },
  {
   "cell_type": "markdown",
   "id": "c5fe8846-b6ea-47f4-9366-1794f6b461f4",
   "metadata": {},
   "source": [
    "Note that a function $f:\\varnothing \\to A$ cannot ever be called, since we cannot\n",
    "provide an element of $\\varnothing$. In the same way, a function\n",
    "f(x::Union{}) cannot be called, because there is no instance of type Union{}.\n",
    "\n",
    "A terminal object in $\\mathbf{Set}$ is any singleton set.\n",
    "Thus, the equivalent for a terminal object is any type with only a single possible instance.\n",
    "Therefore, just like it happens in $\\mathbf{Set}$, we have various types\n",
    "isomorphic to each other, and all representing the terminal object.\n",
    "For example, type Nothing has only a value `nothing`,\n",
    "type Tuple{} has only `()` as an element, and so on.\n",
    "We can also define more terminal types using structs:\n"
   ]
  },
  {
   "cell_type": "code",
   "execution_count": 2,
   "id": "628ee605-16d7-4c0b-8def-fd6d09475c6f",
   "metadata": {},
   "outputs": [
    {
     "data": {
      "text/plain": [
       "true"
      ]
     },
     "execution_count": 2,
     "metadata": {},
     "output_type": "execute_result"
    }
   ],
   "source": [
    "struct Terminal end\n",
    "Base.issingletontype(Terminal)"
   ]
  },
  {
   "cell_type": "markdown",
   "id": "c1c272eb-8554-4a6e-b19a-f59f5622c39a",
   "metadata": {},
   "source": [
    "The only element of our type Terminal is Terminal()."
   ]
  },
  {
   "cell_type": "markdown",
   "id": "4633f8b1-25bc-4f66-896e-ff318ab467b7",
   "metadata": {},
   "source": [
    "## Interpreting Values\n",
    "\n",
    "Now that we have showed that Julia has terminal objects, we can also formally interpret\n",
    "instances of types. In Category Theory, we cannot talk about what composes an object, only\n",
    "how morphisms act on them. Hence, if we wish to interpret programming within a category,\n",
    "we need to reinterpret what a value of a type is.\n",
    "\n",
    "The answer for this question is in Set. The number of functions going from a singleton set\n",
    "{a} to an arbitrary set A is equal to the number of elements in A. Therefore, each element\n",
    "x∈ A is isomorphic to a morphism x: {a} → A. This suggests that an instance of a certain\n",
    "type T can be interpreted as a morphism (function) from a singleton type to T, e.g. the value\n",
    "1::Int is the same as a function 1(::Nothing).\n",
    "\n",
    "When programming, this convoluted representation is not necessary. Yet, it allows us to talk\n",
    "about instances of types without leaving our categorical interpretative framework."
   ]
  },
  {
   "cell_type": "code",
   "execution_count": 21,
   "id": "87284c71-4d9e-4e4f-a4f9-16a257102dea",
   "metadata": {},
   "outputs": [
    {
     "data": {
      "text/plain": [
       "true"
      ]
     },
     "execution_count": 21,
     "metadata": {},
     "output_type": "execute_result"
    }
   ],
   "source": [
    "# Regular way\n",
    "A = 1\n",
    "\n",
    "# Defining A as a function with no arguments\n",
    "A = () -> 1\n",
    "A() == 1"
   ]
  },
  {
   "cell_type": "markdown",
   "id": "fc5fea40-1224-4825-8010-c8580d409779",
   "metadata": {},
   "source": [
    "## Products and Co-products\n",
    "\n",
    "In **Set**, we have the product of two sets is the Cartesian product, and the co-product is the\n",
    "disjoint union. The same can be applied for types. The Tuple{Type1, Type2} is the product\n",
    "of Type1 and Type2, while Union{Type1,Type2} is the co-product."
   ]
  },
  {
   "cell_type": "code",
   "execution_count": 22,
   "id": "1778d6b9-b0b2-46e2-9753-7082890944c0",
   "metadata": {},
   "outputs": [
    {
     "data": {
      "text/plain": [
       "true"
      ]
     },
     "execution_count": 22,
     "metadata": {},
     "output_type": "execute_result"
    }
   ],
   "source": [
    "(\"a\", 1) isa Tuple{String,Int}"
   ]
  },
  {
   "cell_type": "code",
   "execution_count": 23,
   "id": "9a0b5ad6-4476-4c8e-a9f0-baf6af048ebb",
   "metadata": {},
   "outputs": [
    {
     "data": {
      "text/plain": [
       "(true, true)"
      ]
     },
     "execution_count": 23,
     "metadata": {},
     "output_type": "execute_result"
    }
   ],
   "source": [
    "Int <: Union{String,Int}, String <: Union{String,Int}"
   ]
  },
  {
   "cell_type": "code",
   "execution_count": 24,
   "id": "f18177d2-ede9-4a3e-a4e3-350e9507cf2a",
   "metadata": {},
   "outputs": [
    {
     "data": {
      "text/plain": [
       "(true, true)"
      ]
     },
     "execution_count": 24,
     "metadata": {},
     "output_type": "execute_result"
    }
   ],
   "source": [
    "1 isa Union{String,Int}, \"a\" isa Union{String,Int}"
   ]
  },
  {
   "cell_type": "markdown",
   "id": "029b3b9a-cabd-48fb-b3c8-f54174b91f7b",
   "metadata": {},
   "source": [
    "We can also define types for infinite products using Vararg. For example:"
   ]
  },
  {
   "cell_type": "code",
   "execution_count": 26,
   "id": "7bc7451c-67e6-4645-8b97-c651d5c923a3",
   "metadata": {},
   "outputs": [
    {
     "data": {
      "text/plain": [
       "Tuple{Vararg{Int64}}"
      ]
     },
     "execution_count": 26,
     "metadata": {},
     "output_type": "execute_result"
    }
   ],
   "source": [
    "FinSeq = Tuple{Vararg{Int}}"
   ]
  },
  {
   "cell_type": "code",
   "execution_count": 29,
   "id": "387ce9c3-69a1-4094-9026-b921f938e960",
   "metadata": {},
   "outputs": [
    {
     "data": {
      "text/plain": [
       "true"
      ]
     },
     "execution_count": 29,
     "metadata": {},
     "output_type": "execute_result"
    }
   ],
   "source": [
    "(1,2) isa FinSeq"
   ]
  },
  {
   "cell_type": "code",
   "execution_count": 30,
   "id": "97d4ad45-ffbc-4540-a4ac-451986965056",
   "metadata": {},
   "outputs": [
    {
     "data": {
      "text/plain": [
       "true"
      ]
     },
     "execution_count": 30,
     "metadata": {},
     "output_type": "execute_result"
    }
   ],
   "source": [
    "(1,2,3,4,5) isa FinSeq"
   ]
  },
  {
   "cell_type": "markdown",
   "id": "4555aace-b949-48f7-8db1-948a59ac6418",
   "metadata": {},
   "source": [
    "## Functors"
   ]
  },
  {
   "cell_type": "markdown",
   "id": "f827d5a9-296c-474f-ad96-e6b9d489cb3e",
   "metadata": {},
   "source": [
    "A functor acts on categories, taking objects to objects, morphisms to morphisms, while\n",
    "preserving compositions and identities. Therefore, a functor must take types and return types,\n",
    "take functions and return functions, and it must satisfy the composition and the identity\n",
    "properties. The functors that interests us are the endofunctors over Set, i.e. F : Set → Set.\n",
    "\n",
    "This can be modeled by a parametric struct F{T} together with a higher-order function\n",
    "fmap(f::Function, x::F{T}). Consider the following example:"
   ]
  },
  {
   "cell_type": "code",
   "execution_count": 32,
   "id": "7f871510-1d54-40af-866f-9b3bf9324ffd",
   "metadata": {},
   "outputs": [
    {
     "data": {
      "text/plain": [
       "F{Int64}(1, 2)"
      ]
     },
     "execution_count": 32,
     "metadata": {},
     "output_type": "execute_result"
    }
   ],
   "source": [
    "struct F{T}\n",
    "    x::T\n",
    "    y::T\n",
    "end\n",
    "fmap(f::Function, a::F{T}) where T = F(f(a.x), f(a.y))\n",
    "F(f::Function) = a -> fmap(f,a);\n",
    "a = F(1,2)"
   ]
  },
  {
   "cell_type": "code",
   "execution_count": 34,
   "id": "8bccf75b-fbab-4bd4-8fe9-019dec7247e2",
   "metadata": {},
   "outputs": [
    {
     "data": {
      "text/plain": [
       "F{Int64}(2, 4)"
      ]
     },
     "execution_count": 34,
     "metadata": {},
     "output_type": "execute_result"
    }
   ],
   "source": [
    "id(x) = x\n",
    "f(x) = x*2\n",
    "g(x) = x^2\n",
    "fmap(f, a)"
   ]
  },
  {
   "cell_type": "code",
   "execution_count": 35,
   "id": "4eae4bfe-d697-43df-9241-db76c6e6efcc",
   "metadata": {},
   "outputs": [
    {
     "data": {
      "text/plain": [
       "F{Int64}(2, 4)"
      ]
     },
     "execution_count": 35,
     "metadata": {},
     "output_type": "execute_result"
    }
   ],
   "source": [
    "F(f)(a)"
   ]
  },
  {
   "cell_type": "code",
   "execution_count": 37,
   "id": "0dc3055a-d8b2-4760-8e83-c91be365084b",
   "metadata": {},
   "outputs": [
    {
     "data": {
      "text/plain": [
       "true"
      ]
     },
     "execution_count": 37,
     "metadata": {},
     "output_type": "execute_result"
    }
   ],
   "source": [
    "(F(f) ∘ F(g))(a) == F(f ∘ g)(a)"
   ]
  },
  {
   "cell_type": "code",
   "execution_count": 38,
   "id": "bab7fb4d-f1f2-4889-94e8-bdecc5663883",
   "metadata": {},
   "outputs": [
    {
     "data": {
      "text/plain": [
       "F{Int64}(1, 2)"
      ]
     },
     "execution_count": 38,
     "metadata": {},
     "output_type": "execute_result"
    }
   ],
   "source": [
    "F(id)(a)"
   ]
  },
  {
   "cell_type": "markdown",
   "id": "2346ce4b-34e7-4174-b5be-c8986c8e706d",
   "metadata": {},
   "source": [
    "So why is this implementation a functor? Because, F defines takes types T to types F{T},\n",
    "while the fmap encodes how F acts on functions, i.e. it defines F(f). Moreover, it preserves\n",
    "composition and identity, as shown above.\n",
    "\n",
    "Note that just being a parametric type with an fmap does not guarantee that it is a functor in\n",
    "the categorical sense. It is the user who must check that the specific implementation satisfies\n",
    "the theoretical properties for a functor. Next, let us do some other examples."
   ]
  },
  {
   "cell_type": "markdown",
   "id": "106edade-a687-48df-83ff-c7a4e85e5f94",
   "metadata": {},
   "source": [
    "#### Identity Functor\n",
    "It takes every type T to itself, and every function f to itself."
   ]
  },
  {
   "cell_type": "code",
   "execution_count": 48,
   "id": "e3043710-82d1-48ed-9d9c-5ee86085d7b5",
   "metadata": {},
   "outputs": [
    {
     "data": {
      "text/plain": [
       "fmap (generic function with 2 methods)"
      ]
     },
     "execution_count": 48,
     "metadata": {},
     "output_type": "execute_result"
    }
   ],
   "source": [
    "struct Id{T}\n",
    "    value::T\n",
    "end\n",
    "\n",
    "fmap(f::Function, i::Id{T}) where T = Id(f(i.value))"
   ]
  },
  {
   "cell_type": "markdown",
   "id": "284e8b21-7699-4885-8e82-8bcceee0313b",
   "metadata": {},
   "source": [
    "The Id functor just wraps values into the Id struct. To apply the fmap with a function f\n",
    "is effectively the same as applying f directly. Note that, technically speaking, our functor\n",
    "Id is taking a type T to Id{T}, which is different leaving it as T. Yet, it is easy to see that\n",
    "the Id{T} type is isomorphic to type T, hence, for our categorical interpretation they are the\n",
    "same object."
   ]
  },
  {
   "cell_type": "markdown",
   "id": "0b75becd-e9b5-4a1c-a382-4b5f1950b65e",
   "metadata": {},
   "source": [
    "#### Array  as a Functor\n",
    "\n",
    "There are many other examples of functors. Another very useful one are arrays. Note that\n",
    "an array takes a type T and returns a type Array{T}. Julia has a function map defined on\n",
    "arrays that do what our fmap would do."
   ]
  },
  {
   "cell_type": "code",
   "execution_count": 50,
   "id": "52f25b44-a886-46d9-82f4-dfba78d20b9f",
   "metadata": {},
   "outputs": [
    {
     "data": {
      "text/plain": [
       "3-element Vector{Int64}:\n",
       " 1\n",
       " 4\n",
       " 9"
      ]
     },
     "execution_count": 50,
     "metadata": {},
     "output_type": "execute_result"
    }
   ],
   "source": [
    "fmap(f::Function, v::Array{T}) where T = map(f,v)\n",
    "\n",
    "A = [1,2,3]\n",
    "\n",
    "fmap(x->x^2, [1,2,3])"
   ]
  },
  {
   "cell_type": "markdown",
   "id": "fdfac06b-5cca-401b-84fd-d3c219c6821a",
   "metadata": {},
   "source": [
    "#### Maybe Functor\n",
    "Let us end this subsection with functor Maybe (also called Option). This functor is a way\n",
    "of dealing with functions that might return nothing. Think for example of a function that\n",
    "searches a database and returns what it found. The result should then be composed with\n",
    "another function that does some calculation. If the original search returns nothing, the\n",
    "calculation will return an error. We avoid this with Maybe."
   ]
  },
  {
   "cell_type": "code",
   "execution_count": 52,
   "id": "b9a5068c-2b97-494e-82e4-70e4a971f1ea",
   "metadata": {},
   "outputs": [
    {
     "data": {
      "text/plain": [
       "Maybe\u001b[90m (alias for \u001b[39m\u001b[90mUnion{Nothing, Just{T}} where T\u001b[39m\u001b[90m)\u001b[39m"
      ]
     },
     "execution_count": 52,
     "metadata": {},
     "output_type": "execute_result"
    }
   ],
   "source": [
    "struct Just{T}\n",
    "x::T\n",
    "end\n",
    "just(J::Just) = J.x\n",
    "Maybe{T} = Union{Nothing,Just{T}}\n",
    "Maybe(a::T) where T = Just(a)\n",
    "\n",
    "Maybe(::Nothing) = nothing\n",
    "Maybe() = nothing\n",
    "\n",
    "fmap(f::Function, a::Just{T}) where T = Just(f(a.x))\n",
    "fmap(f::Function, a::Nothing) = nothing\n",
    "Maybe(f::Function) = a::Maybe -> fmap(f,a)"
   ]
  },
  {
   "cell_type": "markdown",
   "id": "a0bb766e-a646-4b75-b801-42d162f15281",
   "metadata": {},
   "source": [
    "In the code above we have created the Maybe functor. Note that it consists of a union of\n",
    "types Nothing and a parametric type Just{T}. Next, let us show an example of how this\n",
    "indeed preserves identities and function compositions."
   ]
  },
  {
   "cell_type": "code",
   "execution_count": 54,
   "id": "2d28fac3-a631-4301-86f6-f90231601ad0",
   "metadata": {},
   "outputs": [
    {
     "data": {
      "text/plain": [
       "true"
      ]
     },
     "execution_count": 54,
     "metadata": {},
     "output_type": "execute_result"
    }
   ],
   "source": [
    "# running our example\n",
    "Maybe(identity)(Maybe()) isa Nothing"
   ]
  },
  {
   "cell_type": "code",
   "execution_count": 55,
   "id": "95812cd8-ff99-422f-92c8-548e3f51bc09",
   "metadata": {},
   "outputs": [
    {
     "data": {
      "text/plain": [
       "true"
      ]
     },
     "execution_count": 55,
     "metadata": {},
     "output_type": "execute_result"
    }
   ],
   "source": [
    "f(x::Int)::Int = x^2; g(x::Int)::Int = x + 1\n",
    "Maybe(f∘g)(Maybe(10)) == (Maybe(f) ∘ Maybe(g))(Maybe(10))"
   ]
  },
  {
   "cell_type": "markdown",
   "id": "8db6e41a-0f25-458a-8824-c88dbd8eb755",
   "metadata": {},
   "source": [
    "Our functor worked. Let us do an actual application to show how it can be useful. Consider\n",
    "that we have a function get_user_from_db that gets a value from a database by searching\n",
    "for an index. If the index is not in the database, it returns nothing. Hence, our function is of\n",
    "type Union{User, Nothing}.\n",
    "\n",
    "Next, we have a function get_name(x::User)::String, that returns the name of the user, if\n",
    "a user is passed. We cannot (in good conscience) compose our function get_name with the\n",
    "function get_user_from_db, because the types do not match.\n",
    "\n",
    "We could solve this by extending our get_name function to be able to receive nothing values,\n",
    "then apply an if statement to check if the nothing is passed, and then return nothing. But\n",
    "this involves a lot of refactoring and our get_name does exactly what it is supposed to do.\n",
    "We do not want to add some extra behavior to deal with incorrect input. In this scenario, we\n",
    "can use Maybe(get_name), which takes Maybe{User} and returns Maybe{String}."
   ]
  },
  {
   "cell_type": "code",
   "execution_count": 56,
   "id": "a458f404-682c-4216-a2be-92d9c0f6affa",
   "metadata": {},
   "outputs": [
    {
     "data": {
      "text/plain": [
       "get_user_from_db (generic function with 1 method)"
      ]
     },
     "execution_count": 56,
     "metadata": {},
     "output_type": "execute_result"
    }
   ],
   "source": [
    "# Create a User type\n",
    "struct User\n",
    "    name::String\n",
    "end\n",
    "\n",
    "# Populate fictional database\n",
    "DATABASE = Dict( 4 =>User(\"James\"), 1 =>User(\"Peter\"));\n",
    "\n",
    "# Define function to search DB\n",
    "function get_user_from_db(uid::Int)::Union{User, Nothing}\n",
    "    if uid in keys(DATABASE)\n",
    "        return DATABASE[uid]\n",
    "    end\n",
    "    return nothing\n",
    "end"
   ]
  },
  {
   "cell_type": "code",
   "execution_count": 57,
   "id": "6ddf0e77-60c7-4850-86e5-184052fd4565",
   "metadata": {},
   "outputs": [
    {
     "data": {
      "text/plain": [
       "User(\"Peter\")"
      ]
     },
     "execution_count": 57,
     "metadata": {},
     "output_type": "execute_result"
    }
   ],
   "source": [
    "# Definine function to extract name from user\n",
    "get_name(x::User)::String = x.name\n",
    "get_user_from_db(1)\n"
   ]
  },
  {
   "cell_type": "code",
   "execution_count": 61,
   "id": "14eb285e-218b-4af9-b7ee-2637fc2e1b3f",
   "metadata": {},
   "outputs": [
    {
     "name": "stdout",
     "output_type": "stream",
     "text": [
      "fmap(get_name, Maybe(get_user_from_db(10))) = nothing\n"
     ]
    }
   ],
   "source": [
    "# Note that we get no errors here even though the user does no exists\n",
    "@show fmap(get_name, Maybe(get_user_from_db(10)))"
   ]
  },
  {
   "cell_type": "code",
   "execution_count": 59,
   "id": "8738b202-f8aa-449a-ac7e-fdbf5d093780",
   "metadata": {},
   "outputs": [
    {
     "data": {
      "text/plain": [
       "Just{String}(\"Peter\")"
      ]
     },
     "execution_count": 59,
     "metadata": {},
     "output_type": "execute_result"
    }
   ],
   "source": [
    "# Note that it returns `Just{String}` and not `String`\n",
    "fmap(get_name, Maybe(get_user_from_db(1)))"
   ]
  },
  {
   "cell_type": "markdown",
   "id": "4735163b-3006-4dd2-8608-5c4214c2278d",
   "metadata": {},
   "source": [
    "## Natural Transformations\n",
    "\n",
    "Once we have shown how to code a functor, we can talk about natural transformations. A\n",
    "natural transformation is a “covariant” mapping between functors, in the sense that we can\n",
    "first apply the transformation to the input value and then the functor, or we can apply the\n",
    "functor and then the transformation.\n",
    "\n",
    "It is important to note that not every pair of functors have a natural transformation between\n",
    "them. Actually, the existence of a natural transformation between two functors is a relevant\n",
    "information about the similarity of these functors.\n",
    "\n",
    "In Julia, a natural transformation α is a polymorphic function, meaning that it is a function\n",
    "that is defined over many types via parametric types. For example, given two functors F and\n",
    "G, a natural transformation α{T} is a function from type F{T} to type G{T}, such that for\n",
    "every function f from type A to B, we have α{B} ∘ F(f)(x) == G(f) ∘ α{A}(x).\n",
    "\n",
    "Note that, just like with functors, it is up to the user to check whether a given implementation\n",
    "indeed satisfies the naturality condition. Below we implement an example:"
   ]
  },
  {
   "cell_type": "code",
   "execution_count": 63,
   "id": "316b4d66-cec4-4147-b759-a3fea97e8c26",
   "metadata": {},
   "outputs": [
    {
     "data": {
      "text/plain": [
       "α (generic function with 1 method)"
      ]
     },
     "execution_count": 63,
     "metadata": {},
     "output_type": "execute_result"
    }
   ],
   "source": [
    "# Defining functors F and G\n",
    "struct F{T}\n",
    "    x::T\n",
    "    y::T\n",
    "end\n",
    "fmap(f,v::F) = F(f(v.x),f(v.y))\n",
    "F(f::Function) = x::F -> fmap(f,x)\n",
    "\n",
    "struct G{T}\n",
    "    a::T\n",
    "    b::T\n",
    "end\n",
    "fmap(f,v::G) = G(f(v.a),f(v.b))\n",
    "G(f::Function) = x::G -> fmap(f,x)\n",
    "\n",
    "# Defining natural transformation between F and G\n",
    "α(v::F{T}) where T = G(v.y,v.x)"
   ]
  },
  {
   "cell_type": "code",
   "execution_count": 64,
   "id": "2a9677e2-b5a1-4e9f-8841-75e82080f899",
   "metadata": {},
   "outputs": [
    {
     "data": {
      "text/plain": [
       "true"
      ]
     },
     "execution_count": 64,
     "metadata": {},
     "output_type": "execute_result"
    }
   ],
   "source": [
    "α(fmap(f,a)) == fmap(f, α(a))"
   ]
  },
  {
   "cell_type": "markdown",
   "id": "f5795e6c-47d2-4fee-bec2-422de76df1de",
   "metadata": {},
   "source": [
    "## Monoids and Monads\n",
    "\n",
    "A monoid in Set is a triple (M,e,⊗) where M is a set, e ∈ M is the neutral element and\n",
    "⊗ is an associative binary operator. In programming, many types can be given a monoidal\n",
    "structure, for example, (String, \"\", ∗) is the monoid over strings where the neutral element\n",
    "is the empty string and the binary operation is string concatenation. Remember that the\n",
    "same type can have multiple monoidal structures, such as in (Int, 0, +) or (Int, 1, ∗).\n",
    "\n",
    "For our data visualization framework, the most important example of monoid are lists (arrays).\n",
    "Given any type A, we can use the Array functor to define a monoid (ArrayT, T[], vcat),\n",
    "where vcat is the list concatenation function and T[] is the empty list for values of type T.\n",
    "\n",
    "A monad is more complex. Remember that a monad is a monoid in the category of\n",
    "endofunctors. It consists of a triple (T,µ,η) where T : C → C is an endofunctor, µ: T◦T → T\n",
    "is a natural transformation called join, and η : Id → T is a natural transformation called\n",
    "unit. They must satisfy the commutative diagram shown in Figure 2.12.\n",
    "\n",
    "This suggests that, computationally, a monad is defined in the level of parametric types\n",
    "together with a pair natural transformations. Instead of trying to explain how a monad\n",
    "works, it is better to dive into an example2. We are going to define a monad (Writer, μ, η),\n",
    "and we start by creating the functor Writer."
   ]
  },
  {
   "cell_type": "code",
   "execution_count": 67,
   "id": "8b70b553-119d-405f-bc55-e507be26b5b2",
   "metadata": {},
   "outputs": [
    {
     "data": {
      "text/plain": [
       "Writer{Int64}(100, \"ok\")"
      ]
     },
     "execution_count": 67,
     "metadata": {},
     "output_type": "execute_result"
    }
   ],
   "source": [
    "struct Writer{T}\n",
    "a::T\n",
    "log::String\n",
    "end\n",
    "fmap(f::Function, x::Writer) = Writer(f(x.a),x.log)\n",
    "Writer(f::Function) = x->fmap(f,x);\n",
    "\n",
    "fmap(x->x^2, Writer(10,\"ok\"))"
   ]
  },
  {
   "cell_type": "markdown",
   "id": "dd0fd193-de14-4401-9d5c-e40795e9d836",
   "metadata": {},
   "source": [
    "The functor embellishes functions by adding a string to them. This is useful if one wishes to\n",
    "attach a log to a function, and it can be done by simply wrapping the original function in\n",
    "our Writer functor. See the example below:"
   ]
  },
  {
   "cell_type": "code",
   "execution_count": 69,
   "id": "c3f9b371-2d11-4735-9ecd-68b82f71321d",
   "metadata": {},
   "outputs": [],
   "source": [
    "square(x::Int) = x^2\n",
    "square_log(x::Int) = Writer(square(x),\"Value squared.\")\n",
    "\n",
    "\n",
    "addone(x::Int) = x + 1\n",
    "addone_log(x::Int) = Writer(addone(x), \"+1. \" );"
   ]
  },
  {
   "cell_type": "markdown",
   "id": "86a1fb90-ffbd-483f-9b6f-7eaa076c0401",
   "metadata": {},
   "source": [
    "Imagine now a situation where we have a variable x and that we apply a sequence of\n",
    "transformations to it. As we apply the transformations, we want to update the log, so that\n",
    "by the end we have the final result together with the log of all operations applied. In other\n",
    "words, we want to be able to compose square_log and addone_log. The problem is, their\n",
    "types do not match. The question is then, how can we compose two functions with type\n",
    "signature Int −> Writer{Int}?\n",
    "\n",
    "Monads solve this question for us via the Kleisli category  denoted by $\\textbf{Set}_{Writer}$. Note\n",
    "that, in the definition of the Kleisli category we have a special composition that uses the\n",
    "monadic operator µ. Hence, in order to compose our functions Int −> Writer{Int}, we must\n",
    "specify a monad over the endofunctor Writer by implementing two polymorphic functions η\n",
    "and μ. This is done in the code below:"
   ]
  },
  {
   "cell_type": "code",
   "execution_count": 72,
   "id": "db6e7690-c4f5-47bc-985d-01e59df1799e",
   "metadata": {},
   "outputs": [
    {
     "data": {
      "text/plain": [
       "μ (generic function with 1 method)"
      ]
     },
     "execution_count": 72,
     "metadata": {},
     "output_type": "execute_result"
    }
   ],
   "source": [
    "η(x::T) where T = Writer(x, \"\")\n",
    "μ(w::Writer{Writer{T}}) where T = Writer(w.a.a,w.log * w.a.log )"
   ]
  },
  {
   "cell_type": "markdown",
   "id": "bbd14a5d-4e13-4001-b842-f3b075482458",
   "metadata": {},
   "source": [
    "The η represents the neutral element, while μ is the monadic binary operator. The neutrality\n",
    "of η is shown by composing it with μ:"
   ]
  },
  {
   "cell_type": "code",
   "execution_count": 73,
   "id": "07b0da0a-8241-43d3-b163-f046f0a440e2",
   "metadata": {},
   "outputs": [
    {
     "data": {
      "text/plain": [
       "true"
      ]
     },
     "execution_count": 73,
     "metadata": {},
     "output_type": "execute_result"
    }
   ],
   "source": [
    "x = Writer(1,\"Ok.\");\n",
    "μ(η(x)) == x"
   ]
  },
  {
   "cell_type": "markdown",
   "id": "128fa9e6-0e46-4a85-a5b4-9f6762650463",
   "metadata": {},
   "source": [
    "Next, note that if we try to apply the fmap to our embellished function, we get a Writer{Writer{Int}}. Using the monadic μ we can “flatten” it into a Writer{Int}."
   ]
  },
  {
   "cell_type": "code",
   "execution_count": 75,
   "id": "480cbba3-cdd4-4745-9286-f3fd3c6a2382",
   "metadata": {},
   "outputs": [
    {
     "data": {
      "text/plain": [
       "Writer{Writer{Int64}}(Writer{Int64}(11, \"+1. \"), \"\")"
      ]
     },
     "execution_count": 75,
     "metadata": {},
     "output_type": "execute_result"
    }
   ],
   "source": [
    "fmap(addone_log, Writer(10,\"\"))"
   ]
  },
  {
   "cell_type": "markdown",
   "id": "060a05ac-a55f-4a49-bdd0-206b45bf71ac",
   "metadata": {},
   "source": [
    "We can now implement the Kleisli composition using ⊗ to represent it. With this operator,\n",
    "we can finally compose square_log and addone_log even though their types don’t match:"
   ]
  },
  {
   "cell_type": "code",
   "execution_count": 77,
   "id": "8c9c67f5-69f5-438e-ad67-bfb9ae0e3554",
   "metadata": {},
   "outputs": [
    {
     "data": {
      "text/plain": [
       "Writer{Int64}(4, \"+1. Value squared.\")"
      ]
     },
     "execution_count": 77,
     "metadata": {},
     "output_type": "execute_result"
    }
   ],
   "source": [
    "⊗(g::Function, f::Function) = μ ∘ Writer(g) ∘ f\n",
    "\n",
    "(square_log ⊗ addone_log)(1)"
   ]
  },
  {
   "cell_type": "code",
   "execution_count": 78,
   "id": "0bd58c58-0607-41de-8385-6f191f2f0057",
   "metadata": {},
   "outputs": [
    {
     "data": {
      "text/plain": [
       "Writer{Int64}(2, \"Value squared.Value squared.+1. \")"
      ]
     },
     "execution_count": 78,
     "metadata": {},
     "output_type": "execute_result"
    }
   ],
   "source": [
    "(addone_log ⊗ square_log ⊗ square_log)(1)"
   ]
  },
  {
   "cell_type": "markdown",
   "id": "ac4b70ee-4872-449d-be5b-0fbc63d401ac",
   "metadata": {},
   "source": [
    "## F-Algebras and F-Coalgebras\n",
    "\n",
    "The implementation of F-algebras and F-coalgebras is quite straightforward. Given a functor\n",
    "F{T}, an algebra is simply a function such as alg(a::F{Int})::Int, where Int here is the\n",
    "carrier. Similarly, a coalgebra would be coalg(a::Int)::F{Int}.\n",
    "\n",
    "Let us do an example. Consider the following functor RingF:"
   ]
  },
  {
   "cell_type": "code",
   "execution_count": 80,
   "id": "08b3ed1c-6a33-4d5c-a5ce-82f08a16dba4",
   "metadata": {},
   "outputs": [
    {
     "data": {
      "text/plain": [
       "fmap (generic function with 12 methods)"
      ]
     },
     "execution_count": 80,
     "metadata": {},
     "output_type": "execute_result"
    }
   ],
   "source": [
    "struct RZeroF end\n",
    "struct ROneF end\n",
    "struct RAddF{T}\n",
    "    _1::T\n",
    "    _2::T\n",
    "end\n",
    "struct RMultF{T}\n",
    "    _1::T\n",
    "    _2::T\n",
    "end\n",
    "\n",
    "RingF{T} = Union{RZeroF,ROneF,RAddF{T}, RMultF{T}}\n",
    "fmap(f::Function, x::RZeroF) = RZeroF()\n",
    "fmap(f::Function, x::ROneF) = ROneF()\n",
    "fmap(f::Function, x::RAddF{T}) where T = RAddF(f(x._1),f(x._2))\n",
    "fmap(f::Function, x::RMultF{T}) where T = RMultF(f(x._1),f(x._2))"
   ]
  },
  {
   "cell_type": "markdown",
   "id": "307406bf-ffdd-4065-ad0e-d4b2cd814e57",
   "metadata": {},
   "source": [
    "The functor RingF is a abstract parametric type, where each concrete subtype is a functor\n",
    "with a corresponding fmap. This functor represents the algebraic structure for a ring.\n",
    "\n",
    "Note that this functor is “shallow”, in the sense that we cannot construct nested expressions.\n",
    "We can create expression trees for RingF using a recursive data type Ring. In categorical\n",
    "terms, this Ring data type corresponds to the initial algebra for our functor RingF:"
   ]
  },
  {
   "cell_type": "code",
   "execution_count": 81,
   "id": "8a906787-783f-47f9-b0be-3bbe79d11fc0",
   "metadata": {},
   "outputs": [
    {
     "data": {
      "text/plain": [
       "unfix (generic function with 4 methods)"
      ]
     },
     "execution_count": 81,
     "metadata": {},
     "output_type": "execute_result"
    }
   ],
   "source": [
    "abstract type Ring end\n",
    "struct RZero <: Ring end\n",
    "struct ROne <: Ring end\n",
    "struct RAdd <: Ring\n",
    "    _1::Ring\n",
    "    _2::Ring\n",
    "end\n",
    "struct RMult <: Ring\n",
    "    _1::Ring\n",
    "    _2::Ring\n",
    "end\n",
    "\n",
    "unfix(x::RZero) = RZeroF()\n",
    "unfix(x::ROne) = ROneF()\n",
    "unfix(x::RAdd) = RAddF{Ring}(x._1,x._2)\n",
    "unfix(x::RMult) = RMultF{Ring}(x._1,x._2)"
   ]
  },
  {
   "cell_type": "markdown",
   "id": "9be98c63-85c7-425c-86e6-b963a57deccc",
   "metadata": {},
   "source": [
    "The Ring data type represents expression trees, which can be evaluated using an algebra\n",
    "in conjunction with the catamorphism. Remember that the initial algebra has an inverse\n",
    "function $in^{−1}$ that transforms values of the initial algebra, which, in our code is represented\n",
    "by the unfix function. Using the unfix, we can define the catamorphism as:"
   ]
  },
  {
   "cell_type": "code",
   "execution_count": 82,
   "id": "9875034d-3746-46ff-8bce-0fd9d85e8ef3",
   "metadata": {},
   "outputs": [
    {
     "data": {
      "text/plain": [
       "cata (generic function with 1 method)"
      ]
     },
     "execution_count": 82,
     "metadata": {},
     "output_type": "execute_result"
    }
   ],
   "source": [
    "cata(alg::Function, a::Ring) = alg(fmap(x->cata(alg,x), unfix(a)))"
   ]
  },
  {
   "cell_type": "markdown",
   "id": "7071bcdf-390f-4c4b-926b-d74e0bc0ec6c",
   "metadata": {},
   "source": [
    "The power of this abstraction is that we use Ring to store expressions, which can then be\n",
    "evaluated by combining algebras over RingF with the catamorphism. Different algebras can\n",
    "be used in order to evaluate the expressions differently."
   ]
  },
  {
   "cell_type": "code",
   "execution_count": 85,
   "id": "4dabf360-2a17-456e-8b9c-fd3bf3d62a7a",
   "metadata": {},
   "outputs": [
    {
     "data": {
      "text/plain": [
       "RAdd(RAdd(ROne(), ROne()), RMult(ROne(), RZero()))"
      ]
     },
     "execution_count": 85,
     "metadata": {},
     "output_type": "execute_result"
    }
   ],
   "source": [
    "# Simple algebra using regular sum and multiplicat\n",
    "alg1(a::RZeroF) = 0\n",
    "alg1(a::ROneF) = 1\n",
    "alg1(a::RAddF{Int}) = a._1 + a._2\n",
    "alg1(a::RMultF{Int}) = a._1 * a._2\n",
    "\n",
    "# Special algebra for strings\n",
    "alg2(a::RZeroF) = \" hello \"\n",
    "alg2(a::ROneF) = \" bye \"\n",
    "alg2(a::RAddF{String}) = a._2 * a._1\n",
    "alg2(a::RMultF{String}) = a._1 * a._2\n",
    "\n",
    "# Expression representing ((1+1) + (1*0))\n",
    "expression = RAdd(RAdd(ROne(),ROne()),RMult(ROne(),RZero()))"
   ]
  },
  {
   "cell_type": "code",
   "execution_count": 86,
   "id": "9c5692d8-bd38-4004-87e0-10537c36a792",
   "metadata": {},
   "outputs": [
    {
     "data": {
      "text/plain": [
       "2"
      ]
     },
     "execution_count": 86,
     "metadata": {},
     "output_type": "execute_result"
    }
   ],
   "source": [
    "cata(alg1, expression)"
   ]
  },
  {
   "cell_type": "code",
   "execution_count": 87,
   "id": "ccafd589-4b8f-4b26-8f7d-baa1e208efc6",
   "metadata": {},
   "outputs": [
    {
     "data": {
      "text/plain": [
       "\" bye  hello  bye  bye \""
      ]
     },
     "execution_count": 87,
     "metadata": {},
     "output_type": "execute_result"
    }
   ],
   "source": [
    "cata(alg2, expression)"
   ]
  },
  {
   "cell_type": "markdown",
   "id": "f62918f9-233f-46a4-8272-3244a41ce7d3",
   "metadata": {},
   "source": [
    "_____________________________________________ "
   ]
  },
  {
   "cell_type": "markdown",
   "id": "8b29551c-ba99-4b6a-99b7-281f2f0eb770",
   "metadata": {},
   "source": [
    "### Exercise:\n",
    "Try to implement an example of coalgebra, terminal coalgebra, and anamorphism.\n",
    "Remember, we start with some functor, and then create its recursive counter-part, which\n",
    "serves as the carrier of the final coalgebra."
   ]
  },
  {
   "cell_type": "code",
   "execution_count": null,
   "id": "660d4186-1b0c-4c94-9d74-b28f085f02b0",
   "metadata": {},
   "outputs": [],
   "source": []
  }
 ],
 "metadata": {
  "kernelspec": {
   "display_name": "Julia 1.11.2",
   "language": "julia",
   "name": "julia-1.11"
  },
  "language_info": {
   "file_extension": ".jl",
   "mimetype": "application/julia",
   "name": "julia",
   "version": "1.11.2"
  }
 },
 "nbformat": 4,
 "nbformat_minor": 5
}
