{
 "cells": [
  {
   "cell_type": "markdown",
   "id": "2f6a9319-fd8a-4e03-b9f1-fbb9a8400d45",
   "metadata": {},
   "source": [
    "# Julia’s Type System\n",
    "\n",
    "In Julia, types can be concrete or abstract. Only concrete types can be instantiated, while\n",
    "abstract types are ways of grouping these types. For example, Int and Float64 are concrete\n",
    "types, while Number is an abstract type that contains both, i.e. Int and Float64 are subtypes\n",
    "of Number. We can check whether a type is a subtype of another type via the <: operator, as\n",
    "shown below."
   ]
  },
  {
   "cell_type": "code",
   "execution_count": 1,
   "id": "831ad71c-fc0e-4e87-bd81-d17efce4c52a",
   "metadata": {},
   "outputs": [
    {
     "data": {
      "text/plain": [
       "(true, true)"
      ]
     },
     "execution_count": 1,
     "metadata": {},
     "output_type": "execute_result"
    }
   ],
   "source": [
    "Int <: Number, Float64 <: Number"
   ]
  },
  {
   "cell_type": "markdown",
   "id": "8601a2c4-3c62-4e18-b1a4-f5125700b85d",
   "metadata": {},
   "source": [
    "Types are enforced in the input of functions, e.g. f(x::Int, y::String). Yet, the output\n",
    "type of a function is not enforced. This type enforcing allows for a feature called multiple\n",
    "dispatch. In Julia, a function has methods, which are specific implementations of the function\n",
    "for different combinations of argument types. Thus, we can have something like:"
   ]
  },
  {
   "cell_type": "code",
   "execution_count": 5,
   "id": "2a4e1062-8046-4c27-a934-ba906c89c6d2",
   "metadata": {},
   "outputs": [
    {
     "data": {
      "text/plain": [
       "4"
      ]
     },
     "execution_count": 5,
     "metadata": {},
     "output_type": "execute_result"
    }
   ],
   "source": [
    "f(x::Int) = x^2\n",
    "f(x::Int,y) = (x^2, y)\n",
    "f(x::String) = \"a string!\"\n",
    "f(x::Int, y::Int) = x + y\n",
    "f(2)"
   ]
  },
  {
   "cell_type": "code",
   "execution_count": 6,
   "id": "406dba2d-03fe-46c9-8b8b-4079be86ed38",
   "metadata": {},
   "outputs": [
    {
     "data": {
      "text/plain": [
       "(4, \"ok\")"
      ]
     },
     "execution_count": 6,
     "metadata": {},
     "output_type": "execute_result"
    }
   ],
   "source": [
    "f(2,\"ok\")"
   ]
  },
  {
   "cell_type": "code",
   "execution_count": 7,
   "id": "adcd2d48-d967-4373-8306-12f263d79475",
   "metadata": {},
   "outputs": [
    {
     "data": {
      "text/plain": [
       "\"a string!\""
      ]
     },
     "execution_count": 7,
     "metadata": {},
     "output_type": "execute_result"
    }
   ],
   "source": [
    "f(\"test\")"
   ]
  },
  {
   "cell_type": "code",
   "execution_count": 8,
   "id": "7eeb3b6c-8f1a-4ea9-ba84-c432ff5ceab7",
   "metadata": {},
   "outputs": [
    {
     "data": {
      "text/plain": [
       "2"
      ]
     },
     "execution_count": 8,
     "metadata": {},
     "output_type": "execute_result"
    }
   ],
   "source": [
    "f(1,1)"
   ]
  },
  {
   "cell_type": "markdown",
   "id": "472885d2-7b8b-4cbb-87e1-ee9dca6e1789",
   "metadata": {},
   "source": [
    "Note that the same function f was defined several times, one for each dispatching argument.\n",
    "Each of these instances is called a method. When we do not define the type of the argument,\n",
    "Julia uses the type Any, which means any type. If a function has a method with a more\n",
    "specific type, the compiler tries to call the more specialized method. In our example, the\n",
    "method f(x::Int, y::Int) was more specialized than f(x::Int, y). This idea of a more\n",
    "specialized method is possible due to the fact that types have a hierarchy as we have shown\n",
    "in the example with types Int, Float64 and Numbers.\n",
    "Although the return type of a function is not enforced, Julia provides a syntax for specifying\n",
    "it. This can be done by declaring the function with ::, and by doing so, Julia tries to convert\n",
    "the return value to the output type."
   ]
  },
  {
   "cell_type": "code",
   "execution_count": 9,
   "id": "5bab418a-0e39-4991-89fc-bf03a9f26e93",
   "metadata": {},
   "outputs": [
    {
     "data": {
      "text/plain": [
       "2"
      ]
     },
     "execution_count": 9,
     "metadata": {},
     "output_type": "execute_result"
    }
   ],
   "source": [
    "function f(x, y)::Float64\n",
    "    return x + y\n",
    "end\n",
    "f(1, 1)"
   ]
  },
  {
   "cell_type": "markdown",
   "id": "4b217a00-befd-4982-9615-697498320ab2",
   "metadata": {},
   "source": [
    "Besides the default types that Julia provides, we can create new types. By creating new\n",
    "types, we can define functions that take variables with these new types as arguments and\n",
    "dispatch on them. One way of defining a new type is via a struct:"
   ]
  },
  {
   "cell_type": "code",
   "execution_count": 12,
   "id": "32f71f9a-e21d-47c6-ab8e-505e0fd36f8a",
   "metadata": {},
   "outputs": [
    {
     "data": {
      "text/plain": [
       "Point2D(1, 1)"
      ]
     },
     "execution_count": 12,
     "metadata": {},
     "output_type": "execute_result"
    }
   ],
   "source": [
    "struct Point2D\n",
    "    x::Real\n",
    "    y::Real\n",
    "end\n",
    "p = Point2D(1,1)"
   ]
  },
  {
   "cell_type": "code",
   "execution_count": 13,
   "id": "65ea1def-e6ce-4c8f-b95a-a505c1fb1834",
   "metadata": {},
   "outputs": [
    {
     "data": {
      "text/plain": [
       "1"
      ]
     },
     "execution_count": 13,
     "metadata": {},
     "output_type": "execute_result"
    }
   ],
   "source": [
    "p.x"
   ]
  },
  {
   "cell_type": "code",
   "execution_count": 14,
   "id": "cda87b43-d251-4137-8e7d-46e053bacf58",
   "metadata": {},
   "outputs": [
    {
     "data": {
      "text/plain": [
       "1"
      ]
     },
     "execution_count": 14,
     "metadata": {},
     "output_type": "execute_result"
    }
   ],
   "source": [
    "getproperty(p, :x)"
   ]
  },
  {
   "cell_type": "markdown",
   "id": "f5746454-4fa7-4480-a1fd-7353de203028",
   "metadata": {},
   "source": [
    "Structs are by default immutable, which is good for FP. Yet, we can define mutable structs\n",
    "by simply adding the word “mutable” before the “struct”. Here is a more interesting example\n",
    "of how to use structs, type hierarchy and multiple-dispatch:"
   ]
  },
  {
   "cell_type": "code",
   "execution_count": 15,
   "id": "afabc2a4-a5d9-4b29-ba21-f4eac04ad96e",
   "metadata": {},
   "outputs": [
    {
     "data": {
      "text/plain": [
       "area (generic function with 3 methods)"
      ]
     },
     "execution_count": 15,
     "metadata": {},
     "output_type": "execute_result"
    }
   ],
   "source": [
    "abstract type Shape end\n",
    "struct Point3D\n",
    "    x::Real\n",
    "    y::Real\n",
    "    z::Real\n",
    "end\n",
    "struct Square <: Shape\n",
    "    center::Point3D\n",
    "    length::Real\n",
    "end\n",
    "struct Circle <: Shape\n",
    "    center::Point3D\n",
    "    radius::Real\n",
    "end\n",
    "area(s::Shape) = 0.0\n",
    "area(s::Circle) = π ∗ s.radius^2\n",
    "area(s::Square) = s.length^2"
   ]
  },
  {
   "cell_type": "code",
   "execution_count": 17,
   "id": "c97ddd69-6dcb-4367-9647-92fc851ce5bd",
   "metadata": {},
   "outputs": [
    {
     "data": {
      "text/plain": [
       "100"
      ]
     },
     "execution_count": 17,
     "metadata": {},
     "output_type": "execute_result"
    }
   ],
   "source": [
    "s = Square(Point3D(0,0,0),10)\n",
    "area(s)"
   ]
  },
  {
   "cell_type": "markdown",
   "id": "ad174723-b8b6-4e03-aef7-928ff61a0725",
   "metadata": {},
   "source": [
    "In our example, we set the default area of a shape to zero by defining our area(s::Shape)\n",
    "equal to 0.0. For the shapes that we know how to compute the area, we write the formulas\n",
    "(e.g. square and circle). Note that we wrote Square <: Shape to indicate that both of our\n",
    "structs are subtypes of Shape. The type Square and the type Circle do not have methods\n",
    "themselves. We instead define functions that dispatch on the desired type. This illustrates\n",
    "how Julia is somewhat FP oriented, but not all the way, since we do not have output type\n",
    "enforcing like, for example, in Haskell.\n",
    "\n",
    "Types can be parametric, e.g. abstract type MyType{T} end. Such parametric types carry\n",
    "a family of types, one for each type T, with MyType also being a type itself. Structs can also\n",
    "be parametric and can use the type parameter for its field values:"
   ]
  },
  {
   "cell_type": "code",
   "execution_count": 21,
   "id": "72741c37-71af-4619-9be1-69888abd46c2",
   "metadata": {},
   "outputs": [
    {
     "data": {
      "text/plain": [
       "MyStruct{String}(\"A\", 1)"
      ]
     },
     "execution_count": 21,
     "metadata": {},
     "output_type": "execute_result"
    }
   ],
   "source": [
    "abstract type MyType{T} end\n",
    "struct MyStruct{T} <: MyType{T}\n",
    "    x::T\n",
    "    y::Int\n",
    "end\n",
    "MyStruct(\"A\",1)"
   ]
  },
  {
   "cell_type": "code",
   "execution_count": 22,
   "id": "37359458-0a47-4862-ac44-7c401d7e6b70",
   "metadata": {},
   "outputs": [
    {
     "data": {
      "text/plain": [
       "true"
      ]
     },
     "execution_count": 22,
     "metadata": {},
     "output_type": "execute_result"
    }
   ],
   "source": [
    "MyStruct{Int} <: MyType"
   ]
  },
  {
   "cell_type": "code",
   "execution_count": 23,
   "id": "ce43f71a-af1a-4ed8-b98b-d05a63d5df1e",
   "metadata": {},
   "outputs": [
    {
     "data": {
      "text/plain": [
       "true"
      ]
     },
     "execution_count": 23,
     "metadata": {},
     "output_type": "execute_result"
    }
   ],
   "source": [
    "MyStruct{Int} <: MyType{<: Real}"
   ]
  },
  {
   "cell_type": "code",
   "execution_count": 24,
   "id": "06b8edac-3a6b-4966-97a0-da7ce8aaae34",
   "metadata": {},
   "outputs": [
    {
     "data": {
      "text/plain": [
       "false"
      ]
     },
     "execution_count": 24,
     "metadata": {},
     "output_type": "execute_result"
    }
   ],
   "source": [
    "MyStruct{Int} <: MyType{Real}"
   ]
  },
  {
   "cell_type": "markdown",
   "id": "95daba9b-18dd-46a9-9000-96bf0355a2d8",
   "metadata": {},
   "source": [
    "Note that subtyping for parametric types might be unintuitive. As seen in the code example\n",
    "above, MyStruct{Int} is not actually a subtype of MyType{Real}, but of MyType{<:Real}\n",
    "and of MyType. Type parameters can also be used for multiple-dispatch."
   ]
  }
 ],
 "metadata": {
  "kernelspec": {
   "display_name": "Julia 1.11.2",
   "language": "julia",
   "name": "julia-1.11"
  },
  "language_info": {
   "file_extension": ".jl",
   "mimetype": "application/julia",
   "name": "julia",
   "version": "1.11.2"
  }
 },
 "nbformat": 4,
 "nbformat_minor": 5
}
