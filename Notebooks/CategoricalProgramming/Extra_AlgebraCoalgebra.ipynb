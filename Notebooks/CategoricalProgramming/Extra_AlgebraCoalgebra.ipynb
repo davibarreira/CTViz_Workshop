{
 "cells": [
  {
   "cell_type": "markdown",
   "id": "bbfe3e5b-a95d-4c5c-b9f0-aee446e8760d",
   "metadata": {},
   "source": [
    "# Exploring Algebras and Coalgebras\n",
    "\n",
    "This notebooks explores some examples of F-Algebras and F-Coalgebras. It uses the package\n",
    "`MLStyle.jl` in order to provide some macros that eases the process of writing in a functional programming style."
   ]
  },
  {
   "cell_type": "code",
   "execution_count": 11,
   "id": "09bd81cb-3801-493a-a576-c7d35edbdbae",
   "metadata": {},
   "outputs": [
    {
     "name": "stderr",
     "output_type": "stream",
     "text": [
      "\u001b[32m\u001b[1m  Activating\u001b[22m\u001b[39m project at `~/Documents/GitHub/CTViz_Workshop/Notebooks`\n"
     ]
    }
   ],
   "source": [
    "using Pkg\n",
    "Pkg.activate(\".\")\n",
    "using MLStyle"
   ]
  },
  {
   "cell_type": "markdown",
   "id": "4075929d-79c7-4f6b-8f94-d3ede3000687",
   "metadata": {},
   "source": [
    "# Example 1\n",
    "\n",
    "In this example we implement the functor $F_C X := 1 + C \\times X$, which has as fixed point the data type of\n",
    "lists containing values of type `C`, i.e. $List_C = 1 + C \\times List_C$.\n",
    "\n",
    "Thus, note that varying `C` we get the list of different types."
   ]
  },
  {
   "cell_type": "markdown",
   "id": "b9b632f6-9987-4946-b73e-cbcb8897491f",
   "metadata": {},
   "source": [
    "### Catamorphism"
   ]
  },
  {
   "cell_type": "markdown",
   "id": "33854052-246e-4496-acd3-811336846382",
   "metadata": {},
   "source": [
    "\n",
    "We can perceive that there is a general construction. Which is defined as\n",
    "\n",
    "```Haskell\n",
    "cata alg = alg . fmap (cata alg) . unFix\n",
    "```\n",
    "\n",
    "A theorem by Lambek states that for the initial F-Algebra, which is `(List{c}, fix)` in our case,\n",
    "there is an inverse function to `fix`, which we call `unfix`. While\n",
    "`fix(x::ListF{c, List{c}})::List{c}`, the inverse take a vaue of `List{c}` and returns\n",
    "a value of type `ListF{c,List{c}}`. Let's implement this."
   ]
  },
  {
   "cell_type": "code",
   "execution_count": 36,
   "id": "7c1119f8-de07-4117-b972-7051fd3092b8",
   "metadata": {},
   "outputs": [
    {
     "data": {
      "text/plain": [
       "cata (generic function with 2 methods)"
      ]
     },
     "execution_count": 36,
     "metadata": {},
     "output_type": "execute_result"
    }
   ],
   "source": [
    "cata(alg::Function, x) = alg(fmap(y -> cata(alg, y), unfix(x)))\n",
    "cata(alg::Function) = x -> cata(alg,x) "
   ]
  },
  {
   "cell_type": "markdown",
   "id": "9d75361d-5b18-4094-b7c1-0c520befbe50",
   "metadata": {},
   "source": [
    "### Implementing the Initial Algebra"
   ]
  },
  {
   "cell_type": "code",
   "execution_count": 41,
   "id": "8b6ac80d-22d7-493f-bebc-3f3b93672dd4",
   "metadata": {},
   "outputs": [
    {
     "data": {
      "text/plain": [
       "unfix (generic function with 2 methods)"
      ]
     },
     "execution_count": 41,
     "metadata": {},
     "output_type": "execute_result"
    }
   ],
   "source": [
    "struct NilF end\n",
    "struct ConsF{c,a}\n",
    "    _1::c\n",
    "    _2::a\n",
    "end\n",
    "ListF{c,a} = Union{NilF, ConsF{c,a}}\n",
    "fmap(f::Function, x::ConsF) = ConsF(x._1,f(x._2))\n",
    "fmap(f::Function, x::NilF)  = NilF()\n",
    "\n",
    "\n",
    "# data List c = Nil | Cons c (List c) ----- In Haskell\n",
    "struct Nil end\n",
    "struct Cons{c}\n",
    "    _1::c\n",
    "    _2::Union{Nil, Cons{c}}\n",
    "end\n",
    "List{c} = Union{Nil, Cons{c}}\n",
    "\n",
    "fix(::NilF)  = Nil()\n",
    "fix(x::ConsF)= Cons(x._1,x._2)\n",
    "\n",
    "unfix(::Nil) = NilF()\n",
    "unfix(x::Cons)= ConsF(x._1,x._2)"
   ]
  },
  {
   "cell_type": "markdown",
   "id": "ed691fc5-fa8f-4c77-b3b9-adcaa613b0f3",
   "metadata": {},
   "source": [
    "Auxliar function to turn common Vector from Julia [] into List "
   ]
  },
  {
   "cell_type": "code",
   "execution_count": 42,
   "id": "cc1ac73e-36ed-4dc5-aff1-d82d9c5c913d",
   "metadata": {},
   "outputs": [
    {
     "data": {
      "text/plain": [
       "Cons{Float64}(1.0, Cons{Float64}(2.0, Cons{Float64}(3.0, Nil())))"
      ]
     },
     "execution_count": 42,
     "metadata": {},
     "output_type": "execute_result"
    }
   ],
   "source": [
    "function vectolist(x::Vector)\n",
    "    if x == []\n",
    "        return Nil()\n",
    "    end\n",
    "    (n,ns) = Iterators.peel(x)\n",
    "    ns = collect(ns)\n",
    "    return Cons(n,vectolist(ns))\n",
    "end\n",
    "\n",
    "listtovec(x::Nil) = []\n",
    "listtovec(x::Cons{T}) where T = convert(Vector{T},vcat(x._1,listtovec(x._2)))\n",
    "\n",
    "vectolist([1.0,2.0,3.0])"
   ]
  },
  {
   "cell_type": "markdown",
   "id": "57d6e6bd-7bdb-4223-bcef-d985c7d3e6b5",
   "metadata": {},
   "source": [
    "### F-Algebra"
   ]
  },
  {
   "cell_type": "code",
   "execution_count": 43,
   "id": "aefc5508-31a8-441c-9aa0-e4d75f8b1a4d",
   "metadata": {},
   "outputs": [],
   "source": [
    "algSum(::NilF)   = 0\n",
    "algSum(x::ConsF{Int,Int}) = x._1 + x._2;\n",
    "\n",
    "algProd(::NilF)   = 1\n",
    "algProd(x::ConsF{Int,Int}) = x._1 * x._2;\n",
    "\n",
    "\n",
    "\n",
    "algStr(::NilF)   = \"\"\n",
    "algStr(x::ConsF{String,String}) = x._1 * x._2; # Note that the functor is actually F{Int} Int\n",
    "# Thus, ConsF{String,String} is actually F{String} String\n",
    "# Therefore, algStr : F{String} String -> String"
   ]
  },
  {
   "cell_type": "code",
   "execution_count": 44,
   "id": "de5379d8-6f3e-4164-8818-e178abda670a",
   "metadata": {},
   "outputs": [
    {
     "name": "stdout",
     "output_type": "stream",
     "text": [
      "cata(algSum, vectolist([1, 2, 3, 4])) = 10\n",
      "cata(algProd, vectolist([1, 2, 3, 4])) = 24\n",
      "cata(algStr, vectolist([\"a\", \"b\", \"c\"])) = \"abc\"\n"
     ]
    }
   ],
   "source": [
    "@show cata(algSum, vectolist([1,2,3,4]))\n",
    "@show cata(algProd, vectolist([1,2,3,4]));\n",
    "@show cata(algStr, vectolist([\"a\",\"b\",\"c\"]));"
   ]
  },
  {
   "cell_type": "markdown",
   "id": "cc8d5454-7107-4740-9622-fe7b752e1583",
   "metadata": {},
   "source": [
    "### Coalgebras and Anamorphism\n",
    "The co-algebra is the dual of an F-Algebra:\n",
    "$$\n",
    "a \\to F a\n",
    "$$\n",
    "\n",
    "Note that the catamorphism takes a value of `Fix F` and an algebra `Fa->a` and returns\n",
    "a value of type `a`.\n",
    "\n",
    "For Co-Algebras, the analogous of a catamorphism is an anamorphism. It takes a coalgebra\n",
    "`a->Fa` and a value of type `a`, and returns a value of type `Fix F`.\n",
    "\n",
    "```\n",
    "ana :: Functor f => Coalgebra f a -> a -> Fix f\n",
    "ana coa = In . fmap (ana coa) . coa\n",
    "``` "
   ]
  },
  {
   "cell_type": "code",
   "execution_count": 45,
   "id": "1077373e-1fcf-4424-8f26-0db92d4ac14f",
   "metadata": {},
   "outputs": [
    {
     "data": {
      "text/plain": [
       "ana (generic function with 2 methods)"
      ]
     },
     "execution_count": 45,
     "metadata": {},
     "output_type": "execute_result"
    }
   ],
   "source": [
    "# Let coalg: A -> FA\n",
    "ana(coalg::Function, x) = fix(fmap(y -> ana(coalg, y), coalg(x)))\n",
    "ana(coalg::Function) = x -> ana(coalg,x) "
   ]
  },
  {
   "cell_type": "code",
   "execution_count": 46,
   "id": "4966ac58-03eb-403e-843b-5adc4b902dce",
   "metadata": {},
   "outputs": [
    {
     "data": {
      "text/plain": [
       "ConsF{Int64, Int64}(10, 9)"
      ]
     },
     "execution_count": 46,
     "metadata": {},
     "output_type": "execute_result"
    }
   ],
   "source": [
    "coalgSplitInt(n::Int) = @match n begin\n",
    "    if n < 1 end  => NilF()\n",
    "    n => ConsF(n,n-1)\n",
    "end\n",
    "\n",
    "coalgSplitInt(10)"
   ]
  },
  {
   "cell_type": "code",
   "execution_count": 47,
   "id": "99bbbb26-f5e1-4f2e-9b33-47f3cf46cb87",
   "metadata": {},
   "outputs": [
    {
     "data": {
      "text/plain": [
       "Cons{Int64}(5, Cons{Int64}(4, Cons{Int64}(3, Cons{Int64}(2, Cons{Int64}(1, Nil())))))"
      ]
     },
     "execution_count": 47,
     "metadata": {},
     "output_type": "execute_result"
    }
   ],
   "source": [
    "ana(coalgSplitInt, 5)"
   ]
  },
  {
   "cell_type": "markdown",
   "id": "360c8b87-ed5f-4384-9c2f-743e8e6dd576",
   "metadata": {},
   "source": [
    "### Hylomorphism\n",
    "\n",
    "Let us now implement the factorial computation as a hylomorphism.\n",
    "There are distinct ways to compute hylomorphisms. One is using anamorphisms\n",
    "and catamorphisms:\n",
    "```\n",
    "    hylo(alg,coalg) = cata(alg) ∘ ana(coalg)\n",
    "    hylo(alg,coalg,x) = cata(alg,ana(coalg,x))\n",
    "```\n",
    "\n",
    "The other way is using hylomorphism recursively:"
   ]
  },
  {
   "cell_type": "code",
   "execution_count": 48,
   "id": "36e73d93-542c-47a4-8f26-344dbfc69f75",
   "metadata": {},
   "outputs": [],
   "source": [
    "hylo(alg, coalg, x) = alg(fmap(y->hylo(alg,coalg,y),coalg(x)));"
   ]
  },
  {
   "cell_type": "markdown",
   "id": "2a54a81f-32e3-4f2e-86fc-665fdea73a67",
   "metadata": {},
   "source": [
    "Then we compute the factorial using our hylo. "
   ]
  },
  {
   "cell_type": "code",
   "execution_count": 49,
   "id": "50608b4f-3ad4-476d-bac2-f4f5ea889239",
   "metadata": {},
   "outputs": [
    {
     "name": "stdout",
     "output_type": "stream",
     "text": [
      "hylo(algProd, coalgSplitInt, 4) = 24\n"
     ]
    }
   ],
   "source": [
    "@show hylo(algProd,coalgSplitInt,4);"
   ]
  },
  {
   "cell_type": "markdown",
   "id": "d3e9ea90-04e3-4856-ab8c-a9b572141a3a",
   "metadata": {},
   "source": [
    "# Example 2"
   ]
  },
  {
   "cell_type": "markdown",
   "id": "b4444151-e074-40c2-bb69-f0ce5bb8e821",
   "metadata": {},
   "source": [
    "We start by defining the `NatF` functor, then the fixed-point `Nat`.\n",
    "To visualize better the results, we implement the `tonat`, `toint` functions to turn our `Nat` values into integers."
   ]
  },
  {
   "cell_type": "code",
   "execution_count": 53,
   "id": "3d9879df-f2b9-4aa0-a856-d993707b2c59",
   "metadata": {},
   "outputs": [
    {
     "name": "stdout",
     "output_type": "stream",
     "text": [
      "toint(Zero()) = 0\n",
      "toint(Succ(Zero())) = 1\n",
      "toint(Succ(Succ(Zero()))) = 2\n",
      "tonat(10) = Succ(Succ(Succ(Succ(Succ(Succ(Succ(Succ(Succ(Succ(Zero()))))))))))\n"
     ]
    }
   ],
   "source": [
    "@data NatF begin\n",
    "    ZeroF()\n",
    "    SuccF(_1)\n",
    "end\n",
    "fmap(f::Function, x::ZeroF)  = ZeroF()\n",
    "fmap(f::Function, x::SuccF) = SuccF(f(x._1))\n",
    "\n",
    "@data Nat begin\n",
    "    Zero()\n",
    "    Succ(Nat)\n",
    "end\n",
    "fmap(f::Function, x::Zero)  = Zero()\n",
    "fmap(f::Function, x::Succ) = Succ(f(x._1))\n",
    "\n",
    "fix(::ZeroF) = Zero()\n",
    "fix(x::SuccF)= Succ(x._1)\n",
    "\n",
    "unfix(::Zero) = ZeroF()\n",
    "unfix(x::Succ)= SuccF(x._1)\n",
    "\n",
    "toint(n::Nat)::Int = @match n begin \n",
    "    Zero() => 0\n",
    "    Succ(x) => toint(x)+1\n",
    "end\n",
    "tonat(i::Int) = @match i begin\n",
    "    if i < 0 end => Zero()\n",
    "    0 => Zero()\n",
    "    i => Succ(tonat(i-1))\n",
    "end\n",
    "\n",
    "@show toint(Zero())\n",
    "@show toint(Succ(Zero()))\n",
    "@show toint(Succ(Succ(Zero())))\n",
    "@show tonat(10);"
   ]
  },
  {
   "cell_type": "markdown",
   "id": "3126dcd1-c610-4774-b217-0d523f19374f",
   "metadata": {},
   "source": [
    "### An F-Algebra and F-Coalgebra\n",
    "\n",
    "We implement the `NatF`-algebras and coalgebra. We then use the hylomorphism."
   ]
  },
  {
   "cell_type": "code",
   "execution_count": 51,
   "id": "fd773117-599e-401e-9e69-df4d10322160",
   "metadata": {},
   "outputs": [
    {
     "data": {
      "text/plain": [
       "\"1111111111\""
      ]
     },
     "execution_count": 51,
     "metadata": {},
     "output_type": "execute_result"
    }
   ],
   "source": [
    "algStr(x::ZeroF) = \"\"\n",
    "algStr(x::SuccF) = x._1*\"1\"\n",
    "\n",
    "coalgInt(i::Int) = @match i begin\n",
    "    if i <= 0 end => ZeroF()\n",
    "    i => SuccF(i-1)\n",
    "end\n",
    "\n",
    "hylo(algStr,coalgInt,10)"
   ]
  },
  {
   "cell_type": "markdown",
   "id": "4b789efe-2e6a-4219-af98-e323e6d3e1e1",
   "metadata": {},
   "source": [
    "### Computing Fibonacci using Hylomorphism\n",
    "\n",
    "We implement the `fib` algebra, and use it in the hylomorphism \n"
   ]
  },
  {
   "cell_type": "code",
   "execution_count": 57,
   "id": "cc5503c5-9b24-4125-87b1-f31fc935e032",
   "metadata": {},
   "outputs": [
    {
     "name": "stdout",
     "output_type": "stream",
     "text": [
      "fib(SuccF((10, 10))) = (10, 20)\n",
      "fib(ZeroF()) = (1, 1)\n",
      "cata(fib, Succ(Succ(Zero()))) = (2, 2)\n",
      "hylo(fib, coalgInt, 10) = (32, 32)\n"
     ]
    }
   ],
   "source": [
    "fib(::ZeroF) = (1,1)\n",
    "fib(x::SuccF) = (x._1[2], x._1[1] + x._1[1])\n",
    "\n",
    "@show fib(SuccF((10,10)))\n",
    "@show fib(ZeroF());\n",
    "\n",
    "@show cata(fib, Succ(Succ(Zero())));\n",
    "\n",
    "@show hylo(fib,coalgInt,10);"
   ]
  },
  {
   "cell_type": "markdown",
   "id": "bba2252d-23c7-455d-894f-c8ee925e12fa",
   "metadata": {},
   "source": [
    "# Example 3 - QSort"
   ]
  },
  {
   "cell_type": "code",
   "execution_count": 58,
   "id": "c5980b14-6d3b-4760-8340-14bfaae58fad",
   "metadata": {},
   "outputs": [
    {
     "data": {
      "text/plain": [
       "NodeF"
      ]
     },
     "execution_count": 58,
     "metadata": {},
     "output_type": "execute_result"
    }
   ],
   "source": [
    "@data TreeF{a} begin\n",
    "    LeafF()\n",
    "    NodeF(Int,::a, ::a)\n",
    "end\n",
    "fmap(f::Function, x::LeafF) = x\n",
    "fmap(f::Function, x::NodeF) = NodeF(x._1,f(x._2),f(x._3))\n",
    "NodeF(x::Int,y::TreeF{T},z::TreeF{T}) where T = NodeF{TreeF{T}}(x,y,z) \n",
    "\n",
    "@data Tree begin\n",
    "    Leaf()\n",
    "    Node(Int,::Tree, ::Tree)\n",
    "end\n",
    "\n",
    "fix(x::LeafF)  = Leaf()\n",
    "fix(x::NodeF)= Node(x._1,x._2,x._3)\n",
    "unfix(x::Leaf)  = LeafF{Any}()\n",
    "unfix(x::Node)= NodeF(x._1,x._2,x._3)\n",
    "\n",
    "NodeF(x::Int,y::Tree, z::Tree) = NodeF{Tree}(x::Int,y,z)"
   ]
  },
  {
   "cell_type": "code",
   "execution_count": 59,
   "id": "aaafd404-245c-4495-859a-8a13b386e020",
   "metadata": {},
   "outputs": [
    {
     "data": {
      "text/plain": [
       "([1, 2, 3, -12, 0, 0, 1], [4, 5, 10])"
      ]
     },
     "execution_count": 59,
     "metadata": {},
     "output_type": "execute_result"
    }
   ],
   "source": [
    "\"\"\"\n",
    "partition(f, x::Vector)\n",
    "Given a list (vector) `x`, it partitions the list\n",
    "in the first occurrence where `f` is satisfied.\n",
    "\"\"\"\n",
    "function partition(f, x::Vector{T}) where T\n",
    "    index = map(f, x)\n",
    "    x[index],x[.!(index)]\n",
    "end\n",
    "\n",
    "#   --------------|---------\n",
    "x = [1,2,3,4,-12,0,5,10,0,1]\n",
    "partition(x-> x ≤ 3,x)"
   ]
  },
  {
   "cell_type": "code",
   "execution_count": 60,
   "id": "c8463399-428b-4d37-bd1c-c96547949be7",
   "metadata": {},
   "outputs": [
    {
     "data": {
      "text/plain": [
       "split (generic function with 1 method)"
      ]
     },
     "execution_count": 60,
     "metadata": {},
     "output_type": "execute_result"
    }
   ],
   "source": [
    "# TreeF-Coalgebra\n",
    "# split : [Int] -> TreeF [Int]\n",
    "function split(ns::Vector{Int})::TreeF{Vector{Int}}\n",
    "    if isempty(ns)\n",
    "        return LeafF{Vector{Int}}()\n",
    "    end\n",
    "    \n",
    "    # Extract head and tail [1,2,3], after peel we get n = 1, ns = [2,3]\n",
    "    # ns comes out as an iterator, hence we use `collect`.\n",
    "    (n,ns) = Iterators.peel(ns)\n",
    "    ns = collect(ns)\n",
    "    \n",
    "    (left, right) = partition(x -> x <= n, ns)\n",
    "    return NodeF(n, left, right)\n",
    "end"
   ]
  },
  {
   "cell_type": "code",
   "execution_count": 61,
   "id": "aefa9441-c8db-418d-bef9-95fa5e865b92",
   "metadata": {},
   "outputs": [],
   "source": [
    "# TreeF-Algebra\n",
    "# TreeF [Int] ->  [Int]\n",
    "toList(x::LeafF) = Int[]\n",
    "toList(x::NodeF{Vector{Int}}) = vcat(x._2,[x._1],x._3);"
   ]
  },
  {
   "cell_type": "code",
   "execution_count": 63,
   "id": "f93d1cca-8809-4737-af1f-8136b53c86cc",
   "metadata": {},
   "outputs": [
    {
     "data": {
      "text/plain": [
       "6-element Vector{Int64}:\n",
       "  0\n",
       "  1\n",
       "  2\n",
       " 10\n",
       " 10\n",
       " 13"
      ]
     },
     "execution_count": 63,
     "metadata": {},
     "output_type": "execute_result"
    }
   ],
   "source": [
    "hylo(toList,split,[13,1,0,2,10,10])"
   ]
  },
  {
   "cell_type": "code",
   "execution_count": 64,
   "id": "f70c38c7-6bfc-4b4c-b571-8d363305800b",
   "metadata": {},
   "outputs": [
    {
     "data": {
      "text/plain": [
       "4-element Vector{Int64}:\n",
       "  2\n",
       "  4\n",
       " 10\n",
       " 10"
      ]
     },
     "execution_count": 64,
     "metadata": {},
     "output_type": "execute_result"
    }
   ],
   "source": [
    "qsort = x::Vector{Int}->hylo(toList,split,x);\n",
    "\n",
    "qsort([10,2,4,10])"
   ]
  }
 ],
 "metadata": {
  "kernelspec": {
   "display_name": "julia 1.11.3",
   "language": "julia",
   "name": "julia-1.11"
  },
  "language_info": {
   "file_extension": ".jl",
   "mimetype": "application/julia",
   "name": "julia",
   "version": "1.11.3"
  }
 },
 "nbformat": 4,
 "nbformat_minor": 5
}
